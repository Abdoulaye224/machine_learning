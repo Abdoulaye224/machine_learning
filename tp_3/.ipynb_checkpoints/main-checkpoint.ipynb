{
 "cells": [
  {
   "cell_type": "markdown",
   "id": "ca6ed036",
   "metadata": {},
   "source": [
    "### Import"
   ]
  },
  {
   "cell_type": "code",
   "execution_count": 127,
   "id": "6d27decd",
   "metadata": {},
   "outputs": [],
   "source": [
    "import pandas as pd\n",
    "import numpy as np\n",
    "import matplotlib.pyplot as plt\n",
    "from sklearn.preprocessing import MinMaxScaler\n",
    "import math as math\n",
    "from keras.models import Sequential\n",
    "from keras.layers import Dense\n",
    "from keras.layers import LSTM, GRU\n",
    "from keras.layers import Dropout\n",
    "from keras.layers import *\n",
    "from sklearn.metrics import mean_squared_error\n",
    "from sklearn.metrics import mean_absolute_error\n",
    "from sklearn.model_selection import train_test_split\n",
    "from keras.callbacks import EarlyStopping\n",
    "from sklearn.metrics import r2_score\n",
    "from sklearn.ensemble import AdaBoostRegressor, RandomForestRegressor, GradientBoostingRegressor\n",
    "from joblib import parallel_backend\n",
    "\n",
    "from time import time\n",
    "from tensorflow.keras.callbacks import TensorBoard\n",
    "import warnings\n",
    "warnings.filterwarnings('ignore')"
   ]
  },
  {
   "cell_type": "markdown",
   "id": "21cef353",
   "metadata": {},
   "source": [
    "### Load data"
   ]
  },
  {
   "cell_type": "code",
   "execution_count": 128,
   "id": "277b3d69",
   "metadata": {},
   "outputs": [
    {
     "data": {
      "text/plain": [
       "1292"
      ]
     },
     "execution_count": 128,
     "metadata": {},
     "output_type": "execute_result"
    }
   ],
   "source": [
    "len(data)"
   ]
  },
  {
   "cell_type": "code",
   "execution_count": 129,
   "id": "a5e8c7ad",
   "metadata": {},
   "outputs": [],
   "source": [
    "VIX = pd.read_fwf('VIX.txt', names=['Year', 'Clos'])"
   ]
  },
  {
   "cell_type": "code",
   "execution_count": 130,
   "id": "170abf8e",
   "metadata": {
    "scrolled": true
   },
   "outputs": [
    {
     "data": {
      "text/html": [
       "<div>\n",
       "<style scoped>\n",
       "    .dataframe tbody tr th:only-of-type {\n",
       "        vertical-align: middle;\n",
       "    }\n",
       "\n",
       "    .dataframe tbody tr th {\n",
       "        vertical-align: top;\n",
       "    }\n",
       "\n",
       "    .dataframe thead th {\n",
       "        text-align: right;\n",
       "    }\n",
       "</style>\n",
       "<table border=\"1\" class=\"dataframe\">\n",
       "  <thead>\n",
       "    <tr style=\"text-align: right;\">\n",
       "      <th></th>\n",
       "      <th>Year</th>\n",
       "      <th>Clos</th>\n",
       "    </tr>\n",
       "  </thead>\n",
       "  <tbody>\n",
       "    <tr>\n",
       "      <th>0</th>\n",
       "      <td>06/01/1995</td>\n",
       "      <td>13,13</td>\n",
       "    </tr>\n",
       "    <tr>\n",
       "      <th>1</th>\n",
       "      <td>13/01/1995</td>\n",
       "      <td>11,1</td>\n",
       "    </tr>\n",
       "    <tr>\n",
       "      <th>2</th>\n",
       "      <td>20/01/1995</td>\n",
       "      <td>12,15</td>\n",
       "    </tr>\n",
       "    <tr>\n",
       "      <th>3</th>\n",
       "      <td>27/01/1995</td>\n",
       "      <td>11,25</td>\n",
       "    </tr>\n",
       "    <tr>\n",
       "      <th>4</th>\n",
       "      <td>03/02/1995</td>\n",
       "      <td>10,98</td>\n",
       "    </tr>\n",
       "  </tbody>\n",
       "</table>\n",
       "</div>"
      ],
      "text/plain": [
       "         Year   Clos\n",
       "0  06/01/1995  13,13\n",
       "1  13/01/1995   11,1\n",
       "2  20/01/1995  12,15\n",
       "3  27/01/1995  11,25\n",
       "4  03/02/1995  10,98"
      ]
     },
     "execution_count": 130,
     "metadata": {},
     "output_type": "execute_result"
    }
   ],
   "source": [
    "VIX.head()"
   ]
  },
  {
   "cell_type": "code",
   "execution_count": 131,
   "id": "679be234",
   "metadata": {},
   "outputs": [],
   "source": [
    "data = pd.read_fwf('SPX.txt', names=['Year', 'Clos'])"
   ]
  },
  {
   "cell_type": "code",
   "execution_count": 132,
   "id": "1cbc7a51",
   "metadata": {},
   "outputs": [
    {
     "data": {
      "text/html": [
       "<div>\n",
       "<style scoped>\n",
       "    .dataframe tbody tr th:only-of-type {\n",
       "        vertical-align: middle;\n",
       "    }\n",
       "\n",
       "    .dataframe tbody tr th {\n",
       "        vertical-align: top;\n",
       "    }\n",
       "\n",
       "    .dataframe thead th {\n",
       "        text-align: right;\n",
       "    }\n",
       "</style>\n",
       "<table border=\"1\" class=\"dataframe\">\n",
       "  <thead>\n",
       "    <tr style=\"text-align: right;\">\n",
       "      <th></th>\n",
       "      <th>Year</th>\n",
       "      <th>Clos</th>\n",
       "    </tr>\n",
       "  </thead>\n",
       "  <tbody>\n",
       "    <tr>\n",
       "      <th>0</th>\n",
       "      <td>06/01/1995</td>\n",
       "      <td>460,68</td>\n",
       "    </tr>\n",
       "    <tr>\n",
       "      <th>1</th>\n",
       "      <td>13/01/1995</td>\n",
       "      <td>465,97</td>\n",
       "    </tr>\n",
       "    <tr>\n",
       "      <th>2</th>\n",
       "      <td>20/01/1995</td>\n",
       "      <td>464,78</td>\n",
       "    </tr>\n",
       "    <tr>\n",
       "      <th>3</th>\n",
       "      <td>27/01/1995</td>\n",
       "      <td>470,39</td>\n",
       "    </tr>\n",
       "    <tr>\n",
       "      <th>4</th>\n",
       "      <td>03/02/1995</td>\n",
       "      <td>478,64</td>\n",
       "    </tr>\n",
       "  </tbody>\n",
       "</table>\n",
       "</div>"
      ],
      "text/plain": [
       "         Year    Clos\n",
       "0  06/01/1995  460,68\n",
       "1  13/01/1995  465,97\n",
       "2  20/01/1995  464,78\n",
       "3  27/01/1995  470,39\n",
       "4  03/02/1995  478,64"
      ]
     },
     "execution_count": 132,
     "metadata": {},
     "output_type": "execute_result"
    }
   ],
   "source": [
    "data.head()"
   ]
  },
  {
   "cell_type": "markdown",
   "id": "ab28ef36",
   "metadata": {},
   "source": [
    "## Data préparation"
   ]
  },
  {
   "cell_type": "markdown",
   "id": "32b4c746",
   "metadata": {},
   "source": [
    "> Using onlye the Clos column"
   ]
  },
  {
   "cell_type": "code",
   "execution_count": 133,
   "id": "02f0e5d2",
   "metadata": {},
   "outputs": [],
   "source": [
    "data['Year'] = pd.to_datetime(data['Year'])\n",
    "#data['Year']= data['Year'].dt.strftime(\"%Y-%m-%d\")"
   ]
  },
  {
   "cell_type": "code",
   "execution_count": 134,
   "id": "a0dcb246",
   "metadata": {},
   "outputs": [],
   "source": [
    "data['Clos'] = data['Clos'].apply(lambda x: x.replace(',', '.'))\n",
    "data['Clos']= data['Clos'].astype(float)"
   ]
  },
  {
   "cell_type": "code",
   "execution_count": 135,
   "id": "a0a94163",
   "metadata": {},
   "outputs": [],
   "source": [
    "interval_data = datetime(2012, 1, 1)"
   ]
  },
  {
   "cell_type": "code",
   "execution_count": 136,
   "id": "90f4c45e",
   "metadata": {},
   "outputs": [],
   "source": [
    "scaler = MinMaxScaler(feature_range=(0,1))"
   ]
  },
  {
   "cell_type": "markdown",
   "id": "d4923649",
   "metadata": {},
   "source": [
    "<H3 style=\"color: blue\"> Train data </H3>"
   ]
  },
  {
   "cell_type": "code",
   "execution_count": 137,
   "id": "684cb867",
   "metadata": {},
   "outputs": [],
   "source": [
    "train_data_tmp = data[data['Year']<interval_data]"
   ]
  },
  {
   "cell_type": "code",
   "execution_count": 138,
   "id": "6e879985",
   "metadata": {},
   "outputs": [],
   "source": [
    "train = np.array(train_data_tmp['Clos'])\n",
    "\n",
    "train = train.reshape((len(train_data_tmp), 1))"
   ]
  },
  {
   "cell_type": "code",
   "execution_count": 139,
   "id": "4008fa9e",
   "metadata": {},
   "outputs": [],
   "source": [
    "train_data = scaler.fit_transform(train)"
   ]
  },
  {
   "cell_type": "code",
   "execution_count": 140,
   "id": "4cc1caec",
   "metadata": {},
   "outputs": [],
   "source": [
    "x_train = []\n",
    "y_train = []\n",
    "\n",
    "for x in range(100, len(train_data)):\n",
    "    x_train.append(train_data[x-100:x, 0])\n",
    "    y_train.append(train_data[x, 0])\n",
    "\n",
    "x_train, y_train = np.array(x_train), np.array(y_train)\n",
    "x_train = np.reshape(x_train, (x_train.shape[0], x_train.shape[1], 1))"
   ]
  },
  {
   "cell_type": "code",
   "execution_count": 141,
   "id": "15f64b84",
   "metadata": {},
   "outputs": [
    {
     "data": {
      "text/plain": [
       "(787, 100, 1)"
      ]
     },
     "execution_count": 141,
     "metadata": {},
     "output_type": "execute_result"
    }
   ],
   "source": [
    "x_train.shape\n"
   ]
  },
  {
   "cell_type": "markdown",
   "id": "c59e4793",
   "metadata": {},
   "source": [
    "<H3 style=\"color: blue\"> Test data </H3>"
   ]
  },
  {
   "cell_type": "code",
   "execution_count": 142,
   "id": "90a6788a",
   "metadata": {},
   "outputs": [],
   "source": [
    "test_data_tmp = data[data['Year']>interval_data]"
   ]
  },
  {
   "cell_type": "code",
   "execution_count": 143,
   "id": "ed7ff063",
   "metadata": {},
   "outputs": [],
   "source": [
    "test = np.array(test_data_tmp['Clos'])\n",
    "\n",
    "test = test.reshape((len(test_data_tmp), 1))"
   ]
  },
  {
   "cell_type": "code",
   "execution_count": 144,
   "id": "69d05909",
   "metadata": {},
   "outputs": [],
   "source": [
    "test_data = scaler.fit_transform(test)"
   ]
  },
  {
   "cell_type": "code",
   "execution_count": 145,
   "id": "cb449a23",
   "metadata": {},
   "outputs": [
    {
     "data": {
      "text/plain": [
       "405"
      ]
     },
     "execution_count": 145,
     "metadata": {},
     "output_type": "execute_result"
    }
   ],
   "source": [
    "len(test_data)"
   ]
  },
  {
   "cell_type": "code",
   "execution_count": 146,
   "id": "e16dd330",
   "metadata": {},
   "outputs": [],
   "source": [
    "X_data = np.array(data['Clos'])\n",
    "X_data = X_data.reshape((1292, 1))"
   ]
  },
  {
   "cell_type": "code",
   "execution_count": 162,
   "id": "09e3a244",
   "metadata": {
    "collapsed": true
   },
   "outputs": [
    {
     "data": {
      "text/plain": [
       "array([[0.00000000e+00],\n",
       "       [6.40732265e-03],\n",
       "       [2.14530892e-02],\n",
       "       [2.20251716e-02],\n",
       "       [3.83867277e-02],\n",
       "       [3.70709382e-02],\n",
       "       [4.77116705e-02],\n",
       "       [5.02860412e-02],\n",
       "       [5.25171625e-02],\n",
       "       [5.32036613e-02],\n",
       "       [7.22540046e-02],\n",
       "       [6.82494279e-02],\n",
       "       [7.47139588e-02],\n",
       "       [6.87643021e-02],\n",
       "       [5.28604119e-02],\n",
       "       [5.76086957e-02],\n",
       "       [7.17963387e-02],\n",
       "       [5.22311213e-02],\n",
       "       [4.31922197e-02],\n",
       "       [9.95423341e-03],\n",
       "       [2.28832952e-02],\n",
       "       [1.14416476e-04],\n",
       "       [2.73455378e-02],\n",
       "       [3.71853547e-02],\n",
       "       [3.27231121e-02],\n",
       "       [4.82265446e-02],\n",
       "       [4.39359268e-02],\n",
       "       [4.51372998e-02],\n",
       "       [4.85125858e-02],\n",
       "       [6.18421053e-02],\n",
       "       [6.47025172e-02],\n",
       "       [7.32265446e-02],\n",
       "       [8.02631579e-02],\n",
       "       [7.62585812e-02],\n",
       "       [7.36270023e-02],\n",
       "       [9.15903890e-02],\n",
       "       [1.07494279e-01],\n",
       "       [1.04290618e-01],\n",
       "       [9.31350114e-02],\n",
       "       [1.04748284e-01],\n",
       "       [8.62128146e-02],\n",
       "       [8.88443936e-02],\n",
       "       [7.67162471e-02],\n",
       "       [7.80320366e-02],\n",
       "       [5.83524027e-02],\n",
       "       [4.69107551e-02],\n",
       "       [7.51144165e-02],\n",
       "       [7.91189931e-02],\n",
       "       [8.02059497e-02],\n",
       "       [7.76315789e-02],\n",
       "       [8.71281465e-02],\n",
       "       [7.12814645e-02],\n",
       "       [1.07894737e-01],\n",
       "       [1.11098398e-01],\n",
       "       [1.19050343e-01],\n",
       "       [1.28775744e-01],\n",
       "       [1.34610984e-01],\n",
       "       [1.37356979e-01],\n",
       "       [1.38386728e-01],\n",
       "       [1.36041190e-01],\n",
       "       [1.37528604e-01],\n",
       "       [1.56350114e-01],\n",
       "       [1.61842105e-01],\n",
       "       [1.59610984e-01],\n",
       "       [1.66647597e-01],\n",
       "       [1.57551487e-01],\n",
       "       [1.77917620e-01],\n",
       "       [1.58695652e-01],\n",
       "       [1.74141876e-01],\n",
       "       [1.92562929e-01],\n",
       "       [2.03604119e-01],\n",
       "       [2.22883295e-01],\n",
       "       [2.12700229e-01],\n",
       "       [2.01887872e-01],\n",
       "       [2.09096110e-01],\n",
       "       [1.99599542e-01],\n",
       "       [1.79977117e-01],\n",
       "       [1.87871854e-01],\n",
       "       [2.02517162e-01],\n",
       "       [2.30148741e-01],\n",
       "       [2.36956522e-01],\n",
       "       [2.36727689e-01],\n",
       "       [2.47025172e-01],\n",
       "       [2.36613272e-01],\n",
       "       [2.16247140e-01],\n",
       "       [2.20652174e-01],\n",
       "       [2.03146453e-01],\n",
       "       [2.15846682e-01],\n",
       "       [2.34610984e-01],\n",
       "       [2.47196796e-01],\n",
       "       [2.36784897e-01],\n",
       "       [2.36098398e-01],\n",
       "       [2.43363844e-01],\n",
       "       [2.66990847e-01],\n",
       "       [2.75686499e-01],\n",
       "       [2.76773455e-01],\n",
       "       [2.81922197e-01],\n",
       "       [2.97654462e-01],\n",
       "       [3.01430206e-01],\n",
       "       [3.02059497e-01],\n",
       "       [3.01601831e-01],\n",
       "       [2.84610984e-01],\n",
       "       [3.09210526e-01],\n",
       "       [3.22425629e-01],\n",
       "       [3.16647597e-01],\n",
       "       [3.22940503e-01],\n",
       "       [3.20881007e-01],\n",
       "       [2.93135011e-01],\n",
       "       [2.88729977e-01],\n",
       "       [2.97025172e-01],\n",
       "       [3.20823799e-01],\n",
       "       [3.19450801e-01],\n",
       "       [3.32723112e-01],\n",
       "       [3.43363844e-01],\n",
       "       [3.22254005e-01],\n",
       "       [3.36784897e-01],\n",
       "       [3.31693364e-01],\n",
       "       [3.35926773e-01],\n",
       "       [3.07665904e-01],\n",
       "       [3.35812357e-01],\n",
       "       [3.35011442e-01],\n",
       "       [3.45137300e-01],\n",
       "       [3.43592677e-01],\n",
       "       [3.43249428e-01],\n",
       "       [3.56235698e-01],\n",
       "       [3.69393593e-01],\n",
       "       [3.84210526e-01],\n",
       "       [3.76601831e-01],\n",
       "       [3.91876430e-01],\n",
       "       [3.90789474e-01],\n",
       "       [4.04805492e-01],\n",
       "       [3.94565217e-01],\n",
       "       [4.00686499e-01],\n",
       "       [4.00743707e-01],\n",
       "       [3.70308924e-01],\n",
       "       [3.73970252e-01],\n",
       "       [3.87414188e-01],\n",
       "       [4.06521739e-01],\n",
       "       [4.15045767e-01],\n",
       "       [4.17562929e-01],\n",
       "       [4.04862700e-01],\n",
       "       [4.19107551e-01],\n",
       "       [4.03318078e-01],\n",
       "       [3.94794050e-01],\n",
       "       [3.59439359e-01],\n",
       "       [3.48340961e-01],\n",
       "       [3.92848970e-01],\n",
       "       [4.23455378e-01],\n",
       "       [4.31407323e-01],\n",
       "       [4.35926773e-01],\n",
       "       [4.49485126e-01],\n",
       "       [4.51773455e-01],\n",
       "       [4.56235698e-01],\n",
       "       [4.14473684e-01],\n",
       "       [4.53546911e-01],\n",
       "       [4.63901602e-01],\n",
       "       [4.46453089e-01],\n",
       "       [4.38787185e-01],\n",
       "       [4.24256293e-01],\n",
       "       [4.42791762e-01],\n",
       "       [4.10240275e-01],\n",
       "       [4.44851259e-01],\n",
       "       [4.68592677e-01],\n",
       "       [4.76258581e-01],\n",
       "       [4.72940503e-01],\n",
       "       [4.53890160e-01],\n",
       "       [4.43707094e-01],\n",
       "       [4.75000000e-01],\n",
       "       [4.48054920e-01],\n",
       "       [4.51430206e-01],\n",
       "       [4.71510297e-01],\n",
       "       [4.59553776e-01],\n",
       "       [4.80434783e-01],\n",
       "       [4.75057208e-01],\n",
       "       [4.79576659e-01],\n",
       "       [4.83352403e-01],\n",
       "       [4.85240275e-01],\n",
       "       [4.74542334e-01],\n",
       "       [4.66247140e-01],\n",
       "       [4.66990847e-01],\n",
       "       [4.76029748e-01],\n",
       "       [4.71167048e-01],\n",
       "       [4.57036613e-01],\n",
       "       [4.56979405e-01],\n",
       "       [4.85583524e-01],\n",
       "       [4.58695652e-01],\n",
       "       [4.72540046e-01],\n",
       "       [4.57494279e-01],\n",
       "       [4.65503432e-01],\n",
       "       [3.96453089e-01],\n",
       "       [4.06750572e-01],\n",
       "       [3.68077803e-01],\n",
       "       [3.90846682e-01],\n",
       "       [3.89130435e-01],\n",
       "       [3.73855835e-01],\n",
       "       [3.85297483e-01],\n",
       "       [4.21624714e-01],\n",
       "       [4.32093822e-01],\n",
       "       [4.56121281e-01],\n",
       "       [4.58524027e-01],\n",
       "       [4.69908467e-01],\n",
       "       [4.26315789e-01],\n",
       "       [4.64130435e-01],\n",
       "       [4.64702517e-01],\n",
       "       [4.65560641e-01],\n",
       "       [4.20194508e-01],\n",
       "       [4.16304348e-01],\n",
       "       [4.47997712e-01],\n",
       "       [4.38272311e-01],\n",
       "       [3.68535469e-01],\n",
       "       [3.44679634e-01],\n",
       "       [3.59897025e-01],\n",
       "       [3.78947368e-01],\n",
       "       [3.44508009e-01],\n",
       "       [3.35755149e-01],\n",
       "       [3.66075515e-01],\n",
       "       [3.83409611e-01],\n",
       "       [4.13100686e-01],\n",
       "       [4.25800915e-01],\n",
       "       [4.41475973e-01],\n",
       "       [4.33695652e-01],\n",
       "       [4.54748284e-01],\n",
       "       [4.40389016e-01],\n",
       "       [4.59324943e-01],\n",
       "       [4.65503432e-01],\n",
       "       [4.50514874e-01],\n",
       "       [4.45823799e-01],\n",
       "       [4.39816934e-01],\n",
       "       [4.43077803e-01],\n",
       "       [4.69794050e-01],\n",
       "       [4.69851259e-01],\n",
       "       [4.68077803e-01],\n",
       "       [4.53890160e-01],\n",
       "       [4.34553776e-01],\n",
       "       [4.72025172e-01],\n",
       "       [4.87471396e-01],\n",
       "       [5.05663616e-01],\n",
       "       [5.13272311e-01],\n",
       "       [5.12471396e-01],\n",
       "       [5.17734554e-01],\n",
       "       [5.18421053e-01],\n",
       "       [5.18306636e-01],\n",
       "       [5.09839817e-01],\n",
       "       [5.16075515e-01],\n",
       "       [4.86270023e-01],\n",
       "       [4.92734554e-01],\n",
       "       [5.07322654e-01],\n",
       "       [5.09382151e-01],\n",
       "       [5.01086957e-01],\n",
       "       [4.89187643e-01],\n",
       "       [4.93878719e-01],\n",
       "       [4.85469108e-01],\n",
       "       [4.61842105e-01],\n",
       "       [5.07208238e-01],\n",
       "       [5.17219680e-01],\n",
       "       [5.35183066e-01],\n",
       "       [5.22940503e-01],\n",
       "       [5.61613272e-01],\n",
       "       [5.60755149e-01],\n",
       "       [5.64016018e-01],\n",
       "       [5.49771167e-01],\n",
       "       [5.71567506e-01],\n",
       "       [5.70251716e-01],\n",
       "       [5.68363844e-01],\n",
       "       [5.81693364e-01],\n",
       "       [5.83295195e-01],\n",
       "       [5.93993135e-01],\n",
       "       [6.14016018e-01],\n",
       "       [6.23283753e-01],\n",
       "       [6.32322654e-01],\n",
       "       [6.26315789e-01],\n",
       "       [6.29519451e-01],\n",
       "       [6.09897025e-01],\n",
       "       [6.20652174e-01],\n",
       "       [6.16533181e-01],\n",
       "       [6.01315789e-01],\n",
       "       [6.12585812e-01],\n",
       "       [6.32951945e-01],\n",
       "       [6.41533181e-01],\n",
       "       [6.36784897e-01],\n",
       "       [6.31521739e-01],\n",
       "       [6.51029748e-01],\n",
       "       [6.64302059e-01],\n",
       "       [6.60125858e-01],\n",
       "       [6.60926773e-01],\n",
       "       [6.63901602e-01],\n",
       "       [6.55377574e-01],\n",
       "       [6.56350114e-01],\n",
       "       [6.75858124e-01],\n",
       "       [6.83466819e-01],\n",
       "       [6.83237986e-01],\n",
       "       [6.85926773e-01],\n",
       "       [6.65617849e-01],\n",
       "       [6.56578947e-01],\n",
       "       [6.66590389e-01],\n",
       "       [6.85755149e-01],\n",
       "       [6.77116705e-01],\n",
       "       [6.99313501e-01],\n",
       "       [7.00457666e-01],\n",
       "       [7.10240275e-01],\n",
       "       [7.27402746e-01],\n",
       "       [7.29576659e-01],\n",
       "       [7.42219680e-01],\n",
       "       [7.45537757e-01],\n",
       "       [7.49427918e-01],\n",
       "       [7.46281465e-01],\n",
       "       [7.44279176e-01],\n",
       "       [7.57780320e-01],\n",
       "       [7.80549199e-01],\n",
       "       [7.85869565e-01],\n",
       "       [7.99771167e-01],\n",
       "       [8.04061785e-01],\n",
       "       [7.98512586e-01],\n",
       "       [8.38272311e-01],\n",
       "       [8.62929062e-01],\n",
       "       [8.76716247e-01],\n",
       "       [9.12471396e-01],\n",
       "       [8.49141876e-01],\n",
       "       [7.67562929e-01],\n",
       "       [8.32036613e-01],\n",
       "       [8.40675057e-01],\n",
       "       [8.08581236e-01],\n",
       "       [8.63100686e-01],\n",
       "       [8.43363844e-01],\n",
       "       [7.49656751e-01],\n",
       "       [7.79748284e-01],\n",
       "       [7.58924485e-01],\n",
       "       [7.88615561e-01],\n",
       "       [7.96510297e-01],\n",
       "       [7.96395881e-01],\n",
       "       [7.92677346e-01],\n",
       "       [8.29462243e-01],\n",
       "       [8.20995423e-01],\n",
       "       [8.25800915e-01],\n",
       "       [8.33409611e-01],\n",
       "       [8.58810069e-01],\n",
       "       [8.59153318e-01],\n",
       "       [8.44965675e-01],\n",
       "       [8.24084668e-01],\n",
       "       [8.47826087e-01],\n",
       "       [8.71567506e-01],\n",
       "       [8.71853547e-01],\n",
       "       [8.81578947e-01],\n",
       "       [8.93878719e-01],\n",
       "       [8.89816934e-01],\n",
       "       [8.99485126e-01],\n",
       "       [9.13501144e-01],\n",
       "       [9.28890160e-01],\n",
       "       [9.11784897e-01],\n",
       "       [9.30835240e-01],\n",
       "       [9.44965675e-01],\n",
       "       [9.35983982e-01],\n",
       "       [9.19736842e-01],\n",
       "       [8.52002288e-01],\n",
       "       [8.52345538e-01],\n",
       "       [7.89931350e-01],\n",
       "       [8.26773455e-01],\n",
       "       [8.59954233e-01],\n",
       "       [8.34324943e-01],\n",
       "       [7.75000000e-01],\n",
       "       [8.47997712e-01],\n",
       "       [7.75286041e-01],\n",
       "       [7.56350114e-01],\n",
       "       [6.51487414e-01],\n",
       "       [6.91018307e-01],\n",
       "       [7.17448513e-01],\n",
       "       [7.54233410e-01],\n",
       "       [7.96853547e-01],\n",
       "       [7.93421053e-01],\n",
       "       [8.17334096e-01],\n",
       "       [8.18077803e-01],\n",
       "       [8.56864989e-01],\n",
       "       [8.66590389e-01],\n",
       "       [8.72883295e-01],\n",
       "       [8.38215103e-01],\n",
       "       [8.83638444e-01],\n",
       "       [8.71224256e-01],\n",
       "       [8.90503432e-01],\n",
       "       [9.23855835e-01],\n",
       "       [9.32265446e-01],\n",
       "       [9.30892449e-01],\n",
       "       [9.50800915e-01],\n",
       "       [9.54118993e-01],\n",
       "       [9.17391304e-01],\n",
       "       [9.04862700e-01],\n",
       "       [8.85697941e-01],\n",
       "       [8.43363844e-01],\n",
       "       [9.12757437e-01],\n",
       "       [9.20537757e-01],\n",
       "       [9.56864989e-01],\n",
       "       [9.51887872e-01],\n",
       "       [9.79748284e-01],\n",
       "       [9.93077803e-01],\n",
       "       [9.71853547e-01],\n",
       "       [1.00000000e+00],\n",
       "       [9.46338673e-01],\n",
       "       [9.38672769e-01],\n",
       "       [9.21510297e-01],\n",
       "       [8.97768879e-01],\n",
       "       [9.43135011e-01],\n",
       "       [9.73054920e-01],\n",
       "       [9.89416476e-01],\n",
       "       [9.80663616e-01],\n",
       "       [9.63329519e-01],\n",
       "       [9.57780320e-01]])"
      ]
     },
     "execution_count": 162,
     "metadata": {},
     "output_type": "execute_result"
    }
   ],
   "source": [
    "test_data"
   ]
  },
  {
   "cell_type": "code",
   "execution_count": 206,
   "id": "f14d47de",
   "metadata": {},
   "outputs": [],
   "source": [
    "x_test = []\n",
    "#y_test = test_data[100:,:]\n",
    "y_test = []\n",
    "for x in range(100, len(test_data)):\n",
    "    x_test.append(test_data[x-100:x, 0])\n",
    "    y_test.append(test_data[x, 0])\n",
    "\n",
    "x_test = np.array(x_test)\n",
    "y_test = np.array(y_test)\n",
    "\n",
    "x_test = np.reshape(x_test, (x_test.shape[0], x_test.shape[1], 1))\n",
    "y_test = np.reshape(y_test, (y_test.shape[0],1))"
   ]
  },
  {
   "cell_type": "code",
   "execution_count": 207,
   "id": "ebe0e843",
   "metadata": {},
   "outputs": [
    {
     "data": {
      "text/plain": [
       "(305, 1)"
      ]
     },
     "execution_count": 207,
     "metadata": {},
     "output_type": "execute_result"
    }
   ],
   "source": [
    "y_test.shape"
   ]
  },
  {
   "cell_type": "code",
   "execution_count": 208,
   "id": "24a84198",
   "metadata": {},
   "outputs": [
    {
     "data": {
      "text/plain": [
       "(305, 100, 1)"
      ]
     },
     "execution_count": 208,
     "metadata": {},
     "output_type": "execute_result"
    }
   ],
   "source": [
    "x_test.shape"
   ]
  },
  {
   "cell_type": "markdown",
   "id": "a50c35fa",
   "metadata": {},
   "source": [
    "<H1 style=\"color: red; text-align:center\"> Models </H1>"
   ]
  },
  {
   "cell_type": "markdown",
   "id": "ea745d36",
   "metadata": {},
   "source": [
    "## LSTM"
   ]
  },
  {
   "cell_type": "code",
   "execution_count": 198,
   "id": "ebf447fa",
   "metadata": {},
   "outputs": [],
   "source": [
    "model = Sequential()"
   ]
  },
  {
   "cell_type": "code",
   "execution_count": 199,
   "id": "59a62dfc",
   "metadata": {},
   "outputs": [],
   "source": [
    "model.add(LSTM(units=50, return_sequences=True, input_shape=(x_train.shape[1], 1)))\n",
    "model.add(Dropout(0.2))"
   ]
  },
  {
   "cell_type": "code",
   "execution_count": 200,
   "id": "75db3fb0",
   "metadata": {},
   "outputs": [],
   "source": [
    "model.add(LSTM(units = 50, return_sequences = True))\n",
    "model.add(Dropout(0.2))\n",
    "\n",
    "model.add(LSTM(units = 50, return_sequences = True))\n",
    "model.add(Dropout(0.2))\n",
    "\n",
    "model.add(LSTM(units = 50))\n",
    "model.add(Dropout(0.3))\n",
    "\n",
    "model.add(Dense(units = 1))\n",
    "\n",
    "model.compile(optimizer = 'adam', loss = 'mean_squared_error')"
   ]
  },
  {
   "cell_type": "code",
   "execution_count": null,
   "id": "aeef48c7",
   "metadata": {},
   "outputs": [
    {
     "name": "stdout",
     "output_type": "stream",
     "text": [
      "Epoch 1/100\n",
      "25/25 [==============================] - 25s 245ms/step - loss: 0.0926\n",
      "Epoch 2/100\n",
      "25/25 [==============================] - 7s 267ms/step - loss: 0.0203\n",
      "Epoch 3/100\n",
      "25/25 [==============================] - 7s 273ms/step - loss: 0.0140\n",
      "Epoch 4/100\n",
      "25/25 [==============================] - 6s 228ms/step - loss: 0.0134\n",
      "Epoch 5/100\n",
      "25/25 [==============================] - 6s 226ms/step - loss: 0.0121\n",
      "Epoch 6/100\n",
      "25/25 [==============================] - 6s 229ms/step - loss: 0.0108\n",
      "Epoch 7/100\n",
      "25/25 [==============================] - 6s 238ms/step - loss: 0.0114\n",
      "Epoch 8/100\n",
      "25/25 [==============================] - 6s 221ms/step - loss: 0.0104\n",
      "Epoch 9/100\n",
      "25/25 [==============================] - 6s 220ms/step - loss: 0.0097\n",
      "Epoch 10/100\n",
      "25/25 [==============================] - 6s 220ms/step - loss: 0.0117\n",
      "Epoch 11/100\n",
      "25/25 [==============================] - 5s 212ms/step - loss: 0.0114\n",
      "Epoch 12/100\n",
      "25/25 [==============================] - 6s 224ms/step - loss: 0.0095\n",
      "Epoch 13/100\n",
      "25/25 [==============================] - 7s 260ms/step - loss: 0.0099\n",
      "Epoch 14/100\n",
      "25/25 [==============================] - 6s 239ms/step - loss: 0.0093\n",
      "Epoch 15/100\n",
      "25/25 [==============================] - 6s 228ms/step - loss: 0.0090\n",
      "Epoch 16/100\n",
      "25/25 [==============================] - 5s 218ms/step - loss: 0.0082\n",
      "Epoch 17/100\n",
      "25/25 [==============================] - 7s 284ms/step - loss: 0.0096\n",
      "Epoch 18/100\n",
      "25/25 [==============================] - 7s 283ms/step - loss: 0.0085\n",
      "Epoch 19/100\n",
      "25/25 [==============================] - 6s 243ms/step - loss: 0.0082\n",
      "Epoch 20/100\n",
      "25/25 [==============================] - 6s 255ms/step - loss: 0.0103\n",
      "Epoch 21/100\n",
      "11/25 [============>.................] - ETA: 3s - loss: 0.0084"
     ]
    }
   ],
   "source": [
    "History = model.fit(x_train, y_train, epochs = 100, batch_size = 32)"
   ]
  },
  {
   "cell_type": "markdown",
   "id": "749148f5",
   "metadata": {},
   "source": [
    "***\n",
    "#### Test"
   ]
  },
  {
   "cell_type": "code",
   "execution_count": 209,
   "id": "603a2a5a",
   "metadata": {},
   "outputs": [
    {
     "name": "stdout",
     "output_type": "stream",
     "text": [
      "10/10 [==============================] - 1s 62ms/step\n"
     ]
    }
   ],
   "source": [
    "predicted_stock_price = model.predict(x_test)\n",
    "predicted_stock_price = scaler.inverse_transform(predicted_stock_price)"
   ]
  },
  {
   "cell_type": "code",
   "execution_count": 210,
   "id": "806a12e4",
   "metadata": {
    "scrolled": true
   },
   "outputs": [
    {
     "data": {
      "text/plain": [
       "-38579174.67360609"
      ]
     },
     "execution_count": 210,
     "metadata": {},
     "output_type": "execute_result"
    }
   ],
   "source": [
    "score = r2_score(y_test, predicted_stock_price)\n",
    "score"
   ]
  },
  {
   "cell_type": "markdown",
   "id": "88eff165",
   "metadata": {},
   "source": [
    "### GRU Model"
   ]
  },
  {
   "cell_type": "code",
   "execution_count": 182,
   "id": "2c70366d",
   "metadata": {},
   "outputs": [],
   "source": [
    "GRU_model = Sequential()\n",
    "\n",
    "#Adding the first LSTM layer and some Dropout regularisation\n",
    "GRU_model.add(LSTM(units = 200, return_sequences = True, input_shape = (x_train.shape[1], 1)))\n",
    "GRU_model.add(Dropout(0.2))"
   ]
  },
  {
   "cell_type": "code",
   "execution_count": 191,
   "id": "80686c76",
   "metadata": {
    "collapsed": true
   },
   "outputs": [
    {
     "ename": "TypeError",
     "evalue": "add() got an unexpected keyword argument 'return_sequences'",
     "output_type": "error",
     "traceback": [
      "\u001b[0;31m---------------------------------------------------------------------------\u001b[0m",
      "\u001b[0;31mTypeError\u001b[0m                                 Traceback (most recent call last)",
      "Input \u001b[0;32mIn [191]\u001b[0m, in \u001b[0;36m<cell line: 1>\u001b[0;34m()\u001b[0m\n\u001b[0;32m----> 1\u001b[0m \u001b[43mGRU_model\u001b[49m\u001b[38;5;241;43m.\u001b[39;49m\u001b[43madd\u001b[49m\u001b[43m(\u001b[49m\u001b[43mreturn_sequences\u001b[49m\u001b[38;5;241;43m=\u001b[39;49m\u001b[38;5;28;43;01mTrue\u001b[39;49;00m\u001b[43m)\u001b[49m\n\u001b[1;32m      2\u001b[0m GRU_model\u001b[38;5;241m.\u001b[39madd(Dropout(\u001b[38;5;241m0.2\u001b[39m))\n",
      "File \u001b[0;32m/usr/local/lib/python3.9/site-packages/tensorflow/python/trackable/base.py:205\u001b[0m, in \u001b[0;36mno_automatic_dependency_tracking.<locals>._method_wrapper\u001b[0;34m(self, *args, **kwargs)\u001b[0m\n\u001b[1;32m    203\u001b[0m \u001b[38;5;28mself\u001b[39m\u001b[38;5;241m.\u001b[39m_self_setattr_tracking \u001b[38;5;241m=\u001b[39m \u001b[38;5;28;01mFalse\u001b[39;00m  \u001b[38;5;66;03m# pylint: disable=protected-access\u001b[39;00m\n\u001b[1;32m    204\u001b[0m \u001b[38;5;28;01mtry\u001b[39;00m:\n\u001b[0;32m--> 205\u001b[0m   result \u001b[38;5;241m=\u001b[39m \u001b[43mmethod\u001b[49m\u001b[43m(\u001b[49m\u001b[38;5;28;43mself\u001b[39;49m\u001b[43m,\u001b[49m\u001b[43m \u001b[49m\u001b[38;5;241;43m*\u001b[39;49m\u001b[43margs\u001b[49m\u001b[43m,\u001b[49m\u001b[43m \u001b[49m\u001b[38;5;241;43m*\u001b[39;49m\u001b[38;5;241;43m*\u001b[39;49m\u001b[43mkwargs\u001b[49m\u001b[43m)\u001b[49m\n\u001b[1;32m    206\u001b[0m \u001b[38;5;28;01mfinally\u001b[39;00m:\n\u001b[1;32m    207\u001b[0m   \u001b[38;5;28mself\u001b[39m\u001b[38;5;241m.\u001b[39m_self_setattr_tracking \u001b[38;5;241m=\u001b[39m previous_value  \u001b[38;5;66;03m# pylint: disable=protected-access\u001b[39;00m\n",
      "File \u001b[0;32m/usr/local/lib/python3.9/site-packages/keras/utils/traceback_utils.py:70\u001b[0m, in \u001b[0;36mfilter_traceback.<locals>.error_handler\u001b[0;34m(*args, **kwargs)\u001b[0m\n\u001b[1;32m     67\u001b[0m     filtered_tb \u001b[38;5;241m=\u001b[39m _process_traceback_frames(e\u001b[38;5;241m.\u001b[39m__traceback__)\n\u001b[1;32m     68\u001b[0m     \u001b[38;5;66;03m# To get the full stack trace, call:\u001b[39;00m\n\u001b[1;32m     69\u001b[0m     \u001b[38;5;66;03m# `tf.debugging.disable_traceback_filtering()`\u001b[39;00m\n\u001b[0;32m---> 70\u001b[0m     \u001b[38;5;28;01mraise\u001b[39;00m e\u001b[38;5;241m.\u001b[39mwith_traceback(filtered_tb) \u001b[38;5;28;01mfrom\u001b[39;00m \u001b[38;5;28mNone\u001b[39m\n\u001b[1;32m     71\u001b[0m \u001b[38;5;28;01mfinally\u001b[39;00m:\n\u001b[1;32m     72\u001b[0m     \u001b[38;5;28;01mdel\u001b[39;00m filtered_tb\n",
      "File \u001b[0;32m/usr/local/lib/python3.9/site-packages/keras/utils/traceback_utils.py:65\u001b[0m, in \u001b[0;36mfilter_traceback.<locals>.error_handler\u001b[0;34m(*args, **kwargs)\u001b[0m\n\u001b[1;32m     63\u001b[0m filtered_tb \u001b[38;5;241m=\u001b[39m \u001b[38;5;28;01mNone\u001b[39;00m\n\u001b[1;32m     64\u001b[0m \u001b[38;5;28;01mtry\u001b[39;00m:\n\u001b[0;32m---> 65\u001b[0m     \u001b[38;5;28;01mreturn\u001b[39;00m fn(\u001b[38;5;241m*\u001b[39margs, \u001b[38;5;241m*\u001b[39m\u001b[38;5;241m*\u001b[39mkwargs)\n\u001b[1;32m     66\u001b[0m \u001b[38;5;28;01mexcept\u001b[39;00m \u001b[38;5;167;01mException\u001b[39;00m \u001b[38;5;28;01mas\u001b[39;00m e:\n\u001b[1;32m     67\u001b[0m     filtered_tb \u001b[38;5;241m=\u001b[39m _process_traceback_frames(e\u001b[38;5;241m.\u001b[39m__traceback__)\n",
      "\u001b[0;31mTypeError\u001b[0m: add() got an unexpected keyword argument 'return_sequences'"
     ]
    }
   ],
   "source": [
    "GRU_model.add(GRU(units = 0, return_sequences=True))\n",
    "GRU_model.add(Dropout(0.2))"
   ]
  },
  {
   "cell_type": "code",
   "execution_count": null,
   "id": "ba23ec84",
   "metadata": {},
   "outputs": [],
   "source": []
  }
 ],
 "metadata": {
  "kernelspec": {
   "display_name": "Python 3 (ipykernel)",
   "language": "python",
   "name": "python3"
  },
  "language_info": {
   "codemirror_mode": {
    "name": "ipython",
    "version": 3
   },
   "file_extension": ".py",
   "mimetype": "text/x-python",
   "name": "python",
   "nbconvert_exporter": "python",
   "pygments_lexer": "ipython3",
   "version": "3.9.5"
  }
 },
 "nbformat": 4,
 "nbformat_minor": 5
}
