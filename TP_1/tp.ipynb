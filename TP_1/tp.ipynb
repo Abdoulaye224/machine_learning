{
 "cells": [
  {
   "cell_type": "markdown",
   "id": "43642290",
   "metadata": {},
   "source": [
    "### Import"
   ]
  },
  {
   "cell_type": "code",
   "execution_count": 22,
   "id": "5e3fc627",
   "metadata": {},
   "outputs": [
    {
     "name": "stdout",
     "output_type": "stream",
     "text": [
      "Collecting wordcloud\n",
      "  Downloading wordcloud-1.8.2.2-cp38-cp38-win_amd64.whl (152 kB)\n",
      "Requirement already satisfied: pillow in c:\\users\\traor\\anaconda3\\lib\\site-packages (from wordcloud) (8.2.0)\n",
      "Requirement already satisfied: matplotlib in c:\\users\\traor\\anaconda3\\lib\\site-packages (from wordcloud) (3.3.4)\n",
      "Requirement already satisfied: numpy>=1.6.1 in c:\\users\\traor\\anaconda3\\lib\\site-packages (from wordcloud) (1.20.1)\n",
      "Requirement already satisfied: kiwisolver>=1.0.1 in c:\\users\\traor\\anaconda3\\lib\\site-packages (from matplotlib->wordcloud) (1.3.1)\n",
      "Requirement already satisfied: cycler>=0.10 in c:\\users\\traor\\anaconda3\\lib\\site-packages (from matplotlib->wordcloud) (0.10.0)\n",
      "Requirement already satisfied: pyparsing!=2.0.4,!=2.1.2,!=2.1.6,>=2.0.3 in c:\\users\\traor\\anaconda3\\lib\\site-packages (from matplotlib->wordcloud) (2.4.7)\n",
      "Requirement already satisfied: python-dateutil>=2.1 in c:\\users\\traor\\anaconda3\\lib\\site-packages (from matplotlib->wordcloud) (2.8.1)\n",
      "Requirement already satisfied: six in c:\\users\\traor\\anaconda3\\lib\\site-packages (from cycler>=0.10->matplotlib->wordcloud) (1.15.0)\n",
      "Installing collected packages: wordcloud\n",
      "Successfully installed wordcloud-1.8.2.2\n"
     ]
    }
   ],
   "source": [
    "!pip install wordcloud"
   ]
  },
  {
   "cell_type": "code",
   "execution_count": 1,
   "id": "60199e26",
   "metadata": {},
   "outputs": [],
   "source": [
    "import nltk\n",
    "from wordcloud import WordCloud,stopword\n",
    "import pandas as pd\n",
    "import numpy as np\n",
    "from sklearn import metrics\n",
    "from sklearn.model_selection import train_test_split\n",
    "from sklearn.feature_extraction.text import CountVectorizer\n",
    "from sklearn.svm import LinearSVC\n",
    "from sklearn.naive_bayes import MultinomialNB\n",
    "from sklearn.linear_model import LogisticRegression\n",
    "from sklearn.neighbors import KNeighborsClassifier\n",
    "import matplotlib.pyplot as plt\n",
    "from sklearn.metrics import confusion_matrix, ConfusionMatrixDisplay\n",
    "from sklearn.metrics import classification_report,confusion_matrix,accuracy_score\n",
    "from bs4 import BeautifulSoup\n",
    "from nltk.corpus import stopwords\n",
    "from nltk.tokenize.toktok import ToktokTokenizer\n",
    "from nltk.tokenize import word_tokenize,sent_tokenize\n"
   ]
  },
  {
   "cell_type": "code",
   "execution_count": 41,
   "id": "945f4367",
   "metadata": {
    "scrolled": false
   },
   "outputs": [
    {
     "name": "stderr",
     "output_type": "stream",
     "text": [
      "[nltk_data] Downloading package stopwords to\n",
      "[nltk_data]     C:\\Users\\traor\\AppData\\Roaming\\nltk_data...\n",
      "[nltk_data]   Package stopwords is already up-to-date!\n"
     ]
    },
    {
     "data": {
      "text/plain": [
       "True"
      ]
     },
     "execution_count": 41,
     "metadata": {},
     "output_type": "execute_result"
    }
   ],
   "source": [
    "nltk.download('stopwords')"
   ]
  },
  {
   "cell_type": "markdown",
   "id": "4d247246",
   "metadata": {},
   "source": [
    "### Load datasets"
   ]
  },
  {
   "cell_type": "code",
   "execution_count": 2,
   "id": "6fc11778",
   "metadata": {},
   "outputs": [],
   "source": [
    "positif = pd.read_pickle(r'imdb_raw_pos.pickle')\n",
    "\n",
    "negatif = pd.read_pickle(r'imdb_raw_neg.pickle')"
   ]
  },
  {
   "cell_type": "code",
   "execution_count": 3,
   "id": "47dbb384",
   "metadata": {},
   "outputs": [],
   "source": [
    "pos = {'review': positif}\n",
    "\n",
    "neg = {'review': negatif}"
   ]
  },
  {
   "cell_type": "markdown",
   "id": "ceb8211c",
   "metadata": {},
   "source": [
    "### Create a dataFrame"
   ]
  },
  {
   "cell_type": "code",
   "execution_count": 4,
   "id": "ed62521c",
   "metadata": {},
   "outputs": [],
   "source": [
    "df1 = pd.DataFrame(pos)\n",
    "df1['comment'] = 1"
   ]
  },
  {
   "cell_type": "code",
   "execution_count": 5,
   "id": "81b91bfd",
   "metadata": {},
   "outputs": [],
   "source": [
    "df2 = pd.DataFrame(neg)\n",
    "df2['comment'] = 0"
   ]
  },
  {
   "cell_type": "code",
   "execution_count": 6,
   "id": "55d8a127",
   "metadata": {},
   "outputs": [
    {
     "data": {
      "text/html": [
       "<div>\n",
       "<style scoped>\n",
       "    .dataframe tbody tr th:only-of-type {\n",
       "        vertical-align: middle;\n",
       "    }\n",
       "\n",
       "    .dataframe tbody tr th {\n",
       "        vertical-align: top;\n",
       "    }\n",
       "\n",
       "    .dataframe thead th {\n",
       "        text-align: right;\n",
       "    }\n",
       "</style>\n",
       "<table border=\"1\" class=\"dataframe\">\n",
       "  <thead>\n",
       "    <tr style=\"text-align: right;\">\n",
       "      <th></th>\n",
       "      <th>review</th>\n",
       "      <th>comment</th>\n",
       "    </tr>\n",
       "  </thead>\n",
       "  <tbody>\n",
       "    <tr>\n",
       "      <th>0</th>\n",
       "      <td>I went and saw this movie last night after bei...</td>\n",
       "      <td>1</td>\n",
       "    </tr>\n",
       "    <tr>\n",
       "      <th>1</th>\n",
       "      <td>Actor turned director Bill Paxton follows up h...</td>\n",
       "      <td>1</td>\n",
       "    </tr>\n",
       "    <tr>\n",
       "      <th>2</th>\n",
       "      <td>As a recreational golfer with some knowledge o...</td>\n",
       "      <td>1</td>\n",
       "    </tr>\n",
       "    <tr>\n",
       "      <th>3</th>\n",
       "      <td>I saw this film in a sneak preview, and it is ...</td>\n",
       "      <td>1</td>\n",
       "    </tr>\n",
       "    <tr>\n",
       "      <th>4</th>\n",
       "      <td>Bill Paxton has taken the true story of the 19...</td>\n",
       "      <td>1</td>\n",
       "    </tr>\n",
       "  </tbody>\n",
       "</table>\n",
       "</div>"
      ],
      "text/plain": [
       "                                              review  comment\n",
       "0  I went and saw this movie last night after bei...        1\n",
       "1  Actor turned director Bill Paxton follows up h...        1\n",
       "2  As a recreational golfer with some knowledge o...        1\n",
       "3  I saw this film in a sneak preview, and it is ...        1\n",
       "4  Bill Paxton has taken the true story of the 19...        1"
      ]
     },
     "execution_count": 6,
     "metadata": {},
     "output_type": "execute_result"
    }
   ],
   "source": [
    "data = pd.concat([df1, df2])\n",
    "data.head()"
   ]
  },
  {
   "cell_type": "code",
   "execution_count": 7,
   "id": "9942b965",
   "metadata": {},
   "outputs": [],
   "source": [
    "data = data.sample(frac=1).reset_index()\n",
    "\n",
    "data = data.drop(['index'], axis=1)"
   ]
  },
  {
   "cell_type": "code",
   "execution_count": 9,
   "id": "ea353c00",
   "metadata": {
    "scrolled": true
   },
   "outputs": [
    {
     "data": {
      "text/html": [
       "<div>\n",
       "<style scoped>\n",
       "    .dataframe tbody tr th:only-of-type {\n",
       "        vertical-align: middle;\n",
       "    }\n",
       "\n",
       "    .dataframe tbody tr th {\n",
       "        vertical-align: top;\n",
       "    }\n",
       "\n",
       "    .dataframe thead th {\n",
       "        text-align: right;\n",
       "    }\n",
       "</style>\n",
       "<table border=\"1\" class=\"dataframe\">\n",
       "  <thead>\n",
       "    <tr style=\"text-align: right;\">\n",
       "      <th></th>\n",
       "      <th>review</th>\n",
       "      <th>comment</th>\n",
       "    </tr>\n",
       "  </thead>\n",
       "  <tbody>\n",
       "    <tr>\n",
       "      <th>0</th>\n",
       "      <td>Aksar is an awful movie. The script, the story...</td>\n",
       "      <td>0</td>\n",
       "    </tr>\n",
       "    <tr>\n",
       "      <th>1</th>\n",
       "      <td>Is it possible for a movie to get any worse th...</td>\n",
       "      <td>0</td>\n",
       "    </tr>\n",
       "    <tr>\n",
       "      <th>2</th>\n",
       "      <td>This film was incredible! Looked high budget b...</td>\n",
       "      <td>1</td>\n",
       "    </tr>\n",
       "    <tr>\n",
       "      <th>3</th>\n",
       "      <td>Some good set design. Good songs, though like ...</td>\n",
       "      <td>0</td>\n",
       "    </tr>\n",
       "    <tr>\n",
       "      <th>4</th>\n",
       "      <td>There's really not a whole lot to say about th...</td>\n",
       "      <td>0</td>\n",
       "    </tr>\n",
       "  </tbody>\n",
       "</table>\n",
       "</div>"
      ],
      "text/plain": [
       "                                              review  comment\n",
       "0  Aksar is an awful movie. The script, the story...        0\n",
       "1  Is it possible for a movie to get any worse th...        0\n",
       "2  This film was incredible! Looked high budget b...        1\n",
       "3  Some good set design. Good songs, though like ...        0\n",
       "4  There's really not a whole lot to say about th...        0"
      ]
     },
     "execution_count": 9,
     "metadata": {},
     "output_type": "execute_result"
    }
   ],
   "source": [
    "data.head()"
   ]
  },
  {
   "cell_type": "markdown",
   "id": "44ca3b5a",
   "metadata": {},
   "source": [
    "<H2 style='color: cadetblue'> data cleaning </H2>"
   ]
  },
  {
   "cell_type": "code",
   "execution_count": 11,
   "id": "addbb62c",
   "metadata": {},
   "outputs": [],
   "source": [
    "def html_strip(text):\n",
    "    soup = BeautifulSoup(text, \"html.parser\")\n",
    "    return soup.get_text()\n",
    "\n",
    "def remove_brackets(text):\n",
    "    return text.replace('\\[[^]]*\\]', '')\n",
    "\n",
    "def clean_dataset(text):\n",
    "    text = html_strip(text)\n",
    "    text = remove_brackets(text)\n",
    "    return text"
   ]
  },
  {
   "cell_type": "code",
   "execution_count": 12,
   "id": "0440449a",
   "metadata": {
    "scrolled": true
   },
   "outputs": [],
   "source": [
    "data['review']=data['review'].apply(clean_dataset)"
   ]
  },
  {
   "cell_type": "code",
   "execution_count": 13,
   "id": "85991e39",
   "metadata": {},
   "outputs": [],
   "source": [
    "def remove_special_characters(text, remove_digits=True):\n",
    "    return text.replace('[^a-zA-z0-9\\s]', '')"
   ]
  },
  {
   "cell_type": "code",
   "execution_count": 14,
   "id": "ceb3e788",
   "metadata": {},
   "outputs": [],
   "source": [
    "data['review']=data['review'].apply(remove_special_characters)"
   ]
  },
  {
   "cell_type": "code",
   "execution_count": 16,
   "id": "0e0b2070",
   "metadata": {
    "scrolled": true
   },
   "outputs": [
    {
     "data": {
      "text/plain": [
       "0    Aksar is an awful movie. The script, the story...\n",
       "1    Is it possible for a movie to get any worse th...\n",
       "2    This film was incredible! Looked high budget b...\n",
       "3    Some good set design. Good songs, though like ...\n",
       "4    There's really not a whole lot to say about th...\n",
       "Name: review, dtype: object"
      ]
     },
     "execution_count": 16,
     "metadata": {},
     "output_type": "execute_result"
    }
   ],
   "source": [
    "data['review'].head()"
   ]
  },
  {
   "cell_type": "code",
   "execution_count": 43,
   "id": "78fb481b",
   "metadata": {},
   "outputs": [],
   "source": [
    "tokenizer=ToktokTokenizer()\n",
    "stopword_list=nltk.corpus.stopwords.words('english')"
   ]
  },
  {
   "cell_type": "markdown",
   "id": "6366dfbe",
   "metadata": {},
   "source": [
    "print(stopwords.words('english'))"
   ]
  },
  {
   "cell_type": "code",
   "execution_count": 44,
   "id": "4f07fdb7",
   "metadata": {},
   "outputs": [],
   "source": [
    "#removing the stopwords\n",
    "def remove_stopwords(text, is_lower_case=False):\n",
    "    tokens = tokenizer.tokenize(text)\n",
    "    tokens = [token.strip() for token in tokens]\n",
    "    if is_lower_case:\n",
    "        filtered_tokens = [token for token in tokens if token not in stopword_list]\n",
    "    else:\n",
    "        filtered_tokens = [token for token in tokens if token.lower() not in stopword_list]\n",
    "    filtered_text = ' '.join(filtered_tokens)    \n",
    "    return filtered_text"
   ]
  },
  {
   "cell_type": "code",
   "execution_count": 45,
   "id": "dd4c12b3",
   "metadata": {},
   "outputs": [],
   "source": [
    "data['review']=data['review'].apply(remove_stopwords)"
   ]
  },
  {
   "cell_type": "code",
   "execution_count": 46,
   "id": "0004c587",
   "metadata": {},
   "outputs": [
    {
     "data": {
      "text/plain": [
       "0    Aksar awful movie. script , story , acting sim...\n",
       "1    possible movie get worse ? ' bunch apes wander...\n",
       "2    film incredible ! Looked high budget felt hear...\n",
       "3    good set design. Good songs , though like guy ...\n",
       "4    ' really whole lot say this. ' really , really...\n",
       "Name: review, dtype: object"
      ]
     },
     "execution_count": 46,
     "metadata": {},
     "output_type": "execute_result"
    }
   ],
   "source": [
    "data['review'].head()"
   ]
  },
  {
   "cell_type": "markdown",
   "id": "19acb718",
   "metadata": {},
   "source": [
    "### split dataset with 30% of datasets"
   ]
  },
  {
   "cell_type": "code",
   "execution_count": 47,
   "id": "26ce2c1e",
   "metadata": {},
   "outputs": [],
   "source": [
    "X_train, X_test, Y_train, Y_test = train_test_split(data.review,data.comment, test_size= 0.3)"
   ]
  },
  {
   "cell_type": "code",
   "execution_count": 48,
   "id": "be1e1c60",
   "metadata": {},
   "outputs": [
    {
     "name": "stdout",
     "output_type": "stream",
     "text": [
      "X_train =  (17500,)\n",
      "X_test =  (7500,)\n",
      "Y_train =  (17500,)\n",
      "Y_test =  (7500,)\n"
     ]
    }
   ],
   "source": [
    "print(\"X_train = \" , X_train.shape)\n",
    "print(\"X_test = \" , X_test.shape)\n",
    "print(\"Y_train = \" , Y_train.shape)\n",
    "print(\"Y_test = \" , Y_test.shape)"
   ]
  },
  {
   "cell_type": "markdown",
   "id": "35c78676",
   "metadata": {},
   "source": [
    "### Vectorization"
   ]
  },
  {
   "cell_type": "code",
   "execution_count": 49,
   "id": "3786ffdc",
   "metadata": {},
   "outputs": [],
   "source": [
    "cv=CountVectorizer(stop_words='english', binary=False,ngram_range=(1,1))"
   ]
  },
  {
   "cell_type": "code",
   "execution_count": 50,
   "id": "0f82c1dc",
   "metadata": {},
   "outputs": [],
   "source": [
    "cv_train_reviews=cv.fit_transform(X_train)"
   ]
  },
  {
   "cell_type": "code",
   "execution_count": 51,
   "id": "6a419c3d",
   "metadata": {},
   "outputs": [],
   "source": [
    "cv_test_reviews=cv.transform(X_test)"
   ]
  },
  {
   "cell_type": "code",
   "execution_count": 52,
   "id": "c47314df",
   "metadata": {
    "scrolled": true
   },
   "outputs": [
    {
     "name": "stdout",
     "output_type": "stream",
     "text": [
      "BOW_cv_train: (17500, 64402)\n"
     ]
    }
   ],
   "source": [
    "print('BOW_cv_train:',cv_train_reviews.shape)"
   ]
  },
  {
   "cell_type": "code",
   "execution_count": 53,
   "id": "1ee018cb",
   "metadata": {},
   "outputs": [
    {
     "name": "stdout",
     "output_type": "stream",
     "text": [
      "BOW_cv_test: (7500, 64402)\n"
     ]
    }
   ],
   "source": [
    "print('BOW_cv_test:',cv_test_reviews.shape)\n"
   ]
  },
  {
   "cell_type": "code",
   "execution_count": 54,
   "id": "aa510eb3",
   "metadata": {
    "collapsed": true
   },
   "outputs": [
    {
     "name": "stdout",
     "output_type": "stream",
     "text": [
      "  (0, 40198)\t2\n",
      "  (0, 1563)\t2\n",
      "  (0, 52956)\t1\n",
      "  (0, 33424)\t1\n",
      "  (0, 42544)\t2\n",
      "  (0, 33277)\t2\n",
      "  (0, 5985)\t1\n",
      "  (0, 23720)\t6\n",
      "  (0, 50581)\t2\n",
      "  (0, 35982)\t1\n",
      "  (0, 63833)\t1\n",
      "  (0, 21667)\t1\n",
      "  (0, 11624)\t1\n",
      "  (0, 17938)\t1\n",
      "  (0, 46210)\t1\n",
      "  (0, 22873)\t2\n",
      "  (0, 25130)\t1\n",
      "  (0, 8723)\t1\n",
      "  (0, 14333)\t1\n",
      "  (0, 33646)\t1\n",
      "  (0, 18999)\t1\n",
      "  (0, 43380)\t1\n",
      "  (0, 37959)\t3\n",
      "  (0, 18860)\t1\n",
      "  (0, 28425)\t1\n",
      "  :\t:\n",
      "  (17499, 43987)\t1\n",
      "  (17499, 56933)\t1\n",
      "  (17499, 44639)\t1\n",
      "  (17499, 49461)\t1\n",
      "  (17499, 25346)\t1\n",
      "  (17499, 41405)\t1\n",
      "  (17499, 13373)\t1\n",
      "  (17499, 24673)\t1\n",
      "  (17499, 11701)\t1\n",
      "  (17499, 1314)\t1\n",
      "  (17499, 56217)\t1\n",
      "  (17499, 28237)\t1\n",
      "  (17499, 28273)\t1\n",
      "  (17499, 51925)\t1\n",
      "  (17499, 12560)\t2\n",
      "  (17499, 5802)\t1\n",
      "  (17499, 61218)\t1\n",
      "  (17499, 57999)\t1\n",
      "  (17499, 10423)\t1\n",
      "  (17499, 60281)\t1\n",
      "  (17499, 60350)\t1\n",
      "  (17499, 20688)\t1\n",
      "  (17499, 63519)\t1\n",
      "  (17499, 35667)\t1\n",
      "  (17499, 57561)\t1\n"
     ]
    }
   ],
   "source": [
    "print(cv_train_reviews)"
   ]
  },
  {
   "cell_type": "markdown",
   "id": "f5811ebe",
   "metadata": {},
   "source": [
    "<H2 style=\"color: blue; text-align:center\"> Logistic Regression </H2>"
   ]
  },
  {
   "cell_type": "code",
   "execution_count": 55,
   "id": "44d7a789",
   "metadata": {},
   "outputs": [],
   "source": [
    "lr=LogisticRegression(max_iter=5000)"
   ]
  },
  {
   "cell_type": "code",
   "execution_count": 56,
   "id": "f1444b59",
   "metadata": {},
   "outputs": [
    {
     "data": {
      "text/plain": [
       "(17500, 64402)"
      ]
     },
     "execution_count": 56,
     "metadata": {},
     "output_type": "execute_result"
    }
   ],
   "source": [
    "cv_train_reviews.shape"
   ]
  },
  {
   "cell_type": "code",
   "execution_count": 57,
   "id": "85c2df48",
   "metadata": {},
   "outputs": [
    {
     "data": {
      "text/plain": [
       "(17500,)"
      ]
     },
     "execution_count": 57,
     "metadata": {},
     "output_type": "execute_result"
    }
   ],
   "source": [
    "Y_train.shape"
   ]
  },
  {
   "cell_type": "code",
   "execution_count": 58,
   "id": "935936b6",
   "metadata": {},
   "outputs": [],
   "source": [
    "lr_bow=lr.fit(cv_train_reviews,Y_train)"
   ]
  },
  {
   "cell_type": "code",
   "execution_count": 59,
   "id": "269c0549",
   "metadata": {},
   "outputs": [
    {
     "data": {
      "text/plain": [
       "0.9990857142857142"
      ]
     },
     "execution_count": 59,
     "metadata": {},
     "output_type": "execute_result"
    }
   ],
   "source": [
    "lr_bow.score(cv_train_reviews, Y_train)"
   ]
  },
  {
   "cell_type": "code",
   "execution_count": 84,
   "id": "b3f3bd9c",
   "metadata": {},
   "outputs": [
    {
     "data": {
      "text/plain": [
       "0.8813333333333333"
      ]
     },
     "execution_count": 84,
     "metadata": {},
     "output_type": "execute_result"
    }
   ],
   "source": [
    "lr_bow.score(cv_test_reviews, Y_test)"
   ]
  },
  {
   "cell_type": "markdown",
   "id": "e079141b",
   "metadata": {},
   "source": [
    "### Top 10 words"
   ]
  },
  {
   "cell_type": "code",
   "execution_count": 85,
   "id": "a705c0be",
   "metadata": {},
   "outputs": [],
   "source": [
    "coeff = lr_bow.coef_"
   ]
  },
  {
   "cell_type": "code",
   "execution_count": 86,
   "id": "bbb0511e",
   "metadata": {
    "scrolled": true
   },
   "outputs": [],
   "source": [
    "sort = np.argsort(abs(coeff))"
   ]
  },
  {
   "cell_type": "code",
   "execution_count": 63,
   "id": "a0aaf244",
   "metadata": {},
   "outputs": [
    {
     "data": {
      "text/plain": [
       "array([[16453, 56667, 53894, ...,  4490, 63482, 62151]], dtype=int64)"
      ]
     },
     "execution_count": 63,
     "metadata": {},
     "output_type": "execute_result"
    }
   ],
   "source": [
    "sort"
   ]
  },
  {
   "cell_type": "code",
   "execution_count": 64,
   "id": "6c02e7ad",
   "metadata": {},
   "outputs": [],
   "source": [
    "sort = sort[0][::-1][:10]"
   ]
  },
  {
   "cell_type": "code",
   "execution_count": 65,
   "id": "0afa72c0",
   "metadata": {
    "scrolled": true
   },
   "outputs": [
    {
     "data": {
      "text/plain": [
       "array([62151, 63482,  4490, 56836, 32413, 16146, 20423, 19822, 41844,\n",
       "       22870], dtype=int64)"
      ]
     },
     "execution_count": 65,
     "metadata": {},
     "output_type": "execute_result"
    }
   ],
   "source": [
    "sort"
   ]
  },
  {
   "cell_type": "code",
   "execution_count": 66,
   "id": "04fb137a",
   "metadata": {},
   "outputs": [],
   "source": [
    "list_index = []\n",
    "for i in sort :\n",
    "    list_index.append(i)"
   ]
  },
  {
   "cell_type": "code",
   "execution_count": 67,
   "id": "26c9cad7",
   "metadata": {},
   "outputs": [
    {
     "data": {
      "text/plain": [
       "[62151, 63482, 4490, 56836, 32413, 16146, 20423, 19822, 41844, 22870]"
      ]
     },
     "execution_count": 67,
     "metadata": {},
     "output_type": "execute_result"
    }
   ],
   "source": [
    "list_index"
   ]
  },
  {
   "cell_type": "code",
   "execution_count": 68,
   "id": "46f2a6d2",
   "metadata": {},
   "outputs": [],
   "source": [
    "words = []\n",
    "for i in list_index:\n",
    "    words.append(list(cv.vocabulary_.keys())[list(cv.vocabulary_.values()).index(i)])    "
   ]
  },
  {
   "cell_type": "code",
   "execution_count": 87,
   "id": "2f7d0c4d",
   "metadata": {},
   "outputs": [
    {
     "data": {
      "text/plain": [
       "['waste',\n",
       " 'worst',\n",
       " 'awful',\n",
       " 'terrible',\n",
       " 'lame',\n",
       " 'disappointing',\n",
       " 'fails',\n",
       " 'excellent',\n",
       " 'pathetic',\n",
       " 'funniest']"
      ]
     },
     "execution_count": 87,
     "metadata": {},
     "output_type": "execute_result"
    }
   ],
   "source": [
    "words"
   ]
  },
  {
   "cell_type": "markdown",
   "id": "39ceb43e",
   "metadata": {},
   "source": [
    "### Predict"
   ]
  },
  {
   "cell_type": "code",
   "execution_count": 70,
   "id": "158bf5c5",
   "metadata": {},
   "outputs": [
    {
     "name": "stdout",
     "output_type": "stream",
     "text": [
      "[0 1 1 ... 0 0 0]\n"
     ]
    }
   ],
   "source": [
    "lr_bow_predict=lr.predict(cv_test_reviews)\n",
    "print(lr_bow_predict)"
   ]
  },
  {
   "cell_type": "markdown",
   "id": "8e35a7f3",
   "metadata": {},
   "source": [
    "### Accuracy of the model"
   ]
  },
  {
   "cell_type": "code",
   "execution_count": 71,
   "id": "7cccb5ec",
   "metadata": {},
   "outputs": [
    {
     "name": "stdout",
     "output_type": "stream",
     "text": [
      "lr_bow_score : 0.8813333333333333\n"
     ]
    }
   ],
   "source": [
    "lr_bow_score=accuracy_score(Y_test,lr_bow_predict)\n",
    "print(\"lr_bow_score :\",lr_bow_score)"
   ]
  },
  {
   "cell_type": "markdown",
   "id": "ac4a91f9",
   "metadata": {},
   "source": [
    "### The classification report"
   ]
  },
  {
   "cell_type": "code",
   "execution_count": 72,
   "id": "b7b3c33c",
   "metadata": {},
   "outputs": [
    {
     "name": "stdout",
     "output_type": "stream",
     "text": [
      "              precision    recall  f1-score   support\n",
      "\n",
      "    Positive       0.89      0.88      0.88      3821\n",
      "    Negative       0.87      0.89      0.88      3679\n",
      "\n",
      "    accuracy                           0.88      7500\n",
      "   macro avg       0.88      0.88      0.88      7500\n",
      "weighted avg       0.88      0.88      0.88      7500\n",
      "\n"
     ]
    }
   ],
   "source": [
    "lr_bow_report=classification_report(Y_test,lr_bow_predict,target_names=['Positive','Negative'])\n",
    "print(lr_bow_report)"
   ]
  },
  {
   "cell_type": "markdown",
   "id": "9bad36dc",
   "metadata": {},
   "source": [
    "### confusion matrix"
   ]
  },
  {
   "cell_type": "code",
   "execution_count": 88,
   "id": "00f46af4",
   "metadata": {},
   "outputs": [],
   "source": [
    "cm_bow=confusion_matrix(Y_test,lr_bow_predict,labels=[1,0]/np.sum(confusion_matrix(Y_test,lr_bow_predict,labels=[1,0]\n",
    ")))"
   ]
  },
  {
   "cell_type": "code",
   "execution_count": 90,
   "id": "6414153c",
   "metadata": {},
   "outputs": [
    {
     "data": {
      "text/plain": [
       "<sklearn.metrics._plot.confusion_matrix.ConfusionMatrixDisplay at 0x2b646405dc0>"
      ]
     },
     "execution_count": 90,
     "metadata": {},
     "output_type": "execute_result"
    },
    {
     "data": {
      "image/png": "[encoded data removed]",
      "text/plain": [
       "<Figure size 432x288 with 2 Axes>"
      ]
     },
     "metadata": {
      "needs_background": "light"
     },
     "output_type": "display_data"
    }
   ],
   "source": [
    "cm_bow=confusion_matrix(Y_test,lr_bow_predict,labels=[1,0])/np.sum(confusion_matrix(Y_test,lr_bow_predict,labels=[1,0]))\n",
    "disp = ConfusionMatrixDisplay(confusion_matrix=cm_bow, display_labels=['Positif', 'Negatif'])\n",
    "disp.plot()"
   ]
  }
 ],
 "metadata": {
  "kernelspec": {
   "display_name": "Python 3 (ipykernel)",
   "language": "python",
   "name": "python3"
  },
  "language_info": {
   "codemirror_mode": {
    "name": "ipython",
    "version": 3
   },
   "file_extension": ".py",
   "mimetype": "text/x-python",
   "name": "python",
   "nbconvert_exporter": "python",
   "pygments_lexer": "ipython3",
   "version": "3.9.5"
  }
 },
 "nbformat": 4,
 "nbformat_minor": 5
}
