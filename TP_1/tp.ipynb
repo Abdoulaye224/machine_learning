{
 "cells": [
  {
   "cell_type": "markdown",
   "id": "43642290",
   "metadata": {},
   "source": [
    "### Import"
   ]
  },
  {
   "cell_type": "code",
   "execution_count": 13,
   "id": "60199e26",
   "metadata": {},
   "outputs": [],
   "source": [
    "import pandas as pd\n",
    "import numpy as np\n",
    "from sklearn import metrics\n",
    "from sklearn.model_selection import train_test_split\n",
    "from sklearn.feature_extraction.text import CountVectorizer\n",
    "from sklearn.svm import LinearSVC\n",
    "from sklearn.naive_bayes import MultinomialNB\n",
    "from sklearn.linear_model import LogisticRegression\n",
    "from sklearn.neighbors import KNeighborsClassifier\n",
    "import matplotlib.pyplot as plt\n",
    "from sklearn.metrics import confusion_matrix, ConfusionMatrixDisplay\n",
    "from sklearn.metrics import classification_report,confusion_matrix,accuracy_score\n",
    "from bs4 import BeautifulSoup"
   ]
  },
  {
   "cell_type": "markdown",
   "id": "4d247246",
   "metadata": {},
   "source": [
    "### Load datasets"
   ]
  },
  {
   "cell_type": "code",
   "execution_count": 14,
   "id": "6fc11778",
   "metadata": {},
   "outputs": [],
   "source": [
    "positif = pd.read_pickle(r'imdb_raw_pos.pickle')\n",
    "\n",
    "negatif = pd.read_pickle(r'imdb_raw_neg.pickle')"
   ]
  },
  {
   "cell_type": "code",
   "execution_count": 15,
   "id": "47dbb384",
   "metadata": {},
   "outputs": [],
   "source": [
    "pos = {'review': positif}\n",
    "\n",
    "neg = {'review': negatif}"
   ]
  },
  {
   "cell_type": "markdown",
   "id": "ceb8211c",
   "metadata": {},
   "source": [
    "### Create a dataFrame"
   ]
  },
  {
   "cell_type": "code",
   "execution_count": 16,
   "id": "ed62521c",
   "metadata": {},
   "outputs": [],
   "source": [
    "# Creates pandas DataFrame.\n",
    "df1 = pd.DataFrame(pos)\n",
    "df1['comment'] = 1"
   ]
  },
  {
   "cell_type": "code",
   "execution_count": 17,
   "id": "81b91bfd",
   "metadata": {},
   "outputs": [],
   "source": [
    "df2 = pd.DataFrame(neg)\n",
    "df2['comment'] = 0"
   ]
  },
  {
   "cell_type": "code",
   "execution_count": 18,
   "id": "55d8a127",
   "metadata": {},
   "outputs": [
    {
     "data": {
      "text/html": [
       "<div>\n",
       "<style scoped>\n",
       "    .dataframe tbody tr th:only-of-type {\n",
       "        vertical-align: middle;\n",
       "    }\n",
       "\n",
       "    .dataframe tbody tr th {\n",
       "        vertical-align: top;\n",
       "    }\n",
       "\n",
       "    .dataframe thead th {\n",
       "        text-align: right;\n",
       "    }\n",
       "</style>\n",
       "<table border=\"1\" class=\"dataframe\">\n",
       "  <thead>\n",
       "    <tr style=\"text-align: right;\">\n",
       "      <th></th>\n",
       "      <th>review</th>\n",
       "      <th>comment</th>\n",
       "    </tr>\n",
       "  </thead>\n",
       "  <tbody>\n",
       "    <tr>\n",
       "      <th>0</th>\n",
       "      <td>I went and saw this movie last night after bei...</td>\n",
       "      <td>1</td>\n",
       "    </tr>\n",
       "    <tr>\n",
       "      <th>1</th>\n",
       "      <td>Actor turned director Bill Paxton follows up h...</td>\n",
       "      <td>1</td>\n",
       "    </tr>\n",
       "    <tr>\n",
       "      <th>2</th>\n",
       "      <td>As a recreational golfer with some knowledge o...</td>\n",
       "      <td>1</td>\n",
       "    </tr>\n",
       "    <tr>\n",
       "      <th>3</th>\n",
       "      <td>I saw this film in a sneak preview, and it is ...</td>\n",
       "      <td>1</td>\n",
       "    </tr>\n",
       "    <tr>\n",
       "      <th>4</th>\n",
       "      <td>Bill Paxton has taken the true story of the 19...</td>\n",
       "      <td>1</td>\n",
       "    </tr>\n",
       "  </tbody>\n",
       "</table>\n",
       "</div>"
      ],
      "text/plain": [
       "                                              review  comment\n",
       "0  I went and saw this movie last night after bei...        1\n",
       "1  Actor turned director Bill Paxton follows up h...        1\n",
       "2  As a recreational golfer with some knowledge o...        1\n",
       "3  I saw this film in a sneak preview, and it is ...        1\n",
       "4  Bill Paxton has taken the true story of the 19...        1"
      ]
     },
     "execution_count": 18,
     "metadata": {},
     "output_type": "execute_result"
    }
   ],
   "source": [
    "data = pd.concat([df1, df2])\n",
    "data.head()"
   ]
  },
  {
   "cell_type": "code",
   "execution_count": 19,
   "id": "9942b965",
   "metadata": {},
   "outputs": [],
   "source": [
    "data = data.sample(frac=1).reset_index()\n",
    "\n",
    "data = data.drop(['index'], axis=1)"
   ]
  },
  {
   "cell_type": "code",
   "execution_count": 20,
   "id": "ea353c00",
   "metadata": {
    "scrolled": true
   },
   "outputs": [
    {
     "data": {
      "text/html": [
       "<div>\n",
       "<style scoped>\n",
       "    .dataframe tbody tr th:only-of-type {\n",
       "        vertical-align: middle;\n",
       "    }\n",
       "\n",
       "    .dataframe tbody tr th {\n",
       "        vertical-align: top;\n",
       "    }\n",
       "\n",
       "    .dataframe thead th {\n",
       "        text-align: right;\n",
       "    }\n",
       "</style>\n",
       "<table border=\"1\" class=\"dataframe\">\n",
       "  <thead>\n",
       "    <tr style=\"text-align: right;\">\n",
       "      <th></th>\n",
       "      <th>review</th>\n",
       "      <th>comment</th>\n",
       "    </tr>\n",
       "  </thead>\n",
       "  <tbody>\n",
       "    <tr>\n",
       "      <th>0</th>\n",
       "      <td>Corny and horrible, I was not surprised this s...</td>\n",
       "      <td>0</td>\n",
       "    </tr>\n",
       "    <tr>\n",
       "      <th>1</th>\n",
       "      <td>This movie plays out like an English version o...</td>\n",
       "      <td>0</td>\n",
       "    </tr>\n",
       "    <tr>\n",
       "      <th>2</th>\n",
       "      <td>OK, this 'horror' film was meant to be a joke,...</td>\n",
       "      <td>0</td>\n",
       "    </tr>\n",
       "    <tr>\n",
       "      <th>3</th>\n",
       "      <td>This is a disaster-movie, in both meanings of ...</td>\n",
       "      <td>0</td>\n",
       "    </tr>\n",
       "    <tr>\n",
       "      <th>4</th>\n",
       "      <td>Much of the commentary on this board revolves ...</td>\n",
       "      <td>0</td>\n",
       "    </tr>\n",
       "  </tbody>\n",
       "</table>\n",
       "</div>"
      ],
      "text/plain": [
       "                                              review  comment\n",
       "0  Corny and horrible, I was not surprised this s...        0\n",
       "1  This movie plays out like an English version o...        0\n",
       "2  OK, this 'horror' film was meant to be a joke,...        0\n",
       "3  This is a disaster-movie, in both meanings of ...        0\n",
       "4  Much of the commentary on this board revolves ...        0"
      ]
     },
     "execution_count": 20,
     "metadata": {},
     "output_type": "execute_result"
    }
   ],
   "source": [
    "data.head()"
   ]
  },
  {
   "cell_type": "markdown",
   "id": "44ca3b5a",
   "metadata": {},
   "source": [
    "<H2 style='color: cadetblue'> data cleaning </H2>"
   ]
  },
  {
   "cell_type": "code",
   "execution_count": 21,
   "id": "addbb62c",
   "metadata": {},
   "outputs": [],
   "source": [
    "def strip_html(text):\n",
    "    soup = BeautifulSoup(text, \"html.parser\")\n",
    "    return soup.get_text()\n",
    "\n",
    "def remove_between_square_brackets(text):\n",
    "    return text.replace('\\[[^]]*\\]', '')\n",
    "\n",
    "def denoise_text(text):\n",
    "    text = strip_html(text)\n",
    "    text = remove_between_square_brackets(text)\n",
    "    return text"
   ]
  },
  {
   "cell_type": "code",
   "execution_count": 22,
   "id": "0440449a",
   "metadata": {
    "scrolled": true
   },
   "outputs": [],
   "source": [
    "data['review']=data['review'].apply(denoise_text)"
   ]
  },
  {
   "cell_type": "code",
   "execution_count": 23,
   "id": "85991e39",
   "metadata": {},
   "outputs": [],
   "source": [
    "def remove_special_characters(text, remove_digits=True):\n",
    "    return text.replace('[^a-zA-z0-9\\s]', '')"
   ]
  },
  {
   "cell_type": "code",
   "execution_count": 24,
   "id": "ceb3e788",
   "metadata": {},
   "outputs": [],
   "source": [
    "data['review']=data['review'].apply(remove_special_characters)"
   ]
  },
  {
   "cell_type": "code",
   "execution_count": 25,
   "id": "0e0b2070",
   "metadata": {},
   "outputs": [
    {
     "data": {
      "text/plain": [
       "0        Corny and horrible, I was not surprised this s...\n",
       "1        This movie plays out like an English version o...\n",
       "2        OK, this 'horror' film was meant to be a joke,...\n",
       "3        This is a disaster-movie, in both meanings of ...\n",
       "4        Much of the commentary on this board revolves ...\n",
       "                               ...                        \n",
       "24995    I went to see Random Hearts with 3 friends, an...\n",
       "24996    This P.of S. was highly recommended to me by t...\n",
       "24997    If you're looking for a movie that's fun to wa...\n",
       "24998    A SUPERMAN CartoonA huge shipment of gold is b...\n",
       "24999    I've been watching Buffy the Vampire Slayer an...\n",
       "Name: review, Length: 25000, dtype: object"
      ]
     },
     "execution_count": 25,
     "metadata": {},
     "output_type": "execute_result"
    }
   ],
   "source": [
    "data['review']"
   ]
  },
  {
   "cell_type": "markdown",
   "id": "19acb718",
   "metadata": {},
   "source": [
    "### split dataset with 30% of datasets"
   ]
  },
  {
   "cell_type": "code",
   "execution_count": 26,
   "id": "26ce2c1e",
   "metadata": {},
   "outputs": [],
   "source": [
    "X_train, X_test, Y_train, Y_test = train_test_split(data.review,data.comment, test_size= 0.3)"
   ]
  },
  {
   "cell_type": "code",
   "execution_count": 27,
   "id": "be1e1c60",
   "metadata": {},
   "outputs": [
    {
     "name": "stdout",
     "output_type": "stream",
     "text": [
      "X_train =  (17500,)\n",
      "X_test =  (7500,)\n",
      "Y_train =  (17500,)\n",
      "Y_test =  (7500,)\n"
     ]
    }
   ],
   "source": [
    "print(\"X_train = \" , X_train.shape)\n",
    "print(\"X_test = \" , X_test.shape)\n",
    "print(\"Y_train = \" , Y_train.shape)\n",
    "print(\"Y_test = \" , Y_test.shape)"
   ]
  },
  {
   "cell_type": "markdown",
   "id": "35c78676",
   "metadata": {},
   "source": [
    "### Vectorization"
   ]
  },
  {
   "cell_type": "code",
   "execution_count": 28,
   "id": "3786ffdc",
   "metadata": {},
   "outputs": [],
   "source": [
    "cv=CountVectorizer(stop_words='english', binary=False,ngram_range=(1,1))"
   ]
  },
  {
   "cell_type": "code",
   "execution_count": 29,
   "id": "0f82c1dc",
   "metadata": {},
   "outputs": [],
   "source": [
    "cv_train_reviews=cv.fit_transform(X_train)"
   ]
  },
  {
   "cell_type": "code",
   "execution_count": 30,
   "id": "6a419c3d",
   "metadata": {},
   "outputs": [],
   "source": [
    "cv_test_reviews=cv.transform(X_test)"
   ]
  },
  {
   "cell_type": "code",
   "execution_count": 31,
   "id": "c47314df",
   "metadata": {
    "scrolled": true
   },
   "outputs": [
    {
     "name": "stdout",
     "output_type": "stream",
     "text": [
      "BOW_cv_train: (17500, 64201)\n"
     ]
    }
   ],
   "source": [
    "print('BOW_cv_train:',cv_train_reviews.shape)"
   ]
  },
  {
   "cell_type": "code",
   "execution_count": 32,
   "id": "1ee018cb",
   "metadata": {},
   "outputs": [
    {
     "name": "stdout",
     "output_type": "stream",
     "text": [
      "BOW_cv_test: (7500, 64201)\n"
     ]
    }
   ],
   "source": [
    "print('BOW_cv_test:',cv_test_reviews.shape)\n"
   ]
  },
  {
   "cell_type": "code",
   "execution_count": 33,
   "id": "aa510eb3",
   "metadata": {
    "collapsed": true
   },
   "outputs": [
    {
     "name": "stdout",
     "output_type": "stream",
     "text": [
      "  (0, 12424)\t1\n",
      "  (0, 53396)\t1\n",
      "  (0, 37744)\t6\n",
      "  (0, 63272)\t2\n",
      "  (0, 12981)\t1\n",
      "  (0, 61987)\t3\n",
      "  (0, 4687)\t1\n",
      "  (0, 21182)\t4\n",
      "  (0, 1435)\t1\n",
      "  (0, 63257)\t3\n",
      "  (0, 49465)\t4\n",
      "  (0, 52002)\t1\n",
      "  (0, 49391)\t1\n",
      "  (0, 33861)\t1\n",
      "  (0, 56700)\t2\n",
      "  (0, 57728)\t2\n",
      "  (0, 22802)\t1\n",
      "  (0, 57382)\t1\n",
      "  (0, 24286)\t1\n",
      "  (0, 24206)\t3\n",
      "  (0, 51123)\t1\n",
      "  (0, 20389)\t1\n",
      "  (0, 1398)\t1\n",
      "  (0, 20710)\t1\n",
      "  (0, 51863)\t1\n",
      "  :\t:\n",
      "  (17499, 39387)\t1\n",
      "  (17499, 18582)\t1\n",
      "  (17499, 47465)\t1\n",
      "  (17499, 41770)\t1\n",
      "  (17499, 37710)\t1\n",
      "  (17499, 36863)\t1\n",
      "  (17499, 63445)\t1\n",
      "  (17499, 17874)\t1\n",
      "  (17499, 35326)\t1\n",
      "  (17499, 64131)\t1\n",
      "  (17499, 47155)\t1\n",
      "  (17499, 52537)\t1\n",
      "  (17499, 26930)\t1\n",
      "  (17499, 8548)\t1\n",
      "  (17499, 2295)\t1\n",
      "  (17499, 59528)\t1\n",
      "  (17499, 28126)\t1\n",
      "  (17499, 282)\t1\n",
      "  (17499, 15516)\t1\n",
      "  (17499, 42856)\t1\n",
      "  (17499, 15140)\t1\n",
      "  (17499, 14742)\t4\n",
      "  (17499, 11873)\t1\n",
      "  (17499, 44656)\t1\n",
      "  (17499, 46887)\t1\n"
     ]
    }
   ],
   "source": [
    "print(cv_train_reviews)"
   ]
  },
  {
   "cell_type": "markdown",
   "id": "f5811ebe",
   "metadata": {},
   "source": [
    "### Logistic regression model on test dataset"
   ]
  },
  {
   "cell_type": "code",
   "execution_count": 35,
   "id": "44d7a789",
   "metadata": {},
   "outputs": [],
   "source": [
    "lr=LogisticRegression(max_iter=5000)"
   ]
  },
  {
   "cell_type": "code",
   "execution_count": 36,
   "id": "f1444b59",
   "metadata": {},
   "outputs": [
    {
     "data": {
      "text/plain": [
       "(17500, 64201)"
      ]
     },
     "execution_count": 36,
     "metadata": {},
     "output_type": "execute_result"
    }
   ],
   "source": [
    "cv_train_reviews.shape"
   ]
  },
  {
   "cell_type": "code",
   "execution_count": 37,
   "id": "85c2df48",
   "metadata": {},
   "outputs": [
    {
     "data": {
      "text/plain": [
       "(17500,)"
      ]
     },
     "execution_count": 37,
     "metadata": {},
     "output_type": "execute_result"
    }
   ],
   "source": [
    "Y_train.shape"
   ]
  },
  {
   "cell_type": "code",
   "execution_count": 38,
   "id": "935936b6",
   "metadata": {},
   "outputs": [],
   "source": [
    "lr_bow=lr.fit(cv_train_reviews,Y_train)"
   ]
  },
  {
   "cell_type": "code",
   "execution_count": 39,
   "id": "269c0549",
   "metadata": {},
   "outputs": [
    {
     "data": {
      "text/plain": [
       "0.9988571428571429"
      ]
     },
     "execution_count": 39,
     "metadata": {},
     "output_type": "execute_result"
    }
   ],
   "source": [
    "lr_bow.score(cv_train_reviews, Y_train)"
   ]
  },
  {
   "cell_type": "code",
   "execution_count": 40,
   "id": "b3f3bd9c",
   "metadata": {},
   "outputs": [
    {
     "data": {
      "text/plain": [
       "0.8793333333333333"
      ]
     },
     "execution_count": 40,
     "metadata": {},
     "output_type": "execute_result"
    }
   ],
   "source": [
    "lr_bow.score(cv_test_reviews, Y_test)"
   ]
  },
  {
   "cell_type": "markdown",
   "id": "e079141b",
   "metadata": {},
   "source": [
    "### Top 10 words"
   ]
  },
  {
   "cell_type": "code",
   "execution_count": 41,
   "id": "a705c0be",
   "metadata": {},
   "outputs": [],
   "source": [
    "coeff = lr_bow.coef_"
   ]
  },
  {
   "cell_type": "code",
   "execution_count": 42,
   "id": "bbb0511e",
   "metadata": {
    "scrolled": true
   },
   "outputs": [],
   "source": [
    "sort = np.argsort(abs(coeff))"
   ]
  },
  {
   "cell_type": "code",
   "execution_count": 43,
   "id": "a0aaf244",
   "metadata": {},
   "outputs": [
    {
     "data": {
      "text/plain": [
       "array([[55618, 38653, 63082, ..., 56678, 61970, 63272]], dtype=int64)"
      ]
     },
     "execution_count": 43,
     "metadata": {},
     "output_type": "execute_result"
    }
   ],
   "source": [
    "sort"
   ]
  },
  {
   "cell_type": "code",
   "execution_count": 44,
   "id": "6c02e7ad",
   "metadata": {},
   "outputs": [],
   "source": [
    "sort = sort[0][::-1][:10]"
   ]
  },
  {
   "cell_type": "code",
   "execution_count": 45,
   "id": "0afa72c0",
   "metadata": {
    "scrolled": true
   },
   "outputs": [
    {
     "data": {
      "text/plain": [
       "array([63272, 61970, 56678, 27251,  4484, 35888, 23381, 19745, 61972,\n",
       "       52916], dtype=int64)"
      ]
     },
     "execution_count": 45,
     "metadata": {},
     "output_type": "execute_result"
    }
   ],
   "source": [
    "sort"
   ]
  },
  {
   "cell_type": "code",
   "execution_count": 46,
   "id": "04fb137a",
   "metadata": {},
   "outputs": [],
   "source": [
    "list_index = []\n",
    "for i in sort :\n",
    "    list_index.append(i)"
   ]
  },
  {
   "cell_type": "code",
   "execution_count": 47,
   "id": "26c9cad7",
   "metadata": {},
   "outputs": [
    {
     "data": {
      "text/plain": [
       "[63272, 61970, 56678, 27251, 4484, 35888, 23381, 19745, 61972, 52916]"
      ]
     },
     "execution_count": 47,
     "metadata": {},
     "output_type": "execute_result"
    }
   ],
   "source": [
    "list_index"
   ]
  },
  {
   "cell_type": "code",
   "execution_count": 48,
   "id": "46f2a6d2",
   "metadata": {},
   "outputs": [],
   "source": [
    "words = []\n",
    "for i in list_index:\n",
    "    words.append(list(cv.vocabulary_.keys())[list(cv.vocabulary_.values()).index(i)])    "
   ]
  },
  {
   "cell_type": "code",
   "execution_count": 49,
   "id": "2f7d0c4d",
   "metadata": {},
   "outputs": [
    {
     "data": {
      "text/plain": [
       "['worst',\n",
       " 'waste',\n",
       " 'terrible',\n",
       " 'horrible',\n",
       " 'awful',\n",
       " 'mediocre',\n",
       " 'gem',\n",
       " 'excellent',\n",
       " 'wasted',\n",
       " 'sorry']"
      ]
     },
     "execution_count": 49,
     "metadata": {},
     "output_type": "execute_result"
    }
   ],
   "source": [
    "words"
   ]
  },
  {
   "cell_type": "code",
   "execution_count": null,
   "id": "db93ec64",
   "metadata": {},
   "outputs": [],
   "source": []
  },
  {
   "cell_type": "markdown",
   "id": "39ceb43e",
   "metadata": {},
   "source": [
    "### Predict"
   ]
  },
  {
   "cell_type": "code",
   "execution_count": 50,
   "id": "158bf5c5",
   "metadata": {},
   "outputs": [
    {
     "name": "stdout",
     "output_type": "stream",
     "text": [
      "[1 1 1 ... 1 1 1]\n"
     ]
    }
   ],
   "source": [
    "lr_bow_predict=lr.predict(cv_test_reviews)\n",
    "print(lr_bow_predict)"
   ]
  },
  {
   "cell_type": "markdown",
   "id": "8e35a7f3",
   "metadata": {},
   "source": [
    "### Accuracy of the model"
   ]
  },
  {
   "cell_type": "code",
   "execution_count": 51,
   "id": "7cccb5ec",
   "metadata": {},
   "outputs": [
    {
     "name": "stdout",
     "output_type": "stream",
     "text": [
      "lr_bow_score : 0.8793333333333333\n"
     ]
    }
   ],
   "source": [
    "lr_bow_score=accuracy_score(Y_test,lr_bow_predict)\n",
    "print(\"lr_bow_score :\",lr_bow_score)"
   ]
  },
  {
   "cell_type": "markdown",
   "id": "ac4a91f9",
   "metadata": {},
   "source": [
    "### The classification report"
   ]
  },
  {
   "cell_type": "code",
   "execution_count": 53,
   "id": "b7b3c33c",
   "metadata": {},
   "outputs": [
    {
     "name": "stdout",
     "output_type": "stream",
     "text": [
      "              precision    recall  f1-score   support\n",
      "\n",
      "    Positive       0.88      0.88      0.88      3716\n",
      "    Negative       0.88      0.88      0.88      3784\n",
      "\n",
      "    accuracy                           0.88      7500\n",
      "   macro avg       0.88      0.88      0.88      7500\n",
      "weighted avg       0.88      0.88      0.88      7500\n",
      "\n"
     ]
    }
   ],
   "source": [
    "lr_bow_report=classification_report(Y_test,lr_bow_predict,target_names=['Positive','Negative'])\n",
    "print(lr_bow_report)"
   ]
  },
  {
   "cell_type": "markdown",
   "id": "9bad36dc",
   "metadata": {},
   "source": [
    "### confusion matrix"
   ]
  },
  {
   "cell_type": "code",
   "execution_count": null,
   "id": "00f46af4",
   "metadata": {},
   "outputs": [],
   "source": [
    "cm_bow=confusion_matrix(Y_test,lr_bow_predict,labels=[1,0]/np.sum(confusion_matrix(Y_test,lr_bow_predict,labels=[1,0]\n",
    ")))"
   ]
  },
  {
   "cell_type": "code",
   "execution_count": 55,
   "id": "6414153c",
   "metadata": {},
   "outputs": [
    {
     "data": {
      "text/plain": [
       "<sklearn.metrics._plot.confusion_matrix.ConfusionMatrixDisplay at 0x237057bdee0>"
      ]
     },
     "execution_count": 55,
     "metadata": {},
     "output_type": "execute_result"
    },
    {
     "data": {
      "image/png": "[encoded data removed]",
      "text/plain": [
       "<Figure size 432x288 with 2 Axes>"
      ]
     },
     "metadata": {
      "needs_background": "light"
     },
     "output_type": "display_data"
    }
   ],
   "source": [
    "cm_bow=confusion_matrix(Y_test,lr_bow_predict,labels=[1,0])\n",
    "disp = ConfusionMatrixDisplay(confusion_matrix=cm_bow, display_labels=['Positif', 'Negatif'])\n",
    "disp.plot()"
   ]
  }
 ],
 "metadata": {
  "kernelspec": {
   "display_name": "Python 3",
   "language": "python",
   "name": "python3"
  },
  "language_info": {
   "codemirror_mode": {
    "name": "ipython",
    "version": 3
   },
   "file_extension": ".py",
   "mimetype": "text/x-python",
   "name": "python",
   "nbconvert_exporter": "python",
   "pygments_lexer": "ipython3",
   "version": "3.8.8"
  }
 },
 "nbformat": 4,
 "nbformat_minor": 5
}
