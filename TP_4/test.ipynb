{
 "cells": [
  {
   "cell_type": "code",
   "execution_count": 1,
   "id": "e1dd15a6",
   "metadata": {},
   "outputs": [],
   "source": [
    "import requests \n",
    "from requests.auth import HTTPBasicAuth\n",
    "import json\n",
    "import numpy as np\n",
    "import pandas as pd\n",
    "import pandas as pd\n",
    "import numpy as np\n",
    "import matplotlib.pyplot as plt\n",
    "from sklearn.preprocessing import MinMaxScaler\n",
    "from sklearn.metrics import mean_squared_error\n",
    "from sklearn.metrics import mean_absolute_error\n",
    "from sklearn.model_selection import train_test_split\n",
    "from keras.callbacks import EarlyStopping\n",
    "from sklearn.metrics import r2_score\n",
    "from sklearn.ensemble import AdaBoostRegressor, RandomForestRegressor, GradientBoostingRegressor\n",
    "from joblib import parallel_backend\n",
    "\n",
    "from time import time\n",
    "from tensorflow.keras.callbacks import TensorBoard\n",
    "import warnings\n",
    "warnings.filterwarnings('ignore')\n",
    "from sklearn.linear_model import LinearRegression"
   ]
  },
  {
   "cell_type": "code",
   "execution_count": 11,
   "id": "86ad7180",
   "metadata": {},
   "outputs": [],
   "source": [
    "def get_pred(api):\n",
    "  # Your api key\n",
    "  api_key = api\n",
    "  server_url = 'https://esgf-server.herokuapp.com'\n",
    "  # Service name (see https://esgf-server-staging.herokuapp.com/docs)\n",
    "  service_name = 'get_inference_data'\n",
    "  # Service parameters.\n",
    "  params = f\"?api_key={api_key}\"\n",
    "\n",
    "  # Request header.\n",
    "  headers = {\n",
    "        'Accept': 'application/json',\n",
    "        'Authorization' : f\"Bearer {api_key}\"\n",
    "  }\n",
    "\n",
    "  response = requests.get(f\"{server_url}/{service_name}{params}\", headers=headers)\n",
    "\n",
    "  # Logs.\n",
    "  print(response.text)\n",
    "\n",
    "  # Assert valid answer (see https://developer.mozilla.org/fr/docs/Web/HTTP/Status/200)\n",
    "  #assert response.status_code == 200\n",
    "\n",
    "  # Server answer as json. Dictionary with keys 'id' and 'x'\n",
    "  json_answer = response.json()\n",
    "\n",
    "  # Example id\n",
    "  example_id = json_answer['id']\n",
    "\n",
    "  # Parse str answer as json object\n",
    "  json_answer = json.loads(json_answer['x'])\n",
    "\n",
    "  # Frame answer\n",
    "  pd_sample = pd.DataFrame(json_answer)\n",
    "  liste = list(list(pd_sample[['x','y','z']].tail(1).values[0]) )\n",
    "  n = random.rand()\n",
    "  preds = ','.join(str(x-n) for x in liste)\n",
    "  # Logs. You should have (32,5).\n",
    "  print(\"Sample ID='{}' has shape {}\".format(example_id, pd_sample.shape))\n",
    "  return example_id, preds, pd_sample\n",
    "  "
   ]
  },
  {
   "cell_type": "code",
   "execution_count": 12,
   "id": "56f4bfff",
   "metadata": {},
   "outputs": [],
   "source": [
    "  from numpy import random"
   ]
  },
  {
   "cell_type": "code",
   "execution_count": 13,
   "id": "c794e95c",
   "metadata": {},
   "outputs": [
    {
     "name": "stdout",
     "output_type": "stream",
     "text": [
      "{\"id\":\"9pPe0Al5Grmhx8u9\",\"x\":\"{\\\"wconfid\\\":{\\\"0\\\":2,\\\"1\\\":2,\\\"2\\\":2,\\\"3\\\":2,\\\"4\\\":2,\\\"5\\\":2,\\\"6\\\":2,\\\"7\\\":2,\\\"8\\\":2,\\\"9\\\":2,\\\"10\\\":2,\\\"11\\\":2,\\\"12\\\":2,\\\"13\\\":2,\\\"14\\\":2,\\\"15\\\":2,\\\"16\\\":2,\\\"17\\\":2,\\\"18\\\":2,\\\"19\\\":2,\\\"20\\\":2,\\\"21\\\":2,\\\"22\\\":2,\\\"23\\\":2,\\\"24\\\":2,\\\"25\\\":2,\\\"26\\\":2,\\\"27\\\":2,\\\"28\\\":2,\\\"29\\\":2,\\\"30\\\":2,\\\"31\\\":2},\\\"pctid\\\":{\\\"0\\\":95,\\\"1\\\":95,\\\"2\\\":95,\\\"3\\\":95,\\\"4\\\":95,\\\"5\\\":95,\\\"6\\\":95,\\\"7\\\":95,\\\"8\\\":95,\\\"9\\\":95,\\\"10\\\":95,\\\"11\\\":95,\\\"12\\\":95,\\\"13\\\":95,\\\"14\\\":95,\\\"15\\\":95,\\\"16\\\":95,\\\"17\\\":95,\\\"18\\\":95,\\\"19\\\":95,\\\"20\\\":95,\\\"21\\\":95,\\\"22\\\":95,\\\"23\\\":95,\\\"24\\\":95,\\\"25\\\":95,\\\"26\\\":95,\\\"27\\\":95,\\\"28\\\":95,\\\"29\\\":95,\\\"30\\\":95,\\\"31\\\":95},\\\"x\\\":{\\\"0\\\":-1.875,\\\"1\\\":1.809,\\\"2\\\":2.102,\\\"3\\\":1.238,\\\"4\\\":2.719,\\\"5\\\":0.961,\\\"6\\\":0.746,\\\"7\\\":1.453,\\\"8\\\":0.676,\\\"9\\\":0.859,\\\"10\\\":1.852,\\\"11\\\":0.809,\\\"12\\\":1.949,\\\"13\\\":2.352,\\\"14\\\":3.121,\\\"15\\\":5.176,\\\"16\\\":-0.059,\\\"17\\\":3.547,\\\"18\\\":1.707,\\\"19\\\":1.727,\\\"20\\\":2.629,\\\"21\\\":3.621,\\\"22\\\":-0.211,\\\"23\\\":3.879,\\\"24\\\":2.07,\\\"25\\\":0.883,\\\"26\\\":1.262,\\\"27\\\":0.766,\\\"28\\\":1.082,\\\"29\\\":1.711,\\\"30\\\":2.016,\\\"31\\\":-0.316},\\\"y\\\":{\\\"0\\\":-1.555,\\\"1\\\":0.07,\\\"2\\\":2.941,\\\"3\\\":-0.125,\\\"4\\\":0.254,\\\"5\\\":-0.965,\\\"6\\\":-0.504,\\\"7\\\":1.441,\\\"8\\\":-0.125,\\\"9\\\":5.434,\\\"10\\\":0.398,\\\"11\\\":0.859,\\\"12\\\":-0.305,\\\"13\\\":0.426,\\\"14\\\":-0.535,\\\"15\\\":1.027,\\\"16\\\":0.094,\\\"17\\\":0.898,\\\"18\\\":-1.203,\\\"19\\\":-0.094,\\\"20\\\":-0.457,\\\"21\\\":-0.613,\\\"22\\\":0.586,\\\"23\\\":0.57,\\\"24\\\":-0.449,\\\"25\\\":0.461,\\\"26\\\":-0.414,\\\"27\\\":-0.461,\\\"28\\\":0.34,\\\"29\\\":0.07,\\\"30\\\":-1.414,\\\"31\\\":0.703},\\\"z\\\":{\\\"0\\\":-1.492,\\\"1\\\":-0.684,\\\"2\\\":1.457,\\\"3\\\":-0.051,\\\"4\\\":-0.117,\\\"5\\\":-0.789,\\\"6\\\":-0.145,\\\"7\\\":-0.277,\\\"8\\\":0.395,\\\"9\\\":-0.781,\\\"10\\\":-0.023,\\\"11\\\":-0.195,\\\"12\\\":0.113,\\\"13\\\":-1.551,\\\"14\\\":0.402,\\\"15\\\":0.738,\\\"16\\\":-0.953,\\\"17\\\":-1.164,\\\"18\\\":0.039,\\\"19\\\":-0.961,\\\"20\\\":0.363,\\\"21\\\":-0.809,\\\"22\\\":-1.453,\\\"23\\\":0.461,\\\"24\\\":-0.488,\\\"25\\\":-1.871,\\\"26\\\":0.957,\\\"27\\\":-0.809,\\\"28\\\":-1.355,\\\"29\\\":0.699,\\\"30\\\":-0.777,\\\"31\\\":0.223}}\",\"info\":\"1 samples (499 remaining).\"}\n",
      "Sample ID='9pPe0Al5Grmhx8u9' has shape (32, 5)\n",
      "https://esgf-server-staging.herokuapp.com/predict?api_key=1767f88c-6e71-4d1d-81e6-f6324c83b1e3&example_id=9pPe0Al5Grmhx8u9&prediction=-1.1639930065328254,-0.14499300653282543,-0.6249930065328254\n",
      "{\"detail\":\"Sample with id 9pPe0Al5Grmhx8u9 not found.\"}\n",
      "{\"id\":\"9vNuBdp2uvYTLEHb\",\"x\":\"{\\\"wconfid\\\":{\\\"0\\\":2,\\\"1\\\":2,\\\"2\\\":2,\\\"3\\\":2,\\\"4\\\":2,\\\"5\\\":2,\\\"6\\\":2,\\\"7\\\":2,\\\"8\\\":2,\\\"9\\\":2,\\\"10\\\":2,\\\"11\\\":2,\\\"12\\\":2,\\\"13\\\":2,\\\"14\\\":2,\\\"15\\\":2,\\\"16\\\":2,\\\"17\\\":2,\\\"18\\\":2,\\\"19\\\":2,\\\"20\\\":2,\\\"21\\\":2,\\\"22\\\":2,\\\"23\\\":2,\\\"24\\\":2,\\\"25\\\":2,\\\"26\\\":2,\\\"27\\\":2,\\\"28\\\":2,\\\"29\\\":2,\\\"30\\\":2,\\\"31\\\":2},\\\"pctid\\\":{\\\"0\\\":95,\\\"1\\\":95,\\\"2\\\":95,\\\"3\\\":95,\\\"4\\\":95,\\\"5\\\":95,\\\"6\\\":95,\\\"7\\\":95,\\\"8\\\":95,\\\"9\\\":95,\\\"10\\\":95,\\\"11\\\":95,\\\"12\\\":95,\\\"13\\\":95,\\\"14\\\":95,\\\"15\\\":95,\\\"16\\\":95,\\\"17\\\":95,\\\"18\\\":95,\\\"19\\\":95,\\\"20\\\":95,\\\"21\\\":95,\\\"22\\\":95,\\\"23\\\":95,\\\"24\\\":95,\\\"25\\\":95,\\\"26\\\":95,\\\"27\\\":95,\\\"28\\\":95,\\\"29\\\":95,\\\"30\\\":95,\\\"31\\\":95},\\\"x\\\":{\\\"0\\\":1.004,\\\"1\\\":2.383,\\\"2\\\":0.074,\\\"3\\\":1.645,\\\"4\\\":1.5,\\\"5\\\":-0.777,\\\"6\\\":-1.762,\\\"7\\\":2.898,\\\"8\\\":0.625,\\\"9\\\":1.164,\\\"10\\\":-0.098,\\\"11\\\":0.422,\\\"12\\\":1.68,\\\"13\\\":-0.891,\\\"14\\\":2.055,\\\"15\\\":1.941,\\\"16\\\":2.762,\\\"17\\\":1.555,\\\"18\\\":0.465,\\\"19\\\":7.996,\\\"20\\\":2.398,\\\"21\\\":1.734,\\\"22\\\":1.727,\\\"23\\\":1.766,\\\"24\\\":4.395,\\\"25\\\":1.422,\\\"26\\\":1.543,\\\"27\\\":1.57,\\\"28\\\":1.773,\\\"29\\\":-0.637,\\\"30\\\":-0.715,\\\"31\\\":3.332},\\\"y\\\":{\\\"0\\\":0.699,\\\"1\\\":-2.5,\\\"2\\\":-4.063,\\\"3\\\":1.836,\\\"4\\\":-0.52,\\\"5\\\":-0.781,\\\"6\\\":0.527,\\\"7\\\":-0.828,\\\"8\\\":0.328,\\\"9\\\":6.43,\\\"10\\\":-0.457,\\\"11\\\":0.719,\\\"12\\\":0.168,\\\"13\\\":-2.453,\\\"14\\\":0.492,\\\"15\\\":-2.414,\\\"16\\\":-0.074,\\\"17\\\":2.707,\\\"18\\\":1.094,\\\"19\\\":-5.191,\\\"20\\\":0.801,\\\"21\\\":0.531,\\\"22\\\":-1.07,\\\"23\\\":0.973,\\\"24\\\":-0.535,\\\"25\\\":0.688,\\\"26\\\":0.043,\\\"27\\\":-0.023,\\\"28\\\":0.055,\\\"29\\\":0.738,\\\"30\\\":1.172,\\\"31\\\":-1.395},\\\"z\\\":{\\\"0\\\":-0.352,\\\"1\\\":1.379,\\\"2\\\":-0.641,\\\"3\\\":0.266,\\\"4\\\":0.023,\\\"5\\\":-2.863,\\\"6\\\":0.535,\\\"7\\\":-0.688,\\\"8\\\":-0.387,\\\"9\\\":0.535,\\\"10\\\":-0.605,\\\"11\\\":0.293,\\\"12\\\":0.801,\\\"13\\\":-0.977,\\\"14\\\":-0.977,\\\"15\\\":-2.645,\\\"16\\\":-1.652,\\\"17\\\":0.113,\\\"18\\\":0.828,\\\"19\\\":-1.352,\\\"20\\\":-1.375,\\\"21\\\":0.75,\\\"22\\\":-1.449,\\\"23\\\":-1.57,\\\"24\\\":2.164,\\\"25\\\":-0.09,\\\"26\\\":-0.914,\\\"27\\\":0.32,\\\"28\\\":0.789,\\\"29\\\":-0.633,\\\"30\\\":1.867,\\\"31\\\":-2.137}}\",\"info\":\"2 samples (498 remaining).\"}\n",
      "Sample ID='9vNuBdp2uvYTLEHb' has shape (32, 5)\n",
      "https://esgf-server-staging.herokuapp.com/predict?api_key=1767f88c-6e71-4d1d-81e6-f6324c83b1e3&example_id=9vNuBdp2uvYTLEHb&prediction=2.909740651179034,-1.8172593488209658,-2.559259348820966\n",
      "{\"detail\":\"Sample with id 9vNuBdp2uvYTLEHb not found.\"}\n",
      "{\"id\":\"dY0gL1tuURPZurTx\",\"x\":\"{\\\"wconfid\\\":{\\\"0\\\":2,\\\"1\\\":2,\\\"2\\\":2,\\\"3\\\":2,\\\"4\\\":2,\\\"5\\\":2,\\\"6\\\":2,\\\"7\\\":2,\\\"8\\\":2,\\\"9\\\":2,\\\"10\\\":2,\\\"11\\\":2,\\\"12\\\":2,\\\"13\\\":2,\\\"14\\\":2,\\\"15\\\":2,\\\"16\\\":2,\\\"17\\\":2,\\\"18\\\":2,\\\"19\\\":2,\\\"20\\\":2,\\\"21\\\":2,\\\"22\\\":2,\\\"23\\\":2,\\\"24\\\":2,\\\"25\\\":2,\\\"26\\\":2,\\\"27\\\":2,\\\"28\\\":2,\\\"29\\\":2,\\\"30\\\":2,\\\"31\\\":2},\\\"pctid\\\":{\\\"0\\\":40,\\\"1\\\":40,\\\"2\\\":40,\\\"3\\\":40,\\\"4\\\":40,\\\"5\\\":40,\\\"6\\\":40,\\\"7\\\":40,\\\"8\\\":40,\\\"9\\\":40,\\\"10\\\":40,\\\"11\\\":40,\\\"12\\\":40,\\\"13\\\":40,\\\"14\\\":40,\\\"15\\\":40,\\\"16\\\":40,\\\"17\\\":40,\\\"18\\\":40,\\\"19\\\":40,\\\"20\\\":40,\\\"21\\\":40,\\\"22\\\":40,\\\"23\\\":40,\\\"24\\\":40,\\\"25\\\":40,\\\"26\\\":40,\\\"27\\\":40,\\\"28\\\":40,\\\"29\\\":40,\\\"30\\\":40,\\\"31\\\":40},\\\"x\\\":{\\\"0\\\":0.98,\\\"1\\\":0.996,\\\"2\\\":0.953,\\\"3\\\":1.0,\\\"4\\\":0.961,\\\"5\\\":0.996,\\\"6\\\":0.988,\\\"7\\\":1.008,\\\"8\\\":1.023,\\\"9\\\":0.996,\\\"10\\\":1.02,\\\"11\\\":0.984,\\\"12\\\":0.988,\\\"13\\\":0.988,\\\"14\\\":0.953,\\\"15\\\":1.023,\\\"16\\\":0.965,\\\"17\\\":1.02,\\\"18\\\":1.016,\\\"19\\\":0.973,\\\"20\\\":0.98,\\\"21\\\":0.973,\\\"22\\\":1.023,\\\"23\\\":1.035,\\\"24\\\":0.984,\\\"25\\\":1.004,\\\"26\\\":1.008,\\\"27\\\":0.996,\\\"28\\\":0.98,\\\"29\\\":0.961,\\\"30\\\":0.988,\\\"31\\\":1.035},\\\"y\\\":{\\\"0\\\":-0.027,\\\"1\\\":-0.051,\\\"2\\\":-0.035,\\\"3\\\":-0.035,\\\"4\\\":0.125,\\\"5\\\":0.051,\\\"6\\\":0.098,\\\"7\\\":-0.172,\\\"8\\\":-0.109,\\\"9\\\":0.086,\\\"10\\\":0.031,\\\"11\\\":0.094,\\\"12\\\":0.07,\\\"13\\\":-0.07,\\\"14\\\":0.098,\\\"15\\\":0.059,\\\"16\\\":0.094,\\\"17\\\":0.094,\\\"18\\\":0.063,\\\"19\\\":0.035,\\\"20\\\":-0.059,\\\"21\\\":0.0,\\\"22\\\":-0.027,\\\"23\\\":0.145,\\\"24\\\":-0.012,\\\"25\\\":0.012,\\\"26\\\":0.078,\\\"27\\\":-0.105,\\\"28\\\":-0.031,\\\"29\\\":0.148,\\\"30\\\":-0.051,\\\"31\\\":-0.039},\\\"z\\\":{\\\"0\\\":-0.063,\\\"1\\\":-0.117,\\\"2\\\":-0.109,\\\"3\\\":-0.152,\\\"4\\\":-0.129,\\\"5\\\":-0.109,\\\"6\\\":-0.051,\\\"7\\\":-0.078,\\\"8\\\":-0.133,\\\"9\\\":-0.148,\\\"10\\\":-0.145,\\\"11\\\":-0.117,\\\"12\\\":-0.082,\\\"13\\\":-0.02,\\\"14\\\":-0.152,\\\"15\\\":-0.16,\\\"16\\\":-0.152,\\\"17\\\":-0.09,\\\"18\\\":-0.063,\\\"19\\\":-0.07,\\\"20\\\":-0.094,\\\"21\\\":-0.207,\\\"22\\\":-0.145,\\\"23\\\":-0.109,\\\"24\\\":-0.047,\\\"25\\\":-0.086,\\\"26\\\":-0.113,\\\"27\\\":-0.129,\\\"28\\\":-0.145,\\\"29\\\":-0.137,\\\"30\\\":-0.066,\\\"31\\\":-0.07}}\",\"info\":\"3 samples (497 remaining).\"}\n",
      "Sample ID='dY0gL1tuURPZurTx' has shape (32, 5)\n",
      "https://esgf-server-staging.herokuapp.com/predict?api_key=1767f88c-6e71-4d1d-81e6-f6324c83b1e3&example_id=dY0gL1tuURPZurTx&prediction=0.11435425420065692,-0.959645745799343,-0.990645745799343\n",
      "{\"detail\":\"Sample with id dY0gL1tuURPZurTx not found.\"}\n"
     ]
    },
    {
     "ename": "KeyboardInterrupt",
     "evalue": "",
     "output_type": "error",
     "traceback": [
      "\u001b[1;31m---------------------------------------------------------------------------\u001b[0m",
      "\u001b[1;31mKeyboardInterrupt\u001b[0m                         Traceback (most recent call last)",
      "\u001b[1;32m<ipython-input-13-271b26c85b2e>\u001b[0m in \u001b[0;36m<module>\u001b[1;34m\u001b[0m\n\u001b[0;32m      3\u001b[0m   \u001b[1;32mfor\u001b[0m \u001b[0mi\u001b[0m \u001b[1;32min\u001b[0m \u001b[0mrange\u001b[0m\u001b[1;33m(\u001b[0m\u001b[1;36m300\u001b[0m\u001b[1;33m)\u001b[0m\u001b[1;33m:\u001b[0m\u001b[1;33m\u001b[0m\u001b[1;33m\u001b[0m\u001b[0m\n\u001b[0;32m      4\u001b[0m     \u001b[1;31m# Your api key\u001b[0m\u001b[1;33m\u001b[0m\u001b[1;33m\u001b[0m\u001b[1;33m\u001b[0m\u001b[0m\n\u001b[1;32m----> 5\u001b[1;33m     \u001b[0mid\u001b[0m\u001b[1;33m,\u001b[0m \u001b[0mpreds\u001b[0m\u001b[1;33m,\u001b[0m \u001b[0mpd_sample\u001b[0m \u001b[1;33m=\u001b[0m \u001b[0mget_pred\u001b[0m\u001b[1;33m(\u001b[0m\u001b[0mapi\u001b[0m\u001b[1;33m)\u001b[0m\u001b[1;33m\u001b[0m\u001b[1;33m\u001b[0m\u001b[0m\n\u001b[0m\u001b[0;32m      6\u001b[0m     \u001b[0mapi_key\u001b[0m \u001b[1;33m=\u001b[0m \u001b[0mapi\u001b[0m\u001b[1;33m\u001b[0m\u001b[1;33m\u001b[0m\u001b[0m\n\u001b[0;32m      7\u001b[0m     \u001b[0mserver_url\u001b[0m \u001b[1;33m=\u001b[0m \u001b[1;34m'https://esgf-server-staging.herokuapp.com'\u001b[0m\u001b[1;33m\u001b[0m\u001b[1;33m\u001b[0m\u001b[0m\n",
      "\u001b[1;32m<ipython-input-11-37a5d143487b>\u001b[0m in \u001b[0;36mget_pred\u001b[1;34m(api)\u001b[0m\n\u001b[0;32m     14\u001b[0m   }\n\u001b[0;32m     15\u001b[0m \u001b[1;33m\u001b[0m\u001b[0m\n\u001b[1;32m---> 16\u001b[1;33m   \u001b[0mresponse\u001b[0m \u001b[1;33m=\u001b[0m \u001b[0mrequests\u001b[0m\u001b[1;33m.\u001b[0m\u001b[0mget\u001b[0m\u001b[1;33m(\u001b[0m\u001b[1;34mf\"{server_url}/{service_name}{params}\"\u001b[0m\u001b[1;33m,\u001b[0m \u001b[0mheaders\u001b[0m\u001b[1;33m=\u001b[0m\u001b[0mheaders\u001b[0m\u001b[1;33m)\u001b[0m\u001b[1;33m\u001b[0m\u001b[1;33m\u001b[0m\u001b[0m\n\u001b[0m\u001b[0;32m     17\u001b[0m \u001b[1;33m\u001b[0m\u001b[0m\n\u001b[0;32m     18\u001b[0m   \u001b[1;31m# Logs.\u001b[0m\u001b[1;33m\u001b[0m\u001b[1;33m\u001b[0m\u001b[1;33m\u001b[0m\u001b[0m\n",
      "\u001b[1;32m~\\anaconda3\\lib\\site-packages\\requests\\api.py\u001b[0m in \u001b[0;36mget\u001b[1;34m(url, params, **kwargs)\u001b[0m\n\u001b[0;32m     73\u001b[0m     \"\"\"\n\u001b[0;32m     74\u001b[0m \u001b[1;33m\u001b[0m\u001b[0m\n\u001b[1;32m---> 75\u001b[1;33m     \u001b[1;32mreturn\u001b[0m \u001b[0mrequest\u001b[0m\u001b[1;33m(\u001b[0m\u001b[1;34m'get'\u001b[0m\u001b[1;33m,\u001b[0m \u001b[0murl\u001b[0m\u001b[1;33m,\u001b[0m \u001b[0mparams\u001b[0m\u001b[1;33m=\u001b[0m\u001b[0mparams\u001b[0m\u001b[1;33m,\u001b[0m \u001b[1;33m**\u001b[0m\u001b[0mkwargs\u001b[0m\u001b[1;33m)\u001b[0m\u001b[1;33m\u001b[0m\u001b[1;33m\u001b[0m\u001b[0m\n\u001b[0m\u001b[0;32m     76\u001b[0m \u001b[1;33m\u001b[0m\u001b[0m\n\u001b[0;32m     77\u001b[0m \u001b[1;33m\u001b[0m\u001b[0m\n",
      "\u001b[1;32m~\\anaconda3\\lib\\site-packages\\requests\\api.py\u001b[0m in \u001b[0;36mrequest\u001b[1;34m(method, url, **kwargs)\u001b[0m\n\u001b[0;32m     59\u001b[0m     \u001b[1;31m# cases, and look like a memory leak in others.\u001b[0m\u001b[1;33m\u001b[0m\u001b[1;33m\u001b[0m\u001b[1;33m\u001b[0m\u001b[0m\n\u001b[0;32m     60\u001b[0m     \u001b[1;32mwith\u001b[0m \u001b[0msessions\u001b[0m\u001b[1;33m.\u001b[0m\u001b[0mSession\u001b[0m\u001b[1;33m(\u001b[0m\u001b[1;33m)\u001b[0m \u001b[1;32mas\u001b[0m \u001b[0msession\u001b[0m\u001b[1;33m:\u001b[0m\u001b[1;33m\u001b[0m\u001b[1;33m\u001b[0m\u001b[0m\n\u001b[1;32m---> 61\u001b[1;33m         \u001b[1;32mreturn\u001b[0m \u001b[0msession\u001b[0m\u001b[1;33m.\u001b[0m\u001b[0mrequest\u001b[0m\u001b[1;33m(\u001b[0m\u001b[0mmethod\u001b[0m\u001b[1;33m=\u001b[0m\u001b[0mmethod\u001b[0m\u001b[1;33m,\u001b[0m \u001b[0murl\u001b[0m\u001b[1;33m=\u001b[0m\u001b[0murl\u001b[0m\u001b[1;33m,\u001b[0m \u001b[1;33m**\u001b[0m\u001b[0mkwargs\u001b[0m\u001b[1;33m)\u001b[0m\u001b[1;33m\u001b[0m\u001b[1;33m\u001b[0m\u001b[0m\n\u001b[0m\u001b[0;32m     62\u001b[0m \u001b[1;33m\u001b[0m\u001b[0m\n\u001b[0;32m     63\u001b[0m \u001b[1;33m\u001b[0m\u001b[0m\n",
      "\u001b[1;32m~\\anaconda3\\lib\\site-packages\\requests\\sessions.py\u001b[0m in \u001b[0;36mrequest\u001b[1;34m(self, method, url, params, data, headers, cookies, files, auth, timeout, allow_redirects, proxies, hooks, stream, verify, cert, json)\u001b[0m\n\u001b[0;32m    527\u001b[0m         }\n\u001b[0;32m    528\u001b[0m         \u001b[0msend_kwargs\u001b[0m\u001b[1;33m.\u001b[0m\u001b[0mupdate\u001b[0m\u001b[1;33m(\u001b[0m\u001b[0msettings\u001b[0m\u001b[1;33m)\u001b[0m\u001b[1;33m\u001b[0m\u001b[1;33m\u001b[0m\u001b[0m\n\u001b[1;32m--> 529\u001b[1;33m         \u001b[0mresp\u001b[0m \u001b[1;33m=\u001b[0m \u001b[0mself\u001b[0m\u001b[1;33m.\u001b[0m\u001b[0msend\u001b[0m\u001b[1;33m(\u001b[0m\u001b[0mprep\u001b[0m\u001b[1;33m,\u001b[0m \u001b[1;33m**\u001b[0m\u001b[0msend_kwargs\u001b[0m\u001b[1;33m)\u001b[0m\u001b[1;33m\u001b[0m\u001b[1;33m\u001b[0m\u001b[0m\n\u001b[0m\u001b[0;32m    530\u001b[0m \u001b[1;33m\u001b[0m\u001b[0m\n\u001b[0;32m    531\u001b[0m         \u001b[1;32mreturn\u001b[0m \u001b[0mresp\u001b[0m\u001b[1;33m\u001b[0m\u001b[1;33m\u001b[0m\u001b[0m\n",
      "\u001b[1;32m~\\anaconda3\\lib\\site-packages\\requests\\sessions.py\u001b[0m in \u001b[0;36msend\u001b[1;34m(self, request, **kwargs)\u001b[0m\n\u001b[0;32m    643\u001b[0m \u001b[1;33m\u001b[0m\u001b[0m\n\u001b[0;32m    644\u001b[0m         \u001b[1;31m# Send the request\u001b[0m\u001b[1;33m\u001b[0m\u001b[1;33m\u001b[0m\u001b[1;33m\u001b[0m\u001b[0m\n\u001b[1;32m--> 645\u001b[1;33m         \u001b[0mr\u001b[0m \u001b[1;33m=\u001b[0m \u001b[0madapter\u001b[0m\u001b[1;33m.\u001b[0m\u001b[0msend\u001b[0m\u001b[1;33m(\u001b[0m\u001b[0mrequest\u001b[0m\u001b[1;33m,\u001b[0m \u001b[1;33m**\u001b[0m\u001b[0mkwargs\u001b[0m\u001b[1;33m)\u001b[0m\u001b[1;33m\u001b[0m\u001b[1;33m\u001b[0m\u001b[0m\n\u001b[0m\u001b[0;32m    646\u001b[0m \u001b[1;33m\u001b[0m\u001b[0m\n\u001b[0;32m    647\u001b[0m         \u001b[1;31m# Total elapsed time of the request (approximately)\u001b[0m\u001b[1;33m\u001b[0m\u001b[1;33m\u001b[0m\u001b[1;33m\u001b[0m\u001b[0m\n",
      "\u001b[1;32m~\\anaconda3\\lib\\site-packages\\requests\\adapters.py\u001b[0m in \u001b[0;36msend\u001b[1;34m(self, request, stream, timeout, verify, cert, proxies)\u001b[0m\n\u001b[0;32m    438\u001b[0m         \u001b[1;32mtry\u001b[0m\u001b[1;33m:\u001b[0m\u001b[1;33m\u001b[0m\u001b[1;33m\u001b[0m\u001b[0m\n\u001b[0;32m    439\u001b[0m             \u001b[1;32mif\u001b[0m \u001b[1;32mnot\u001b[0m \u001b[0mchunked\u001b[0m\u001b[1;33m:\u001b[0m\u001b[1;33m\u001b[0m\u001b[1;33m\u001b[0m\u001b[0m\n\u001b[1;32m--> 440\u001b[1;33m                 resp = conn.urlopen(\n\u001b[0m\u001b[0;32m    441\u001b[0m                     \u001b[0mmethod\u001b[0m\u001b[1;33m=\u001b[0m\u001b[0mrequest\u001b[0m\u001b[1;33m.\u001b[0m\u001b[0mmethod\u001b[0m\u001b[1;33m,\u001b[0m\u001b[1;33m\u001b[0m\u001b[1;33m\u001b[0m\u001b[0m\n\u001b[0;32m    442\u001b[0m                     \u001b[0murl\u001b[0m\u001b[1;33m=\u001b[0m\u001b[0murl\u001b[0m\u001b[1;33m,\u001b[0m\u001b[1;33m\u001b[0m\u001b[1;33m\u001b[0m\u001b[0m\n",
      "\u001b[1;32m~\\anaconda3\\lib\\site-packages\\urllib3\\connectionpool.py\u001b[0m in \u001b[0;36murlopen\u001b[1;34m(self, method, url, body, headers, retries, redirect, assert_same_host, timeout, pool_timeout, release_conn, chunked, body_pos, **response_kw)\u001b[0m\n\u001b[0;32m    697\u001b[0m \u001b[1;33m\u001b[0m\u001b[0m\n\u001b[0;32m    698\u001b[0m             \u001b[1;31m# Make the request on the httplib connection object.\u001b[0m\u001b[1;33m\u001b[0m\u001b[1;33m\u001b[0m\u001b[1;33m\u001b[0m\u001b[0m\n\u001b[1;32m--> 699\u001b[1;33m             httplib_response = self._make_request(\n\u001b[0m\u001b[0;32m    700\u001b[0m                 \u001b[0mconn\u001b[0m\u001b[1;33m,\u001b[0m\u001b[1;33m\u001b[0m\u001b[1;33m\u001b[0m\u001b[0m\n\u001b[0;32m    701\u001b[0m                 \u001b[0mmethod\u001b[0m\u001b[1;33m,\u001b[0m\u001b[1;33m\u001b[0m\u001b[1;33m\u001b[0m\u001b[0m\n",
      "\u001b[1;32m~\\anaconda3\\lib\\site-packages\\urllib3\\connectionpool.py\u001b[0m in \u001b[0;36m_make_request\u001b[1;34m(self, conn, method, url, timeout, chunked, **httplib_request_kw)\u001b[0m\n\u001b[0;32m    443\u001b[0m                     \u001b[1;31m# Python 3 (including for exceptions like SystemExit).\u001b[0m\u001b[1;33m\u001b[0m\u001b[1;33m\u001b[0m\u001b[1;33m\u001b[0m\u001b[0m\n\u001b[0;32m    444\u001b[0m                     \u001b[1;31m# Otherwise it looks like a bug in the code.\u001b[0m\u001b[1;33m\u001b[0m\u001b[1;33m\u001b[0m\u001b[1;33m\u001b[0m\u001b[0m\n\u001b[1;32m--> 445\u001b[1;33m                     \u001b[0msix\u001b[0m\u001b[1;33m.\u001b[0m\u001b[0mraise_from\u001b[0m\u001b[1;33m(\u001b[0m\u001b[0me\u001b[0m\u001b[1;33m,\u001b[0m \u001b[1;32mNone\u001b[0m\u001b[1;33m)\u001b[0m\u001b[1;33m\u001b[0m\u001b[1;33m\u001b[0m\u001b[0m\n\u001b[0m\u001b[0;32m    446\u001b[0m         \u001b[1;32mexcept\u001b[0m \u001b[1;33m(\u001b[0m\u001b[0mSocketTimeout\u001b[0m\u001b[1;33m,\u001b[0m \u001b[0mBaseSSLError\u001b[0m\u001b[1;33m,\u001b[0m \u001b[0mSocketError\u001b[0m\u001b[1;33m)\u001b[0m \u001b[1;32mas\u001b[0m \u001b[0me\u001b[0m\u001b[1;33m:\u001b[0m\u001b[1;33m\u001b[0m\u001b[1;33m\u001b[0m\u001b[0m\n\u001b[0;32m    447\u001b[0m             \u001b[0mself\u001b[0m\u001b[1;33m.\u001b[0m\u001b[0m_raise_timeout\u001b[0m\u001b[1;33m(\u001b[0m\u001b[0merr\u001b[0m\u001b[1;33m=\u001b[0m\u001b[0me\u001b[0m\u001b[1;33m,\u001b[0m \u001b[0murl\u001b[0m\u001b[1;33m=\u001b[0m\u001b[0murl\u001b[0m\u001b[1;33m,\u001b[0m \u001b[0mtimeout_value\u001b[0m\u001b[1;33m=\u001b[0m\u001b[0mread_timeout\u001b[0m\u001b[1;33m)\u001b[0m\u001b[1;33m\u001b[0m\u001b[1;33m\u001b[0m\u001b[0m\n",
      "\u001b[1;32m~\\anaconda3\\lib\\site-packages\\urllib3\\packages\\six.py\u001b[0m in \u001b[0;36mraise_from\u001b[1;34m(value, from_value)\u001b[0m\n",
      "\u001b[1;32m~\\anaconda3\\lib\\site-packages\\urllib3\\connectionpool.py\u001b[0m in \u001b[0;36m_make_request\u001b[1;34m(self, conn, method, url, timeout, chunked, **httplib_request_kw)\u001b[0m\n\u001b[0;32m    438\u001b[0m                 \u001b[1;31m# Python 3\u001b[0m\u001b[1;33m\u001b[0m\u001b[1;33m\u001b[0m\u001b[1;33m\u001b[0m\u001b[0m\n\u001b[0;32m    439\u001b[0m                 \u001b[1;32mtry\u001b[0m\u001b[1;33m:\u001b[0m\u001b[1;33m\u001b[0m\u001b[1;33m\u001b[0m\u001b[0m\n\u001b[1;32m--> 440\u001b[1;33m                     \u001b[0mhttplib_response\u001b[0m \u001b[1;33m=\u001b[0m \u001b[0mconn\u001b[0m\u001b[1;33m.\u001b[0m\u001b[0mgetresponse\u001b[0m\u001b[1;33m(\u001b[0m\u001b[1;33m)\u001b[0m\u001b[1;33m\u001b[0m\u001b[1;33m\u001b[0m\u001b[0m\n\u001b[0m\u001b[0;32m    441\u001b[0m                 \u001b[1;32mexcept\u001b[0m \u001b[0mBaseException\u001b[0m \u001b[1;32mas\u001b[0m \u001b[0me\u001b[0m\u001b[1;33m:\u001b[0m\u001b[1;33m\u001b[0m\u001b[1;33m\u001b[0m\u001b[0m\n\u001b[0;32m    442\u001b[0m                     \u001b[1;31m# Remove the TypeError from the exception chain in\u001b[0m\u001b[1;33m\u001b[0m\u001b[1;33m\u001b[0m\u001b[1;33m\u001b[0m\u001b[0m\n",
      "\u001b[1;32m~\\anaconda3\\lib\\http\\client.py\u001b[0m in \u001b[0;36mgetresponse\u001b[1;34m(self)\u001b[0m\n\u001b[0;32m   1345\u001b[0m         \u001b[1;32mtry\u001b[0m\u001b[1;33m:\u001b[0m\u001b[1;33m\u001b[0m\u001b[1;33m\u001b[0m\u001b[0m\n\u001b[0;32m   1346\u001b[0m             \u001b[1;32mtry\u001b[0m\u001b[1;33m:\u001b[0m\u001b[1;33m\u001b[0m\u001b[1;33m\u001b[0m\u001b[0m\n\u001b[1;32m-> 1347\u001b[1;33m                 \u001b[0mresponse\u001b[0m\u001b[1;33m.\u001b[0m\u001b[0mbegin\u001b[0m\u001b[1;33m(\u001b[0m\u001b[1;33m)\u001b[0m\u001b[1;33m\u001b[0m\u001b[1;33m\u001b[0m\u001b[0m\n\u001b[0m\u001b[0;32m   1348\u001b[0m             \u001b[1;32mexcept\u001b[0m \u001b[0mConnectionError\u001b[0m\u001b[1;33m:\u001b[0m\u001b[1;33m\u001b[0m\u001b[1;33m\u001b[0m\u001b[0m\n\u001b[0;32m   1349\u001b[0m                 \u001b[0mself\u001b[0m\u001b[1;33m.\u001b[0m\u001b[0mclose\u001b[0m\u001b[1;33m(\u001b[0m\u001b[1;33m)\u001b[0m\u001b[1;33m\u001b[0m\u001b[1;33m\u001b[0m\u001b[0m\n",
      "\u001b[1;32m~\\anaconda3\\lib\\http\\client.py\u001b[0m in \u001b[0;36mbegin\u001b[1;34m(self)\u001b[0m\n\u001b[0;32m    305\u001b[0m         \u001b[1;31m# read until we get a non-100 response\u001b[0m\u001b[1;33m\u001b[0m\u001b[1;33m\u001b[0m\u001b[1;33m\u001b[0m\u001b[0m\n\u001b[0;32m    306\u001b[0m         \u001b[1;32mwhile\u001b[0m \u001b[1;32mTrue\u001b[0m\u001b[1;33m:\u001b[0m\u001b[1;33m\u001b[0m\u001b[1;33m\u001b[0m\u001b[0m\n\u001b[1;32m--> 307\u001b[1;33m             \u001b[0mversion\u001b[0m\u001b[1;33m,\u001b[0m \u001b[0mstatus\u001b[0m\u001b[1;33m,\u001b[0m \u001b[0mreason\u001b[0m \u001b[1;33m=\u001b[0m \u001b[0mself\u001b[0m\u001b[1;33m.\u001b[0m\u001b[0m_read_status\u001b[0m\u001b[1;33m(\u001b[0m\u001b[1;33m)\u001b[0m\u001b[1;33m\u001b[0m\u001b[1;33m\u001b[0m\u001b[0m\n\u001b[0m\u001b[0;32m    308\u001b[0m             \u001b[1;32mif\u001b[0m \u001b[0mstatus\u001b[0m \u001b[1;33m!=\u001b[0m \u001b[0mCONTINUE\u001b[0m\u001b[1;33m:\u001b[0m\u001b[1;33m\u001b[0m\u001b[1;33m\u001b[0m\u001b[0m\n\u001b[0;32m    309\u001b[0m                 \u001b[1;32mbreak\u001b[0m\u001b[1;33m\u001b[0m\u001b[1;33m\u001b[0m\u001b[0m\n",
      "\u001b[1;32m~\\anaconda3\\lib\\http\\client.py\u001b[0m in \u001b[0;36m_read_status\u001b[1;34m(self)\u001b[0m\n\u001b[0;32m    266\u001b[0m \u001b[1;33m\u001b[0m\u001b[0m\n\u001b[0;32m    267\u001b[0m     \u001b[1;32mdef\u001b[0m \u001b[0m_read_status\u001b[0m\u001b[1;33m(\u001b[0m\u001b[0mself\u001b[0m\u001b[1;33m)\u001b[0m\u001b[1;33m:\u001b[0m\u001b[1;33m\u001b[0m\u001b[1;33m\u001b[0m\u001b[0m\n\u001b[1;32m--> 268\u001b[1;33m         \u001b[0mline\u001b[0m \u001b[1;33m=\u001b[0m \u001b[0mstr\u001b[0m\u001b[1;33m(\u001b[0m\u001b[0mself\u001b[0m\u001b[1;33m.\u001b[0m\u001b[0mfp\u001b[0m\u001b[1;33m.\u001b[0m\u001b[0mreadline\u001b[0m\u001b[1;33m(\u001b[0m\u001b[0m_MAXLINE\u001b[0m \u001b[1;33m+\u001b[0m \u001b[1;36m1\u001b[0m\u001b[1;33m)\u001b[0m\u001b[1;33m,\u001b[0m \u001b[1;34m\"iso-8859-1\"\u001b[0m\u001b[1;33m)\u001b[0m\u001b[1;33m\u001b[0m\u001b[1;33m\u001b[0m\u001b[0m\n\u001b[0m\u001b[0;32m    269\u001b[0m         \u001b[1;32mif\u001b[0m \u001b[0mlen\u001b[0m\u001b[1;33m(\u001b[0m\u001b[0mline\u001b[0m\u001b[1;33m)\u001b[0m \u001b[1;33m>\u001b[0m \u001b[0m_MAXLINE\u001b[0m\u001b[1;33m:\u001b[0m\u001b[1;33m\u001b[0m\u001b[1;33m\u001b[0m\u001b[0m\n\u001b[0;32m    270\u001b[0m             \u001b[1;32mraise\u001b[0m \u001b[0mLineTooLong\u001b[0m\u001b[1;33m(\u001b[0m\u001b[1;34m\"status line\"\u001b[0m\u001b[1;33m)\u001b[0m\u001b[1;33m\u001b[0m\u001b[1;33m\u001b[0m\u001b[0m\n",
      "\u001b[1;32m~\\anaconda3\\lib\\socket.py\u001b[0m in \u001b[0;36mreadinto\u001b[1;34m(self, b)\u001b[0m\n\u001b[0;32m    667\u001b[0m         \u001b[1;32mwhile\u001b[0m \u001b[1;32mTrue\u001b[0m\u001b[1;33m:\u001b[0m\u001b[1;33m\u001b[0m\u001b[1;33m\u001b[0m\u001b[0m\n\u001b[0;32m    668\u001b[0m             \u001b[1;32mtry\u001b[0m\u001b[1;33m:\u001b[0m\u001b[1;33m\u001b[0m\u001b[1;33m\u001b[0m\u001b[0m\n\u001b[1;32m--> 669\u001b[1;33m                 \u001b[1;32mreturn\u001b[0m \u001b[0mself\u001b[0m\u001b[1;33m.\u001b[0m\u001b[0m_sock\u001b[0m\u001b[1;33m.\u001b[0m\u001b[0mrecv_into\u001b[0m\u001b[1;33m(\u001b[0m\u001b[0mb\u001b[0m\u001b[1;33m)\u001b[0m\u001b[1;33m\u001b[0m\u001b[1;33m\u001b[0m\u001b[0m\n\u001b[0m\u001b[0;32m    670\u001b[0m             \u001b[1;32mexcept\u001b[0m \u001b[0mtimeout\u001b[0m\u001b[1;33m:\u001b[0m\u001b[1;33m\u001b[0m\u001b[1;33m\u001b[0m\u001b[0m\n\u001b[0;32m    671\u001b[0m                 \u001b[0mself\u001b[0m\u001b[1;33m.\u001b[0m\u001b[0m_timeout_occurred\u001b[0m \u001b[1;33m=\u001b[0m \u001b[1;32mTrue\u001b[0m\u001b[1;33m\u001b[0m\u001b[1;33m\u001b[0m\u001b[0m\n",
      "\u001b[1;32m~\\anaconda3\\lib\\ssl.py\u001b[0m in \u001b[0;36mrecv_into\u001b[1;34m(self, buffer, nbytes, flags)\u001b[0m\n\u001b[0;32m   1239\u001b[0m                   \u001b[1;34m\"non-zero flags not allowed in calls to recv_into() on %s\"\u001b[0m \u001b[1;33m%\u001b[0m\u001b[1;33m\u001b[0m\u001b[1;33m\u001b[0m\u001b[0m\n\u001b[0;32m   1240\u001b[0m                   self.__class__)\n\u001b[1;32m-> 1241\u001b[1;33m             \u001b[1;32mreturn\u001b[0m \u001b[0mself\u001b[0m\u001b[1;33m.\u001b[0m\u001b[0mread\u001b[0m\u001b[1;33m(\u001b[0m\u001b[0mnbytes\u001b[0m\u001b[1;33m,\u001b[0m \u001b[0mbuffer\u001b[0m\u001b[1;33m)\u001b[0m\u001b[1;33m\u001b[0m\u001b[1;33m\u001b[0m\u001b[0m\n\u001b[0m\u001b[0;32m   1242\u001b[0m         \u001b[1;32melse\u001b[0m\u001b[1;33m:\u001b[0m\u001b[1;33m\u001b[0m\u001b[1;33m\u001b[0m\u001b[0m\n\u001b[0;32m   1243\u001b[0m             \u001b[1;32mreturn\u001b[0m \u001b[0msuper\u001b[0m\u001b[1;33m(\u001b[0m\u001b[1;33m)\u001b[0m\u001b[1;33m.\u001b[0m\u001b[0mrecv_into\u001b[0m\u001b[1;33m(\u001b[0m\u001b[0mbuffer\u001b[0m\u001b[1;33m,\u001b[0m \u001b[0mnbytes\u001b[0m\u001b[1;33m,\u001b[0m \u001b[0mflags\u001b[0m\u001b[1;33m)\u001b[0m\u001b[1;33m\u001b[0m\u001b[1;33m\u001b[0m\u001b[0m\n",
      "\u001b[1;32m~\\anaconda3\\lib\\ssl.py\u001b[0m in \u001b[0;36mread\u001b[1;34m(self, len, buffer)\u001b[0m\n\u001b[0;32m   1097\u001b[0m         \u001b[1;32mtry\u001b[0m\u001b[1;33m:\u001b[0m\u001b[1;33m\u001b[0m\u001b[1;33m\u001b[0m\u001b[0m\n\u001b[0;32m   1098\u001b[0m             \u001b[1;32mif\u001b[0m \u001b[0mbuffer\u001b[0m \u001b[1;32mis\u001b[0m \u001b[1;32mnot\u001b[0m \u001b[1;32mNone\u001b[0m\u001b[1;33m:\u001b[0m\u001b[1;33m\u001b[0m\u001b[1;33m\u001b[0m\u001b[0m\n\u001b[1;32m-> 1099\u001b[1;33m                 \u001b[1;32mreturn\u001b[0m \u001b[0mself\u001b[0m\u001b[1;33m.\u001b[0m\u001b[0m_sslobj\u001b[0m\u001b[1;33m.\u001b[0m\u001b[0mread\u001b[0m\u001b[1;33m(\u001b[0m\u001b[0mlen\u001b[0m\u001b[1;33m,\u001b[0m \u001b[0mbuffer\u001b[0m\u001b[1;33m)\u001b[0m\u001b[1;33m\u001b[0m\u001b[1;33m\u001b[0m\u001b[0m\n\u001b[0m\u001b[0;32m   1100\u001b[0m             \u001b[1;32melse\u001b[0m\u001b[1;33m:\u001b[0m\u001b[1;33m\u001b[0m\u001b[1;33m\u001b[0m\u001b[0m\n\u001b[0;32m   1101\u001b[0m                 \u001b[1;32mreturn\u001b[0m \u001b[0mself\u001b[0m\u001b[1;33m.\u001b[0m\u001b[0m_sslobj\u001b[0m\u001b[1;33m.\u001b[0m\u001b[0mread\u001b[0m\u001b[1;33m(\u001b[0m\u001b[0mlen\u001b[0m\u001b[1;33m)\u001b[0m\u001b[1;33m\u001b[0m\u001b[1;33m\u001b[0m\u001b[0m\n",
      "\u001b[1;31mKeyboardInterrupt\u001b[0m: "
     ]
    }
   ],
   "source": [
    "liste_api = ['1767f88c-6e71-4d1d-81e6-f6324c83b1e3']\n",
    "for api in liste_api:\n",
    "  for i in range(300):\n",
    "    # Your api key\n",
    "    id, preds, pd_sample = get_pred(api)\n",
    "    api_key = api\n",
    "    server_url = 'https://esgf-server-staging.herokuapp.com'\n",
    "    # Service name (see https://esgf-server-staging.herokuapp.com/docs)\n",
    "    service_name = 'predict'\n",
    "    params = f\"?api_key={api_key}&example_id={id}&prediction={preds}\"\n",
    "    headers = {\n",
    "          'Accept': 'application/json',\n",
    "          'Authorization' : f\"Bearer {api_key}\"\n",
    "    }\n",
    "    response = requests.get(f\"{server_url}/{service_name}{params}\", headers=headers)\n",
    "    print(f\"{server_url}/{service_name}{params}\")\n",
    "    print(response.text)\n",
    "    #assert response.status_code == 200"
   ]
  },
  {
   "cell_type": "code",
   "execution_count": null,
   "id": "99985ce3",
   "metadata": {},
   "outputs": [],
   "source": []
  }
 ],
 "metadata": {
  "kernelspec": {
   "display_name": "Python 3",
   "language": "python",
   "name": "python3"
  },
  "language_info": {
   "codemirror_mode": {
    "name": "ipython",
    "version": 3
   },
   "file_extension": ".py",
   "mimetype": "text/x-python",
   "name": "python",
   "nbconvert_exporter": "python",
   "pygments_lexer": "ipython3",
   "version": "3.8.8"
  }
 },
 "nbformat": 4,
 "nbformat_minor": 5
}
