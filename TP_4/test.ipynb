{
 "cells": [
  {
   "cell_type": "code",
   "execution_count": 1,
   "id": "5d606dd7",
   "metadata": {},
   "outputs": [],
   "source": [
    "import pandas as pd\n",
    "import numpy as np\n",
    "import matplotlib.pyplot as plt\n",
    "from sklearn.preprocessing import MinMaxScaler\n",
    "import math as math\n",
    "from keras.models import Sequential\n",
    "from keras.layers import Dense\n",
    "from keras.layers import LSTM, GRU\n",
    "from keras.layers import Dropout\n",
    "from keras.layers import *\n",
    "from sklearn.metrics import mean_squared_error\n",
    "from sklearn.metrics import mean_absolute_error\n",
    "from sklearn.model_selection import train_test_split\n",
    "from keras.callbacks import EarlyStopping\n",
    "from sklearn.metrics import r2_score\n",
    "from sklearn.ensemble import AdaBoostRegressor, RandomForestRegressor, GradientBoostingRegressor\n",
    "from joblib import parallel_backend\n",
    "\n",
    "from time import time\n",
    "from tensorflow.keras.callbacks import TensorBoard\n",
    "import warnings\n",
    "warnings.filterwarnings('ignore')"
   ]
  },
  {
   "cell_type": "code",
   "execution_count": 2,
   "id": "7dafa4ad",
   "metadata": {},
   "outputs": [],
   "source": [
    "from sklearn.linear_model import LinearRegression"
   ]
  },
  {
   "cell_type": "markdown",
   "id": "0c77e68c",
   "metadata": {},
   "source": [
    "### Load data and split"
   ]
  },
  {
   "cell_type": "code",
   "execution_count": 3,
   "id": "899623f5",
   "metadata": {},
   "outputs": [],
   "source": [
    "df = pd.read_csv('TRAIN.csv')"
   ]
  },
  {
   "cell_type": "code",
   "execution_count": 5,
   "id": "a2205c95",
   "metadata": {
    "scrolled": true
   },
   "outputs": [
    {
     "data": {
      "text/html": [
       "<div>\n",
       "<style scoped>\n",
       "    .dataframe tbody tr th:only-of-type {\n",
       "        vertical-align: middle;\n",
       "    }\n",
       "\n",
       "    .dataframe tbody tr th {\n",
       "        vertical-align: top;\n",
       "    }\n",
       "\n",
       "    .dataframe thead th {\n",
       "        text-align: right;\n",
       "    }\n",
       "</style>\n",
       "<table border=\"1\" class=\"dataframe\">\n",
       "  <thead>\n",
       "    <tr style=\"text-align: right;\">\n",
       "      <th></th>\n",
       "      <th>wconfid</th>\n",
       "      <th>pctid</th>\n",
       "      <th>x</th>\n",
       "      <th>y</th>\n",
       "      <th>z</th>\n",
       "    </tr>\n",
       "  </thead>\n",
       "  <tbody>\n",
       "    <tr>\n",
       "      <th>0</th>\n",
       "      <td>1</td>\n",
       "      <td>20</td>\n",
       "      <td>1.004</td>\n",
       "      <td>0.090</td>\n",
       "      <td>-0.125</td>\n",
       "    </tr>\n",
       "    <tr>\n",
       "      <th>1</th>\n",
       "      <td>1</td>\n",
       "      <td>20</td>\n",
       "      <td>1.004</td>\n",
       "      <td>-0.043</td>\n",
       "      <td>-0.125</td>\n",
       "    </tr>\n",
       "    <tr>\n",
       "      <th>2</th>\n",
       "      <td>1</td>\n",
       "      <td>20</td>\n",
       "      <td>0.969</td>\n",
       "      <td>0.090</td>\n",
       "      <td>-0.121</td>\n",
       "    </tr>\n",
       "    <tr>\n",
       "      <th>3</th>\n",
       "      <td>1</td>\n",
       "      <td>20</td>\n",
       "      <td>0.973</td>\n",
       "      <td>-0.012</td>\n",
       "      <td>-0.137</td>\n",
       "    </tr>\n",
       "    <tr>\n",
       "      <th>4</th>\n",
       "      <td>1</td>\n",
       "      <td>20</td>\n",
       "      <td>1.000</td>\n",
       "      <td>-0.016</td>\n",
       "      <td>-0.121</td>\n",
       "    </tr>\n",
       "  </tbody>\n",
       "</table>\n",
       "</div>"
      ],
      "text/plain": [
       "   wconfid  pctid      x      y      z\n",
       "0        1     20  1.004  0.090 -0.125\n",
       "1        1     20  1.004 -0.043 -0.125\n",
       "2        1     20  0.969  0.090 -0.121\n",
       "3        1     20  0.973 -0.012 -0.137\n",
       "4        1     20  1.000 -0.016 -0.121"
      ]
     },
     "execution_count": 5,
     "metadata": {},
     "output_type": "execute_result"
    }
   ],
   "source": [
    "df.head()"
   ]
  },
  {
   "cell_type": "code",
   "execution_count": null,
   "id": "aab749c0",
   "metadata": {},
   "outputs": [],
   "source": [
    "for t=1 in range(0, len(df)):\n",
    "    "
   ]
  },
  {
   "cell_type": "markdown",
   "id": "4fd1d8ec",
   "metadata": {},
   "source": [
    "### Prof"
   ]
  },
  {
   "cell_type": "code",
   "execution_count": 9,
   "id": "bea217ce",
   "metadata": {},
   "outputs": [],
   "source": [
    "model = LinearRegression()"
   ]
  },
  {
   "cell_type": "code",
   "execution_count": null,
   "id": "5f9bd124",
   "metadata": {},
   "outputs": [],
   "source": []
  },
  {
   "cell_type": "code",
   "execution_count": null,
   "id": "6fcf6a24",
   "metadata": {},
   "outputs": [],
   "source": []
  },
  {
   "cell_type": "code",
   "execution_count": null,
   "id": "845f8b78",
   "metadata": {},
   "outputs": [],
   "source": []
  },
  {
   "cell_type": "code",
   "execution_count": null,
   "id": "1bc56ae2",
   "metadata": {},
   "outputs": [],
   "source": []
  },
  {
   "cell_type": "code",
   "execution_count": null,
   "id": "a8e8e897",
   "metadata": {},
   "outputs": [],
   "source": []
  },
  {
   "cell_type": "code",
   "execution_count": null,
   "id": "9350769a",
   "metadata": {},
   "outputs": [],
   "source": []
  },
  {
   "cell_type": "code",
   "execution_count": null,
   "id": "26e0ecda",
   "metadata": {},
   "outputs": [],
   "source": []
  },
  {
   "cell_type": "code",
   "execution_count": 5,
   "id": "7b6357f9",
   "metadata": {},
   "outputs": [],
   "source": [
    "scaler = MinMaxScaler(feature_range=(0,1))"
   ]
  },
  {
   "cell_type": "code",
   "execution_count": 6,
   "id": "9ebe3920",
   "metadata": {},
   "outputs": [],
   "source": [
    "X_train = np.array(df[['x', 'y', 'z']])"
   ]
  },
  {
   "cell_type": "code",
   "execution_count": 7,
   "id": "6de1cc11",
   "metadata": {},
   "outputs": [],
   "source": [
    "X_train = X_train.reshape((len(X_train), 3))"
   ]
  },
  {
   "cell_type": "code",
   "execution_count": 8,
   "id": "3c0c5a96",
   "metadata": {},
   "outputs": [
    {
     "data": {
      "text/plain": [
       "(127500, 3)"
      ]
     },
     "execution_count": 8,
     "metadata": {},
     "output_type": "execute_result"
    }
   ],
   "source": [
    "X_train.shape"
   ]
  },
  {
   "cell_type": "code",
   "execution_count": 16,
   "id": "6d4d48fe",
   "metadata": {},
   "outputs": [],
   "source": [
    "y_train = np.array(df[['wconfid', 'pctid']])"
   ]
  },
  {
   "cell_type": "code",
   "execution_count": 19,
   "id": "95c4da7d",
   "metadata": {},
   "outputs": [],
   "source": [
    "y_train = y_train.reshape(len(y_train), 2)"
   ]
  },
  {
   "cell_type": "code",
   "execution_count": 20,
   "id": "ba15a9fe",
   "metadata": {},
   "outputs": [
    {
     "data": {
      "text/plain": [
       "(127500, 2)"
      ]
     },
     "execution_count": 20,
     "metadata": {},
     "output_type": "execute_result"
    }
   ],
   "source": [
    "y_train.shape"
   ]
  },
  {
   "cell_type": "markdown",
   "id": "daa170b5",
   "metadata": {},
   "source": [
    "### GRU model"
   ]
  },
  {
   "cell_type": "code",
   "execution_count": 33,
   "id": "5a458ec3",
   "metadata": {},
   "outputs": [],
   "source": [
    "model_GRU = Sequential()\n",
    "\n",
    "model_GRU.add(LSTM(units = 200, return_sequences = True, input_shape = (X_train.shape[1], 3)))\n",
    "model_GRU.add(Dropout(0.2))\n",
    "\n",
    "# Adding a second LSTM layer and some Dropout regularisation\n",
    "model_GRU.add(GRU(units = 50, return_sequences = True))\n",
    "model_GRU.add(Dropout(0.2))\n",
    "\n",
    "model_GRU.add(GRU(units = 50, return_sequences = True))\n",
    "model_GRU.add(Dropout(0.2))\n",
    "\n",
    "model_GRU.add(GRU(units = 50, return_sequences=True))\n",
    "model_GRU.add(Dropout(0.2))\n",
    "\n",
    "model_GRU.add(GRU(units = 50, return_sequences=True))\n",
    "model_GRU.add(Dropout(0.2))\n",
    "\n",
    "model_GRU.add(GRU(units = 50, return_sequences=True))\n",
    "model_GRU.add(Dropout(0.2))\n",
    "\n",
    "model_GRU.add(GRU(units = 50))\n",
    "model_GRU.add(Dropout(0.2))\n",
    "\n",
    "# Adding the output layer\n",
    "model_GRU.add(Dense(units = 1))\n",
    "\n",
    "# Compiling the network\n",
    "model_GRU.compile(\n",
    "    optimizer = 'adam', \n",
    "    loss = 'mean_squared_error')"
   ]
  },
  {
   "cell_type": "code",
   "execution_count": null,
   "id": "2f772003",
   "metadata": {},
   "outputs": [],
   "source": [
    "gru_predicted_stock = model_GRU.predict(x_test)\n",
    "gru_predicted_stock = scaler.inverse_transform(gru_predicted_stock)\n",
    "\n",
    "score = r2_score(y_test, gru_predicted_stock)\n",
    "score"
   ]
  }
 ],
 "metadata": {
  "kernelspec": {
   "display_name": "Python 3",
   "language": "python",
   "name": "python3"
  },
  "language_info": {
   "codemirror_mode": {
    "name": "ipython",
    "version": 3
   },
   "file_extension": ".py",
   "mimetype": "text/x-python",
   "name": "python",
   "nbconvert_exporter": "python",
   "pygments_lexer": "ipython3",
   "version": "3.8.8"
  }
 },
 "nbformat": 4,
 "nbformat_minor": 5
}
