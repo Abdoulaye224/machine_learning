{
 "cells": [
  {
   "cell_type": "code",
   "execution_count": 1,
   "id": "5ac139ee",
   "metadata": {},
   "outputs": [],
   "source": [
    "import requests \n",
    "from requests.auth import HTTPBasicAuth\n",
    "import json\n",
    "import numpy as np\n",
    "import pandas as pd"
   ]
  },
  {
   "cell_type": "code",
   "execution_count": 2,
   "id": "722cacd8",
   "metadata": {},
   "outputs": [],
   "source": [
    "import pandas as pd\n",
    "import numpy as np\n",
    "import matplotlib.pyplot as plt\n",
    "from sklearn.preprocessing import MinMaxScaler\n",
    "from sklearn.metrics import mean_squared_error\n",
    "from sklearn.metrics import mean_absolute_error\n",
    "from sklearn.model_selection import train_test_split\n",
    "from keras.callbacks import EarlyStopping\n",
    "from sklearn.metrics import r2_score\n",
    "from sklearn.ensemble import AdaBoostRegressor, RandomForestRegressor, GradientBoostingRegressor\n",
    "from joblib import parallel_backend\n",
    "\n",
    "from time import time\n",
    "from tensorflow.keras.callbacks import TensorBoard\n",
    "import warnings\n",
    "warnings.filterwarnings('ignore')"
   ]
  },
  {
   "cell_type": "code",
   "execution_count": 3,
   "id": "4f145e34",
   "metadata": {},
   "outputs": [],
   "source": [
    "from sklearn.linear_model import LinearRegression"
   ]
  },
  {
   "cell_type": "code",
   "execution_count": 4,
   "id": "496defaa",
   "metadata": {},
   "outputs": [],
   "source": [
    "import json"
   ]
  },
  {
   "cell_type": "markdown",
   "id": "6bf1bef5",
   "metadata": {},
   "source": [
    "### get data"
   ]
  },
  {
   "cell_type": "code",
   "execution_count": 5,
   "id": "7ed9b62d",
   "metadata": {},
   "outputs": [],
   "source": [
    "api_key = '1767f88c-6e71-4d1d-81e6-f6324c83b1e3'"
   ]
  },
  {
   "cell_type": "code",
   "execution_count": 8,
   "id": "d0bd9351",
   "metadata": {},
   "outputs": [],
   "source": [
    "def get_pred(pred):\n",
    "  # Your api key\n",
    "  server_url = 'https://esgf-server.herokuapp.com'\n",
    "  # Service name (see https://esgf-server-staging.herokuapp.com/docs)\n",
    "  service_name = 'get_inference_data'\n",
    "  # Service parameters.\n",
    "  params = f\"?api_key={api_key}\"\n",
    "\n",
    "  # Request header.\n",
    "  headers = {\n",
    "        'Accept': 'application/json',\n",
    "        'Authorization' : f\"Bearer {api_key}\"\n",
    "  }\n",
    "\n",
    "  response = requests.get(f\"{server_url}/{service_name}{params}\", headers=headers)\n",
    "\n",
    "  # Logs.\n",
    "  print(response.text)\n",
    "\n",
    "  # Assert valid answer (see https://developer.mozilla.org/fr/docs/Web/HTTP/Status/200)\n",
    "  #assert response.status_code == 200\n",
    "\n",
    "  # Server answer as json. Dictionary with keys 'id' and 'x'\n",
    "  json_answer = response.json()\n",
    "\n",
    "  # Example id\n",
    "  example_id = json_answer['id']\n",
    "\n",
    "  # Parse str answer as json object\n",
    "  json_answer = json.loads(json_answer['x'])\n",
    "\n",
    "  # Frame answer\n",
    "  pd_sample = pd.DataFrame(json_answer)\n",
    "    \n",
    "  liste = list(list(pred[-1]))\n",
    "  preds = \",\".join(str(x) for x in liste)\n",
    "  print(\"Sample ID='{}' has shape {}\".format(example_id, pd_sample.shape))\n",
    "  return example_id, preds, pd_sample"
   ]
  },
  {
   "cell_type": "markdown",
   "id": "a2b882b7",
   "metadata": {},
   "source": [
    "## get train data"
   ]
  },
  {
   "cell_type": "code",
   "execution_count": 6,
   "id": "899623f5",
   "metadata": {},
   "outputs": [],
   "source": [
    "df = pd.read_csv('TRAIN.csv')"
   ]
  },
  {
   "cell_type": "code",
   "execution_count": 7,
   "id": "a2205c95",
   "metadata": {},
   "outputs": [
    {
     "data": {
      "text/html": [
       "<div>\n",
       "<style scoped>\n",
       "    .dataframe tbody tr th:only-of-type {\n",
       "        vertical-align: middle;\n",
       "    }\n",
       "\n",
       "    .dataframe tbody tr th {\n",
       "        vertical-align: top;\n",
       "    }\n",
       "\n",
       "    .dataframe thead th {\n",
       "        text-align: right;\n",
       "    }\n",
       "</style>\n",
       "<table border=\"1\" class=\"dataframe\">\n",
       "  <thead>\n",
       "    <tr style=\"text-align: right;\">\n",
       "      <th></th>\n",
       "      <th>wconfid</th>\n",
       "      <th>pctid</th>\n",
       "      <th>x</th>\n",
       "      <th>y</th>\n",
       "      <th>z</th>\n",
       "    </tr>\n",
       "  </thead>\n",
       "  <tbody>\n",
       "    <tr>\n",
       "      <th>0</th>\n",
       "      <td>1</td>\n",
       "      <td>20</td>\n",
       "      <td>1.004</td>\n",
       "      <td>0.090</td>\n",
       "      <td>-0.125</td>\n",
       "    </tr>\n",
       "    <tr>\n",
       "      <th>1</th>\n",
       "      <td>1</td>\n",
       "      <td>20</td>\n",
       "      <td>1.004</td>\n",
       "      <td>-0.043</td>\n",
       "      <td>-0.125</td>\n",
       "    </tr>\n",
       "    <tr>\n",
       "      <th>2</th>\n",
       "      <td>1</td>\n",
       "      <td>20</td>\n",
       "      <td>0.969</td>\n",
       "      <td>0.090</td>\n",
       "      <td>-0.121</td>\n",
       "    </tr>\n",
       "    <tr>\n",
       "      <th>3</th>\n",
       "      <td>1</td>\n",
       "      <td>20</td>\n",
       "      <td>0.973</td>\n",
       "      <td>-0.012</td>\n",
       "      <td>-0.137</td>\n",
       "    </tr>\n",
       "    <tr>\n",
       "      <th>4</th>\n",
       "      <td>1</td>\n",
       "      <td>20</td>\n",
       "      <td>1.000</td>\n",
       "      <td>-0.016</td>\n",
       "      <td>-0.121</td>\n",
       "    </tr>\n",
       "  </tbody>\n",
       "</table>\n",
       "</div>"
      ],
      "text/plain": [
       "   wconfid  pctid      x      y      z\n",
       "0        1     20  1.004  0.090 -0.125\n",
       "1        1     20  1.004 -0.043 -0.125\n",
       "2        1     20  0.969  0.090 -0.121\n",
       "3        1     20  0.973 -0.012 -0.137\n",
       "4        1     20  1.000 -0.016 -0.121"
      ]
     },
     "execution_count": 7,
     "metadata": {},
     "output_type": "execute_result"
    }
   ],
   "source": [
    "df.head()"
   ]
  },
  {
   "cell_type": "code",
   "execution_count": 9,
   "id": "c10aa834",
   "metadata": {},
   "outputs": [],
   "source": [
    "X = df.iloc[:,:1]"
   ]
  },
  {
   "cell_type": "code",
   "execution_count": 10,
   "id": "f574f3d1",
   "metadata": {},
   "outputs": [],
   "source": [
    "Y = df.iloc[:,-3:]"
   ]
  },
  {
   "cell_type": "markdown",
   "id": "ba7bda0a",
   "metadata": {},
   "source": [
    "### Split dataset"
   ]
  },
  {
   "cell_type": "code",
   "execution_count": 11,
   "id": "d2ae8de5",
   "metadata": {},
   "outputs": [],
   "source": [
    "X = np.array(X)\n",
    "Y = np.array(Y)"
   ]
  },
  {
   "cell_type": "code",
   "execution_count": 12,
   "id": "f369ea2d",
   "metadata": {},
   "outputs": [],
   "source": [
    "x_train, x_test, y_train, y_test = train_test_split(X, Y) "
   ]
  },
  {
   "cell_type": "code",
   "execution_count": 13,
   "id": "6bd66afb",
   "metadata": {},
   "outputs": [
    {
     "data": {
      "text/plain": [
       "array([[2],\n",
       "       [2],\n",
       "       [2],\n",
       "       ...,\n",
       "       [1],\n",
       "       [1],\n",
       "       [3]], dtype=int64)"
      ]
     },
     "execution_count": 13,
     "metadata": {},
     "output_type": "execute_result"
    }
   ],
   "source": [
    "x_test"
   ]
  },
  {
   "cell_type": "markdown",
   "id": "fdb1188f",
   "metadata": {},
   "source": [
    "## Model"
   ]
  },
  {
   "cell_type": "code",
   "execution_count": 14,
   "id": "90b24655",
   "metadata": {},
   "outputs": [],
   "source": [
    "model = LinearRegression()"
   ]
  },
  {
   "cell_type": "code",
   "execution_count": 15,
   "id": "2b229001",
   "metadata": {},
   "outputs": [
    {
     "data": {
      "text/plain": [
       "LinearRegression()"
      ]
     },
     "execution_count": 15,
     "metadata": {},
     "output_type": "execute_result"
    }
   ],
   "source": [
    "model.fit(x_train, y_train)"
   ]
  },
  {
   "cell_type": "code",
   "execution_count": 16,
   "id": "d0e837d7",
   "metadata": {},
   "outputs": [],
   "source": [
    "Y_pred = model.predict(x_test)"
   ]
  },
  {
   "cell_type": "code",
   "execution_count": 17,
   "id": "e3105341",
   "metadata": {},
   "outputs": [
    {
     "data": {
      "text/plain": [
       "array([[ 1.00047036,  0.00633179, -0.11849573],\n",
       "       [ 1.00047036,  0.00633179, -0.11849573],\n",
       "       [ 1.00047036,  0.00633179, -0.11849573],\n",
       "       ...,\n",
       "       [ 1.0090157 ,  0.00128261, -0.12032948],\n",
       "       [ 1.0090157 ,  0.00128261, -0.12032948],\n",
       "       [ 0.99192502,  0.01138097, -0.11666199]])"
      ]
     },
     "execution_count": 17,
     "metadata": {},
     "output_type": "execute_result"
    }
   ],
   "source": [
    "Y_pred"
   ]
  },
  {
   "cell_type": "code",
   "execution_count": 18,
   "id": "7474c8d6",
   "metadata": {},
   "outputs": [
    {
     "data": {
      "text/plain": [
       "array([[ 1.211, -0.035, -0.223],\n",
       "       [ 0.195,  1.203, -0.223],\n",
       "       [ 0.68 , -0.312, -1.012],\n",
       "       ...,\n",
       "       [ 0.984,  0.859, -0.941],\n",
       "       [ 3.008, -2.371,  0.187],\n",
       "       [ 1.   ,  0.105, -0.352]])"
      ]
     },
     "execution_count": 18,
     "metadata": {},
     "output_type": "execute_result"
    }
   ],
   "source": [
    "y_test"
   ]
  },
  {
   "cell_type": "code",
   "execution_count": 19,
   "id": "46cc7931",
   "metadata": {},
   "outputs": [
    {
     "name": "stdout",
     "output_type": "stream",
     "text": [
      "{\"id\":\"REdwdWjoM5o8deW9\",\"x\":\"{\\\"wconfid\\\":{\\\"0\\\":3,\\\"1\\\":3,\\\"2\\\":3,\\\"3\\\":3,\\\"4\\\":3,\\\"5\\\":3,\\\"6\\\":3,\\\"7\\\":3,\\\"8\\\":3,\\\"9\\\":3,\\\"10\\\":3,\\\"11\\\":3,\\\"12\\\":3,\\\"13\\\":3,\\\"14\\\":3,\\\"15\\\":3,\\\"16\\\":3,\\\"17\\\":3,\\\"18\\\":3,\\\"19\\\":3,\\\"20\\\":3,\\\"21\\\":3,\\\"22\\\":3,\\\"23\\\":3,\\\"24\\\":3,\\\"25\\\":3,\\\"26\\\":3,\\\"27\\\":3,\\\"28\\\":3,\\\"29\\\":3,\\\"30\\\":3,\\\"31\\\":3},\\\"pctid\\\":{\\\"0\\\":100,\\\"1\\\":100,\\\"2\\\":100,\\\"3\\\":100,\\\"4\\\":100,\\\"5\\\":100,\\\"6\\\":100,\\\"7\\\":100,\\\"8\\\":100,\\\"9\\\":100,\\\"10\\\":100,\\\"11\\\":100,\\\"12\\\":100,\\\"13\\\":100,\\\"14\\\":100,\\\"15\\\":100,\\\"16\\\":100,\\\"17\\\":100,\\\"18\\\":100,\\\"19\\\":100,\\\"20\\\":100,\\\"21\\\":100,\\\"22\\\":100,\\\"23\\\":100,\\\"24\\\":100,\\\"25\\\":100,\\\"26\\\":100,\\\"27\\\":100,\\\"28\\\":100,\\\"29\\\":100,\\\"30\\\":100,\\\"31\\\":100},\\\"x\\\":{\\\"0\\\":0.941,\\\"1\\\":0.98,\\\"2\\\":0.926,\\\"3\\\":0.992,\\\"4\\\":0.688,\\\"5\\\":1.027,\\\"6\\\":1.027,\\\"7\\\":1.273,\\\"8\\\":0.961,\\\"9\\\":0.816,\\\"10\\\":1.004,\\\"11\\\":1.012,\\\"12\\\":1.156,\\\"13\\\":0.891,\\\"14\\\":1.121,\\\"15\\\":0.832,\\\"16\\\":1.051,\\\"17\\\":0.688,\\\"18\\\":1.086,\\\"19\\\":0.965,\\\"20\\\":0.871,\\\"21\\\":1.07,\\\"22\\\":1.102,\\\"23\\\":0.98,\\\"24\\\":0.867,\\\"25\\\":0.887,\\\"26\\\":1.004,\\\"27\\\":1.27,\\\"28\\\":0.902,\\\"29\\\":0.887,\\\"30\\\":0.84,\\\"31\\\":1.012},\\\"y\\\":{\\\"0\\\":0.113,\\\"1\\\":0.031,\\\"2\\\":-0.141,\\\"3\\\":0.172,\\\"4\\\":-0.031,\\\"5\\\":-0.023,\\\"6\\\":0.051,\\\"7\\\":-0.16,\\\"8\\\":0.168,\\\"9\\\":0.043,\\\"10\\\":-0.043,\\\"11\\\":0.191,\\\"12\\\":-0.25,\\\"13\\\":0.164,\\\"14\\\":0.0,\\\"15\\\":-0.047,\\\"16\\\":0.25,\\\"17\\\":-0.234,\\\"18\\\":0.145,\\\"19\\\":-0.063,\\\"20\\\":-0.047,\\\"21\\\":0.273,\\\"22\\\":-0.187,\\\"23\\\":0.105,\\\"24\\\":0.031,\\\"25\\\":-0.094,\\\"26\\\":0.215,\\\"27\\\":-0.246,\\\"28\\\":0.113,\\\"29\\\":0.016,\\\"30\\\":-0.102,\\\"31\\\":0.125},\\\"z\\\":{\\\"0\\\":-0.367,\\\"1\\\":0.27,\\\"2\\\":-0.078,\\\"3\\\":-0.059,\\\"4\\\":0.117,\\\"5\\\":-0.266,\\\"6\\\":0.086,\\\"7\\\":-0.098,\\\"8\\\":-0.289,\\\"9\\\":0.223,\\\"10\\\":-0.484,\\\"11\\\":-0.105,\\\"12\\\":-0.211,\\\"13\\\":-0.32,\\\"14\\\":0.293,\\\"15\\\":-0.484,\\\"16\\\":0.125,\\\"17\\\":0.012,\\\"18\\\":-0.238,\\\"19\\\":-0.129,\\\"20\\\":-0.187,\\\"21\\\":0.113,\\\"22\\\":0.094,\\\"23\\\":-0.266,\\\"24\\\":0.164,\\\"25\\\":-0.371,\\\"26\\\":-0.203,\\\"27\\\":0.035,\\\"28\\\":-0.402,\\\"29\\\":0.363,\\\"30\\\":-0.117,\\\"31\\\":-0.051}}\",\"info\":\"130 samples (370 remaining).\"}\n",
      "Sample ID='REdwdWjoM5o8deW9' has shape (32, 5)\n"
     ]
    }
   ],
   "source": [
    "id, preds, pd_sample = get_pred(Y_pred)"
   ]
  },
  {
   "cell_type": "code",
   "execution_count": 20,
   "id": "2d8a1692",
   "metadata": {},
   "outputs": [
    {
     "data": {
      "text/plain": [
       "'0.9919250239746649,0.011380972641668995,-0.1166619894224334'"
      ]
     },
     "execution_count": 20,
     "metadata": {},
     "output_type": "execute_result"
    }
   ],
   "source": [
    "preds"
   ]
  },
  {
   "cell_type": "code",
   "execution_count": 22,
   "id": "0f13a00d",
   "metadata": {},
   "outputs": [
    {
     "name": "stdout",
     "output_type": "stream",
     "text": [
      "{\"id\":\"aK3zHI0CJEAkZZXZ\",\"x\":\"{\\\"wconfid\\\":{\\\"0\\\":1,\\\"1\\\":1,\\\"2\\\":1,\\\"3\\\":1,\\\"4\\\":1,\\\"5\\\":1,\\\"6\\\":1,\\\"7\\\":1,\\\"8\\\":1,\\\"9\\\":1,\\\"10\\\":1,\\\"11\\\":1,\\\"12\\\":1,\\\"13\\\":1,\\\"14\\\":1,\\\"15\\\":1,\\\"16\\\":1,\\\"17\\\":1,\\\"18\\\":1,\\\"19\\\":1,\\\"20\\\":1,\\\"21\\\":1,\\\"22\\\":1,\\\"23\\\":1,\\\"24\\\":1,\\\"25\\\":1,\\\"26\\\":1,\\\"27\\\":1,\\\"28\\\":1,\\\"29\\\":1,\\\"30\\\":1,\\\"31\\\":1},\\\"pctid\\\":{\\\"0\\\":80,\\\"1\\\":80,\\\"2\\\":80,\\\"3\\\":80,\\\"4\\\":80,\\\"5\\\":80,\\\"6\\\":80,\\\"7\\\":80,\\\"8\\\":80,\\\"9\\\":80,\\\"10\\\":80,\\\"11\\\":80,\\\"12\\\":80,\\\"13\\\":80,\\\"14\\\":80,\\\"15\\\":80,\\\"16\\\":80,\\\"17\\\":80,\\\"18\\\":80,\\\"19\\\":80,\\\"20\\\":80,\\\"21\\\":80,\\\"22\\\":80,\\\"23\\\":80,\\\"24\\\":80,\\\"25\\\":80,\\\"26\\\":80,\\\"27\\\":80,\\\"28\\\":80,\\\"29\\\":80,\\\"30\\\":80,\\\"31\\\":80},\\\"x\\\":{\\\"0\\\":1.152,\\\"1\\\":0.824,\\\"2\\\":1.645,\\\"3\\\":1.859,\\\"4\\\":1.059,\\\"5\\\":2.227,\\\"6\\\":1.859,\\\"7\\\":0.801,\\\"8\\\":0.215,\\\"9\\\":1.359,\\\"10\\\":0.758,\\\"11\\\":1.086,\\\"12\\\":0.078,\\\"13\\\":-1.125,\\\"14\\\":0.801,\\\"15\\\":0.871,\\\"16\\\":0.695,\\\"17\\\":-0.297,\\\"18\\\":1.848,\\\"19\\\":0.914,\\\"20\\\":-0.281,\\\"21\\\":0.449,\\\"22\\\":0.832,\\\"23\\\":1.117,\\\"24\\\":0.121,\\\"25\\\":-0.355,\\\"26\\\":1.395,\\\"27\\\":0.578,\\\"28\\\":0.789,\\\"29\\\":0.238,\\\"30\\\":1.117,\\\"31\\\":-0.184},\\\"y\\\":{\\\"0\\\":0.496,\\\"1\\\":1.363,\\\"2\\\":-4.035,\\\"3\\\":-0.063,\\\"4\\\":0.535,\\\"5\\\":-0.352,\\\"6\\\":-3.766,\\\"7\\\":-0.121,\\\"8\\\":1.059,\\\"9\\\":-0.129,\\\"10\\\":-3.129,\\\"11\\\":0.324,\\\"12\\\":0.504,\\\"13\\\":0.387,\\\"14\\\":-2.867,\\\"15\\\":-0.023,\\\"16\\\":0.98,\\\"17\\\":-0.074,\\\"18\\\":-2.168,\\\"19\\\":0.465,\\\"20\\\":1.008,\\\"21\\\":0.059,\\\"22\\\":-2.723,\\\"23\\\":0.094,\\\"24\\\":0.488,\\\"25\\\":0.148,\\\"26\\\":-3.668,\\\"27\\\":-0.027,\\\"28\\\":0.813,\\\"29\\\":0.195,\\\"30\\\":-3.828,\\\"31\\\":-0.027},\\\"z\\\":{\\\"0\\\":-0.387,\\\"1\\\":2.016,\\\"2\\\":-0.609,\\\"3\\\":0.109,\\\"4\\\":-0.504,\\\"5\\\":1.215,\\\"6\\\":-0.461,\\\"7\\\":-0.359,\\\"8\\\":0.73,\\\"9\\\":1.0,\\\"10\\\":-0.184,\\\"11\\\":0.121,\\\"12\\\":-0.988,\\\"13\\\":1.336,\\\"14\\\":-0.176,\\\"15\\\":-0.75,\\\"16\\\":0.633,\\\"17\\\":0.027,\\\"18\\\":0.785,\\\"19\\\":-0.195,\\\"20\\\":0.934,\\\"21\\\":0.73,\\\"22\\\":0.016,\\\"23\\\":-0.133,\\\"24\\\":-0.957,\\\"25\\\":1.867,\\\"26\\\":-1.039,\\\"27\\\":-0.664,\\\"28\\\":0.527,\\\"29\\\":0.348,\\\"30\\\":-0.371,\\\"31\\\":-0.414}}\",\"info\":\"129 samples (371 remaining).\"}\n",
      "Sample ID='aK3zHI0CJEAkZZXZ' has shape (32, 5)\n",
      "https://esgf-server.herokuapp.com//predict?api_key=1767f88c-6e71-4d1d-81e6-f6324c83b1e3&example_id=aK3zHI0CJEAkZZXZ&prediction=0.9957048002048456,0.0034709351275381307,-0.11710464660813752\n",
      "{\"detail\":\"Not Found\"}\n"
     ]
    },
    {
     "ename": "AssertionError",
     "evalue": "",
     "output_type": "error",
     "traceback": [
      "\u001b[1;31m---------------------------------------------------------------------------\u001b[0m",
      "\u001b[1;31mAssertionError\u001b[0m                            Traceback (most recent call last)",
      "\u001b[1;32m<ipython-input-22-8fd63977476b>\u001b[0m in \u001b[0;36m<module>\u001b[1;34m\u001b[0m\n\u001b[0;32m     13\u001b[0m     \u001b[0mprint\u001b[0m\u001b[1;33m(\u001b[0m\u001b[1;34mf\"{server_url}/{service_name}{params}\"\u001b[0m\u001b[1;33m)\u001b[0m\u001b[1;33m\u001b[0m\u001b[1;33m\u001b[0m\u001b[0m\n\u001b[0;32m     14\u001b[0m     \u001b[0mprint\u001b[0m\u001b[1;33m(\u001b[0m\u001b[0mresponse\u001b[0m\u001b[1;33m.\u001b[0m\u001b[0mtext\u001b[0m\u001b[1;33m)\u001b[0m\u001b[1;33m\u001b[0m\u001b[1;33m\u001b[0m\u001b[0m\n\u001b[1;32m---> 15\u001b[1;33m     \u001b[1;32massert\u001b[0m \u001b[0mresponse\u001b[0m\u001b[1;33m.\u001b[0m\u001b[0mstatus_code\u001b[0m \u001b[1;33m==\u001b[0m \u001b[1;36m200\u001b[0m\u001b[1;33m\u001b[0m\u001b[1;33m\u001b[0m\u001b[0m\n\u001b[0m",
      "\u001b[1;31mAssertionError\u001b[0m: "
     ]
    }
   ],
   "source": [
    "for i in range(300):\n",
    "    id, preds, pd_sample = get_pred(Y_pred)\n",
    "    server_url = 'https://esgf-server.herokuapp.com/' #Prod\n",
    "    #server_url = 'https://esgf-server-staging.herokuapp.com'\n",
    "    # Service name (see https://esgf-server-staging.herokuapp.com/docs)\n",
    "    service_name = 'predict'\n",
    "    params = f\"?api_key={api_key}&example_id={id}&prediction={preds}\"\n",
    "    headers = {\n",
    "          'Accept': 'application/json',\n",
    "          'Authorization' : f\"Bearer {api_key}\"\n",
    "    }\n",
    "    response = requests.get(f\"{server_url}/{service_name}{params}\", headers=headers)\n",
    "    print(f\"{server_url}/{service_name}{params}\")\n",
    "    print(response.text)\n",
    "    #assert response.status_code == 200"
   ]
  },
  {
   "cell_type": "code",
   "execution_count": null,
   "id": "73ea4d82",
   "metadata": {},
   "outputs": [],
   "source": []
  }
 ],
 "metadata": {
  "kernelspec": {
   "display_name": "Python 3",
   "language": "python",
   "name": "python3"
  },
  "language_info": {
   "codemirror_mode": {
    "name": "ipython",
    "version": 3
   },
   "file_extension": ".py",
   "mimetype": "text/x-python",
   "name": "python",
   "nbconvert_exporter": "python",
   "pygments_lexer": "ipython3",
   "version": "3.8.8"
  }
 },
 "nbformat": 4,
 "nbformat_minor": 5
}
