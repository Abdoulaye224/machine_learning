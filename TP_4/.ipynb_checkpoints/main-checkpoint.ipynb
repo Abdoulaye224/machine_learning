{
 "cells": [
  {
   "cell_type": "code",
   "execution_count": 11,
   "id": "5ac139ee",
   "metadata": {},
   "outputs": [],
   "source": [
    "import requests # see https://fr.python-requests.org/en/latest/\n",
    "from requests.auth import HTTPBasicAuth\n",
    "import json # see https://docs.python.org/fr/3/library/json.html\n",
    "import numpy as np\n",
    "import pandas as pd"
   ]
  },
  {
   "cell_type": "code",
   "execution_count": 12,
   "id": "722cacd8",
   "metadata": {},
   "outputs": [],
   "source": [
    "import pandas as pd\n",
    "import numpy as np\n",
    "import matplotlib.pyplot as plt\n",
    "from sklearn.preprocessing import MinMaxScaler\n",
    "import math as math\n",
    "from keras.models import Sequential\n",
    "from keras.layers import Dense\n",
    "from keras.layers import LSTM, GRU\n",
    "from keras.layers import Dropout\n",
    "from keras.layers import *\n",
    "from sklearn.metrics import mean_squared_error\n",
    "from sklearn.metrics import mean_absolute_error\n",
    "from sklearn.model_selection import train_test_split\n",
    "from keras.callbacks import EarlyStopping\n",
    "from sklearn.metrics import r2_score\n",
    "from sklearn.ensemble import AdaBoostRegressor, RandomForestRegressor, GradientBoostingRegressor\n",
    "from joblib import parallel_backend\n",
    "\n",
    "from time import time\n",
    "from tensorflow.keras.callbacks import TensorBoard\n",
    "import warnings\n",
    "warnings.filterwarnings('ignore')"
   ]
  },
  {
   "cell_type": "code",
   "execution_count": 13,
   "id": "4f145e34",
   "metadata": {},
   "outputs": [],
   "source": [
    "from sklearn.linear_model import LinearRegression"
   ]
  },
  {
   "cell_type": "markdown",
   "id": "6bf1bef5",
   "metadata": {},
   "source": [
    "### get data"
   ]
  },
  {
   "cell_type": "code",
   "execution_count": null,
   "id": "5afaa314",
   "metadata": {},
   "outputs": [],
   "source": []
  },
  {
   "cell_type": "code",
   "execution_count": 14,
   "id": "dbce27bf",
   "metadata": {},
   "outputs": [
    {
     "name": "stdout",
     "output_type": "stream",
     "text": [
      "{\"id\":\"GqhhcaCYwqy9c8GX\",\"x\":\"{\\\"wconfid\\\":{\\\"0\\\":2,\\\"1\\\":2,\\\"2\\\":2,\\\"3\\\":2,\\\"4\\\":2,\\\"5\\\":2,\\\"6\\\":2,\\\"7\\\":2,\\\"8\\\":2,\\\"9\\\":2,\\\"10\\\":2,\\\"11\\\":2,\\\"12\\\":2,\\\"13\\\":2,\\\"14\\\":2,\\\"15\\\":2,\\\"16\\\":2,\\\"17\\\":2,\\\"18\\\":2,\\\"19\\\":2,\\\"20\\\":2,\\\"21\\\":2,\\\"22\\\":2,\\\"23\\\":2,\\\"24\\\":2,\\\"25\\\":2,\\\"26\\\":2,\\\"27\\\":2,\\\"28\\\":2,\\\"29\\\":2,\\\"30\\\":2,\\\"31\\\":2},\\\"pctid\\\":{\\\"0\\\":20,\\\"1\\\":20,\\\"2\\\":20,\\\"3\\\":20,\\\"4\\\":20,\\\"5\\\":20,\\\"6\\\":20,\\\"7\\\":20,\\\"8\\\":20,\\\"9\\\":20,\\\"10\\\":20,\\\"11\\\":20,\\\"12\\\":20,\\\"13\\\":20,\\\"14\\\":20,\\\"15\\\":20,\\\"16\\\":20,\\\"17\\\":20,\\\"18\\\":20,\\\"19\\\":20,\\\"20\\\":20,\\\"21\\\":20,\\\"22\\\":20,\\\"23\\\":20,\\\"24\\\":20,\\\"25\\\":20,\\\"26\\\":20,\\\"27\\\":20,\\\"28\\\":20,\\\"29\\\":20,\\\"30\\\":20,\\\"31\\\":20},\\\"x\\\":{\\\"0\\\":0.973,\\\"1\\\":0.949,\\\"2\\\":1.031,\\\"3\\\":0.973,\\\"4\\\":1.039,\\\"5\\\":0.992,\\\"6\\\":0.969,\\\"7\\\":1.051,\\\"8\\\":0.984,\\\"9\\\":0.973,\\\"10\\\":1.039,\\\"11\\\":0.973,\\\"12\\\":0.988,\\\"13\\\":1.027,\\\"14\\\":0.977,\\\"15\\\":0.992,\\\"16\\\":1.023,\\\"17\\\":0.973,\\\"18\\\":1.0,\\\"19\\\":1.02,\\\"20\\\":0.977,\\\"21\\\":0.992,\\\"22\\\":1.02,\\\"23\\\":0.969,\\\"24\\\":0.984,\\\"25\\\":1.031,\\\"26\\\":0.977,\\\"27\\\":0.984,\\\"28\\\":1.012,\\\"29\\\":0.941,\\\"30\\\":1.023,\\\"31\\\":0.965},\\\"y\\\":{\\\"0\\\":-0.113,\\\"1\\\":0.027,\\\"2\\\":0.047,\\\"3\\\":0.098,\\\"4\\\":-0.008,\\\"5\\\":-0.098,\\\"6\\\":0.094,\\\"7\\\":-0.016,\\\"8\\\":-0.094,\\\"9\\\":0.094,\\\"10\\\":-0.027,\\\"11\\\":-0.086,\\\"12\\\":0.098,\\\"13\\\":-0.047,\\\"14\\\":-0.074,\\\"15\\\":0.086,\\\"16\\\":-0.059,\\\"17\\\":-0.063,\\\"18\\\":-0.016,\\\"19\\\":0.066,\\\"20\\\":-0.043,\\\"21\\\":-0.02,\\\"22\\\":0.07,\\\"23\\\":-0.027,\\\"24\\\":-0.008,\\\"25\\\":0.078,\\\"26\\\":-0.008,\\\"27\\\":0.008,\\\"28\\\":-0.098,\\\"29\\\":0.008,\\\"30\\\":0.074,\\\"31\\\":0.055},\\\"z\\\":{\\\"0\\\":-0.121,\\\"1\\\":-0.125,\\\"2\\\":-0.086,\\\"3\\\":-0.133,\\\"4\\\":-0.129,\\\"5\\\":-0.133,\\\"6\\\":-0.121,\\\"7\\\":-0.129,\\\"8\\\":-0.145,\\\"9\\\":-0.125,\\\"10\\\":-0.121,\\\"11\\\":-0.145,\\\"12\\\":-0.125,\\\"13\\\":-0.082,\\\"14\\\":-0.148,\\\"15\\\":-0.125,\\\"16\\\":-0.082,\\\"17\\\":-0.148,\\\"18\\\":-0.121,\\\"19\\\":-0.105,\\\"20\\\":-0.148,\\\"21\\\":-0.109,\\\"22\\\":-0.109,\\\"23\\\":-0.148,\\\"24\\\":-0.125,\\\"25\\\":-0.109,\\\"26\\\":-0.152,\\\"27\\\":-0.137,\\\"28\\\":-0.098,\\\"29\\\":-0.141,\\\"30\\\":-0.133,\\\"31\\\":-0.141}}\",\"info\":\"6 samples (494 remaining).\"}\n"
     ]
    }
   ],
   "source": [
    "# Your api key\n",
    "api_key = \"1767f88c-6e71-4d1d-81e6-f6324c83b1e3\"\n",
    "\n",
    "# ESGF server url (Switch to prod for real evaluation)\n",
    "server_url = 'https://esgf-server-staging.herokuapp.com'\n",
    "\n",
    "# Service name (see https://esgf-server-staging.herokuapp.com/docs)\n",
    "service_name = 'get_inference_data'\n",
    "\n",
    "# Service parameters.\n",
    "params = f\"?api_key={api_key}\"\n",
    "\n",
    "# Request header.\n",
    "headers = {\n",
    "       'Accept': 'application/json',\n",
    "       'Authorization' : f\"Bearer {api_key}\"\n",
    "}\n",
    "\n",
    "# Server response. You receive a sample ID (id) that you must send back when you submit your prediction for it !\n",
    "# Note you cannot send a prediction twice for a same sample id.\n",
    "response = requests.get(f\"{server_url}/{service_name}{params}\", headers=headers)\n",
    "\n",
    "# Logs.\n",
    "print(response.text)\n",
    "\n",
    "# Assert valid answer (see https://developer.mozilla.org/fr/docs/Web/HTTP/Status/200)\n",
    "assert response.status_code == 200"
   ]
  },
  {
   "cell_type": "code",
   "execution_count": 15,
   "id": "deec50a7",
   "metadata": {},
   "outputs": [
    {
     "name": "stdout",
     "output_type": "stream",
     "text": [
      "Sample ID='GqhhcaCYwqy9c8GX' has shape (32, 5)\n"
     ]
    }
   ],
   "source": [
    "# Server answer as json. Dictionary with keys 'id' and 'x'\n",
    "json_answer = response.json()\n",
    "\n",
    "# Example id\n",
    "example_id = json_answer['id']\n",
    "\n",
    "# Parse str answer as json object\n",
    "json_answer = json.loads(json_answer['x'])\n",
    "\n",
    "# Frame answer\n",
    "pd_sample = pd.DataFrame(json_answer)\n",
    "\n",
    "# Logs. You should have (32,5).\n",
    "print(\"Sample ID='{}' has shape {}\".format(example_id, pd_sample.shape))"
   ]
  },
  {
   "cell_type": "code",
   "execution_count": 16,
   "id": "2d8a1692",
   "metadata": {},
   "outputs": [
    {
     "data": {
      "text/html": [
       "<div>\n",
       "<style scoped>\n",
       "    .dataframe tbody tr th:only-of-type {\n",
       "        vertical-align: middle;\n",
       "    }\n",
       "\n",
       "    .dataframe tbody tr th {\n",
       "        vertical-align: top;\n",
       "    }\n",
       "\n",
       "    .dataframe thead th {\n",
       "        text-align: right;\n",
       "    }\n",
       "</style>\n",
       "<table border=\"1\" class=\"dataframe\">\n",
       "  <thead>\n",
       "    <tr style=\"text-align: right;\">\n",
       "      <th></th>\n",
       "      <th>wconfid</th>\n",
       "      <th>pctid</th>\n",
       "      <th>x</th>\n",
       "      <th>y</th>\n",
       "      <th>z</th>\n",
       "    </tr>\n",
       "  </thead>\n",
       "  <tbody>\n",
       "    <tr>\n",
       "      <th>0</th>\n",
       "      <td>2</td>\n",
       "      <td>20</td>\n",
       "      <td>0.973</td>\n",
       "      <td>-0.113</td>\n",
       "      <td>-0.121</td>\n",
       "    </tr>\n",
       "    <tr>\n",
       "      <th>1</th>\n",
       "      <td>2</td>\n",
       "      <td>20</td>\n",
       "      <td>0.949</td>\n",
       "      <td>0.027</td>\n",
       "      <td>-0.125</td>\n",
       "    </tr>\n",
       "    <tr>\n",
       "      <th>2</th>\n",
       "      <td>2</td>\n",
       "      <td>20</td>\n",
       "      <td>1.031</td>\n",
       "      <td>0.047</td>\n",
       "      <td>-0.086</td>\n",
       "    </tr>\n",
       "    <tr>\n",
       "      <th>3</th>\n",
       "      <td>2</td>\n",
       "      <td>20</td>\n",
       "      <td>0.973</td>\n",
       "      <td>0.098</td>\n",
       "      <td>-0.133</td>\n",
       "    </tr>\n",
       "    <tr>\n",
       "      <th>4</th>\n",
       "      <td>2</td>\n",
       "      <td>20</td>\n",
       "      <td>1.039</td>\n",
       "      <td>-0.008</td>\n",
       "      <td>-0.129</td>\n",
       "    </tr>\n",
       "  </tbody>\n",
       "</table>\n",
       "</div>"
      ],
      "text/plain": [
       "   wconfid  pctid      x      y      z\n",
       "0        2     20  0.973 -0.113 -0.121\n",
       "1        2     20  0.949  0.027 -0.125\n",
       "2        2     20  1.031  0.047 -0.086\n",
       "3        2     20  0.973  0.098 -0.133\n",
       "4        2     20  1.039 -0.008 -0.129"
      ]
     },
     "execution_count": 16,
     "metadata": {},
     "output_type": "execute_result"
    }
   ],
   "source": [
    "pd_sample.head()"
   ]
  },
  {
   "cell_type": "markdown",
   "id": "a2b882b7",
   "metadata": {},
   "source": [
    "## get train data"
   ]
  },
  {
   "cell_type": "code",
   "execution_count": 17,
   "id": "899623f5",
   "metadata": {},
   "outputs": [],
   "source": [
    "df = pd.read_csv('TRAIN.csv')"
   ]
  },
  {
   "cell_type": "code",
   "execution_count": 18,
   "id": "a2205c95",
   "metadata": {
    "scrolled": false
   },
   "outputs": [
    {
     "data": {
      "text/html": [
       "<div>\n",
       "<style scoped>\n",
       "    .dataframe tbody tr th:only-of-type {\n",
       "        vertical-align: middle;\n",
       "    }\n",
       "\n",
       "    .dataframe tbody tr th {\n",
       "        vertical-align: top;\n",
       "    }\n",
       "\n",
       "    .dataframe thead th {\n",
       "        text-align: right;\n",
       "    }\n",
       "</style>\n",
       "<table border=\"1\" class=\"dataframe\">\n",
       "  <thead>\n",
       "    <tr style=\"text-align: right;\">\n",
       "      <th></th>\n",
       "      <th>wconfid</th>\n",
       "      <th>pctid</th>\n",
       "      <th>x</th>\n",
       "      <th>y</th>\n",
       "      <th>z</th>\n",
       "    </tr>\n",
       "  </thead>\n",
       "  <tbody>\n",
       "    <tr>\n",
       "      <th>0</th>\n",
       "      <td>1</td>\n",
       "      <td>20</td>\n",
       "      <td>1.004</td>\n",
       "      <td>0.090</td>\n",
       "      <td>-0.125</td>\n",
       "    </tr>\n",
       "    <tr>\n",
       "      <th>1</th>\n",
       "      <td>1</td>\n",
       "      <td>20</td>\n",
       "      <td>1.004</td>\n",
       "      <td>-0.043</td>\n",
       "      <td>-0.125</td>\n",
       "    </tr>\n",
       "    <tr>\n",
       "      <th>2</th>\n",
       "      <td>1</td>\n",
       "      <td>20</td>\n",
       "      <td>0.969</td>\n",
       "      <td>0.090</td>\n",
       "      <td>-0.121</td>\n",
       "    </tr>\n",
       "    <tr>\n",
       "      <th>3</th>\n",
       "      <td>1</td>\n",
       "      <td>20</td>\n",
       "      <td>0.973</td>\n",
       "      <td>-0.012</td>\n",
       "      <td>-0.137</td>\n",
       "    </tr>\n",
       "    <tr>\n",
       "      <th>4</th>\n",
       "      <td>1</td>\n",
       "      <td>20</td>\n",
       "      <td>1.000</td>\n",
       "      <td>-0.016</td>\n",
       "      <td>-0.121</td>\n",
       "    </tr>\n",
       "    <tr>\n",
       "      <th>...</th>\n",
       "      <td>...</td>\n",
       "      <td>...</td>\n",
       "      <td>...</td>\n",
       "      <td>...</td>\n",
       "      <td>...</td>\n",
       "    </tr>\n",
       "    <tr>\n",
       "      <th>127495</th>\n",
       "      <td>3</td>\n",
       "      <td>100</td>\n",
       "      <td>0.977</td>\n",
       "      <td>0.145</td>\n",
       "      <td>-0.258</td>\n",
       "    </tr>\n",
       "    <tr>\n",
       "      <th>127496</th>\n",
       "      <td>3</td>\n",
       "      <td>100</td>\n",
       "      <td>0.734</td>\n",
       "      <td>-0.027</td>\n",
       "      <td>0.160</td>\n",
       "    </tr>\n",
       "    <tr>\n",
       "      <th>127497</th>\n",
       "      <td>3</td>\n",
       "      <td>100</td>\n",
       "      <td>1.047</td>\n",
       "      <td>-0.059</td>\n",
       "      <td>-0.289</td>\n",
       "    </tr>\n",
       "    <tr>\n",
       "      <th>127498</th>\n",
       "      <td>3</td>\n",
       "      <td>100</td>\n",
       "      <td>1.023</td>\n",
       "      <td>0.172</td>\n",
       "      <td>-0.145</td>\n",
       "    </tr>\n",
       "    <tr>\n",
       "      <th>127499</th>\n",
       "      <td>3</td>\n",
       "      <td>100</td>\n",
       "      <td>1.195</td>\n",
       "      <td>-0.152</td>\n",
       "      <td>-0.121</td>\n",
       "    </tr>\n",
       "  </tbody>\n",
       "</table>\n",
       "<p>127500 rows × 5 columns</p>\n",
       "</div>"
      ],
      "text/plain": [
       "        wconfid  pctid      x      y      z\n",
       "0             1     20  1.004  0.090 -0.125\n",
       "1             1     20  1.004 -0.043 -0.125\n",
       "2             1     20  0.969  0.090 -0.121\n",
       "3             1     20  0.973 -0.012 -0.137\n",
       "4             1     20  1.000 -0.016 -0.121\n",
       "...         ...    ...    ...    ...    ...\n",
       "127495        3    100  0.977  0.145 -0.258\n",
       "127496        3    100  0.734 -0.027  0.160\n",
       "127497        3    100  1.047 -0.059 -0.289\n",
       "127498        3    100  1.023  0.172 -0.145\n",
       "127499        3    100  1.195 -0.152 -0.121\n",
       "\n",
       "[127500 rows x 5 columns]"
      ]
     },
     "execution_count": 18,
     "metadata": {},
     "output_type": "execute_result"
    }
   ],
   "source": [
    "df"
   ]
  },
  {
   "cell_type": "code",
   "execution_count": 40,
   "id": "c10aa834",
   "metadata": {},
   "outputs": [],
   "source": [
    "X = df.iloc[:,:1]"
   ]
  },
  {
   "cell_type": "code",
   "execution_count": 41,
   "id": "f574f3d1",
   "metadata": {},
   "outputs": [],
   "source": [
    "Y = df1 = df.iloc[:,-3:]"
   ]
  },
  {
   "cell_type": "markdown",
   "id": "ba7bda0a",
   "metadata": {},
   "source": [
    "### Split dataset"
   ]
  },
  {
   "cell_type": "code",
   "execution_count": 42,
   "id": "d2ae8de5",
   "metadata": {},
   "outputs": [],
   "source": [
    "X = np.array(X)\n",
    "Y = np.array(Y)"
   ]
  },
  {
   "cell_type": "code",
   "execution_count": 43,
   "id": "f369ea2d",
   "metadata": {},
   "outputs": [],
   "source": [
    "x_train, x_test, y_train, y_test = train_test_split(X, Y) "
   ]
  },
  {
   "cell_type": "code",
   "execution_count": 53,
   "id": "6bd66afb",
   "metadata": {},
   "outputs": [
    {
     "data": {
      "text/plain": [
       "array([[2],\n",
       "       [3],\n",
       "       [2],\n",
       "       ...,\n",
       "       [3],\n",
       "       [1],\n",
       "       [1]], dtype=int64)"
      ]
     },
     "execution_count": 53,
     "metadata": {},
     "output_type": "execute_result"
    }
   ],
   "source": [
    "x_train"
   ]
  },
  {
   "cell_type": "markdown",
   "id": "fdb1188f",
   "metadata": {},
   "source": [
    "## Model"
   ]
  },
  {
   "cell_type": "code",
   "execution_count": 48,
   "id": "90b24655",
   "metadata": {},
   "outputs": [],
   "source": [
    "model = LinearRegression()"
   ]
  },
  {
   "cell_type": "code",
   "execution_count": 49,
   "id": "2b229001",
   "metadata": {},
   "outputs": [
    {
     "data": {
      "text/plain": [
       "LinearRegression()"
      ]
     },
     "execution_count": 49,
     "metadata": {},
     "output_type": "execute_result"
    }
   ],
   "source": [
    "model.fit(x_train, y_train)"
   ]
  },
  {
   "cell_type": "markdown",
   "id": "86633093",
   "metadata": {},
   "source": [
    "---"
   ]
  },
  {
   "cell_type": "markdown",
   "id": "b26b50cd",
   "metadata": {},
   "source": [
    "### Predict"
   ]
  },
  {
   "cell_type": "code",
   "execution_count": 50,
   "id": "d0e837d7",
   "metadata": {},
   "outputs": [],
   "source": [
    "Y_pred = model.predict(x_test)"
   ]
  },
  {
   "cell_type": "code",
   "execution_count": 51,
   "id": "e3105341",
   "metadata": {},
   "outputs": [
    {
     "data": {
      "text/plain": [
       "array([[ 0.98961614,  0.01064249, -0.11656785],\n",
       "       [ 0.98961614,  0.01064249, -0.11656785],\n",
       "       [ 1.00910776, -0.00260886, -0.12065533],\n",
       "       ...,\n",
       "       [ 0.99936195,  0.00401681, -0.11861159],\n",
       "       [ 1.00910776, -0.00260886, -0.12065533],\n",
       "       [ 0.99936195,  0.00401681, -0.11861159]])"
      ]
     },
     "execution_count": 51,
     "metadata": {},
     "output_type": "execute_result"
    }
   ],
   "source": [
    "Y_pred"
   ]
  },
  {
   "cell_type": "code",
   "execution_count": 52,
   "id": "a01179ed",
   "metadata": {},
   "outputs": [
    {
     "data": {
      "text/plain": [
       "array([[ 1.012, -0.102, -0.125],\n",
       "       [ 1.027,  0.09 , -0.109],\n",
       "       [ 1.   ,  0.031, -0.035],\n",
       "       ...,\n",
       "       [ 0.934,  0.031, -0.09 ],\n",
       "       [-2.012, -0.66 ,  1.836],\n",
       "       [-0.027, -1.816, -0.383]])"
      ]
     },
     "execution_count": 52,
     "metadata": {},
     "output_type": "execute_result"
    }
   ],
   "source": [
    "y_test"
   ]
  },
  {
   "cell_type": "markdown",
   "id": "cd38fa0b",
   "metadata": {},
   "source": [
    "<H3 style=\"color: blue\"> With API</H3>"
   ]
  },
  {
   "cell_type": "code",
   "execution_count": 53,
   "id": "60755280",
   "metadata": {},
   "outputs": [
    {
     "data": {
      "text/plain": [
       "'63agFJFWlXSrS5lQ'"
      ]
     },
     "execution_count": 53,
     "metadata": {},
     "output_type": "execute_result"
    }
   ],
   "source": [
    "example_id"
   ]
  },
  {
   "cell_type": "code",
   "execution_count": 9,
   "id": "0e17932a",
   "metadata": {},
   "outputs": [
    {
     "ename": "SyntaxError",
     "evalue": "invalid syntax (<ipython-input-9-3aed1ef21468>, line 2)",
     "output_type": "error",
     "traceback": [
      "\u001b[1;36m  File \u001b[1;32m\"<ipython-input-9-3aed1ef21468>\"\u001b[1;36m, line \u001b[1;32m2\u001b[0m\n\u001b[1;33m    https://www.esgf-server-staging.herokuapp.com/predict?api_key=api_key&example_id=example_id&prediction=Y_pred\u001b[0m\n\u001b[1;37m          ^\u001b[0m\n\u001b[1;31mSyntaxError\u001b[0m\u001b[1;31m:\u001b[0m invalid syntax\n"
     ]
    }
   ],
   "source": [
    "# Example URL to submit your prediction for a given example id\n",
    "https://www.esgf-server-staging.herokuapp.com/predict?api_key=api_key&example_id=example_id&prediction=Y_pred\n",
    "\n",
    "# Your receive an observation from timestep 0 to 31, you make a prediction for the x,y,z values at time 32 !"
   ]
  },
  {
   "cell_type": "code",
   "execution_count": null,
   "id": "5c33d3c1",
   "metadata": {},
   "outputs": [],
   "source": []
  }
 ],
 "metadata": {
  "kernelspec": {
   "display_name": "Python 3",
   "language": "python",
   "name": "python3"
  },
  "language_info": {
   "codemirror_mode": {
    "name": "ipython",
    "version": 3
   },
   "file_extension": ".py",
   "mimetype": "text/x-python",
   "name": "python",
   "nbconvert_exporter": "python",
   "pygments_lexer": "ipython3",
   "version": "3.8.8"
  }
 },
 "nbformat": 4,
 "nbformat_minor": 5
}
