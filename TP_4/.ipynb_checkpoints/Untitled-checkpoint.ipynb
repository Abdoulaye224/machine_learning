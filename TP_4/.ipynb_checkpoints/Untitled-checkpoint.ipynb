{
 "cells": [
  {
   "cell_type": "code",
   "execution_count": 1,
   "id": "5ac139ee",
   "metadata": {},
   "outputs": [],
   "source": [
    "import requests # see https://fr.python-requests.org/en/latest/\n",
    "from requests.auth import HTTPBasicAuth\n",
    "import json # see https://docs.python.org/fr/3/library/json.html\n",
    "import numpy as np\n",
    "import pandas as pd"
   ]
  },
  {
   "cell_type": "code",
   "execution_count": 2,
   "id": "486c5cf1",
   "metadata": {},
   "outputs": [],
   "source": [
    "import pandas as pd\n",
    "import numpy as np\n",
    "import matplotlib.pyplot as plt\n",
    "from sklearn.preprocessing import MinMaxScaler\n",
    "import math as math\n",
    "from keras.models import Sequential\n",
    "from keras.layers import Dense\n",
    "from keras.layers import LSTM, GRU\n",
    "from keras.layers import Dropout\n",
    "from keras.layers import *\n",
    "from sklearn.metrics import mean_squared_error\n",
    "from sklearn.metrics import mean_absolute_error\n",
    "from sklearn.model_selection import train_test_split\n",
    "from keras.callbacks import EarlyStopping\n",
    "from sklearn.metrics import r2_score\n",
    "from sklearn.ensemble import AdaBoostRegressor, RandomForestRegressor, GradientBoostingRegressor\n",
    "from joblib import parallel_backend\n",
    "\n",
    "from time import time\n",
    "from tensorflow.keras.callbacks import TensorBoard\n",
    "import warnings\n",
    "warnings.filterwarnings('ignore')"
   ]
  },
  {
   "cell_type": "code",
   "execution_count": 46,
   "id": "57f27e8a",
   "metadata": {},
   "outputs": [],
   "source": [
    "from sklearn.linear_model import LinearRegression"
   ]
  },
  {
   "cell_type": "markdown",
   "id": "f5dd1bad",
   "metadata": {},
   "source": [
    "### get data"
   ]
  },
  {
   "cell_type": "code",
   "execution_count": null,
   "id": "81aa6656",
   "metadata": {},
   "outputs": [],
   "source": []
  },
  {
   "cell_type": "code",
   "execution_count": 3,
   "id": "dbce27bf",
   "metadata": {
    "collapsed": true
   },
   "outputs": [
    {
     "name": "stdout",
     "output_type": "stream",
     "text": [
      "{\"id\":\"63agFJFWlXSrS5lQ\",\"x\":\"{\\\"wconfid\\\":{\\\"0\\\":1,\\\"1\\\":1,\\\"2\\\":1,\\\"3\\\":1,\\\"4\\\":1,\\\"5\\\":1,\\\"6\\\":1,\\\"7\\\":1,\\\"8\\\":1,\\\"9\\\":1,\\\"10\\\":1,\\\"11\\\":1,\\\"12\\\":1,\\\"13\\\":1,\\\"14\\\":1,\\\"15\\\":1,\\\"16\\\":1,\\\"17\\\":1,\\\"18\\\":1,\\\"19\\\":1,\\\"20\\\":1,\\\"21\\\":1,\\\"22\\\":1,\\\"23\\\":1,\\\"24\\\":1,\\\"25\\\":1,\\\"26\\\":1,\\\"27\\\":1,\\\"28\\\":1,\\\"29\\\":1,\\\"30\\\":1,\\\"31\\\":1},\\\"pctid\\\":{\\\"0\\\":90,\\\"1\\\":90,\\\"2\\\":90,\\\"3\\\":90,\\\"4\\\":90,\\\"5\\\":90,\\\"6\\\":90,\\\"7\\\":90,\\\"8\\\":90,\\\"9\\\":90,\\\"10\\\":90,\\\"11\\\":90,\\\"12\\\":90,\\\"13\\\":90,\\\"14\\\":90,\\\"15\\\":90,\\\"16\\\":90,\\\"17\\\":90,\\\"18\\\":90,\\\"19\\\":90,\\\"20\\\":90,\\\"21\\\":90,\\\"22\\\":90,\\\"23\\\":90,\\\"24\\\":90,\\\"25\\\":90,\\\"26\\\":90,\\\"27\\\":90,\\\"28\\\":90,\\\"29\\\":90,\\\"30\\\":90,\\\"31\\\":90},\\\"x\\\":{\\\"0\\\":-3.387,\\\"1\\\":-0.453,\\\"2\\\":0.121,\\\"3\\\":2.387,\\\"4\\\":0.367,\\\"5\\\":2.891,\\\"6\\\":0.148,\\\"7\\\":-2.965,\\\"8\\\":-0.457,\\\"9\\\":5.008,\\\"10\\\":2.289,\\\"11\\\":1.414,\\\"12\\\":0.316,\\\"13\\\":0.871,\\\"14\\\":-1.613,\\\"15\\\":0.477,\\\"16\\\":2.762,\\\"17\\\":-0.637,\\\"18\\\":1.395,\\\"19\\\":0.406,\\\"20\\\":2.312,\\\"21\\\":1.051,\\\"22\\\":3.055,\\\"23\\\":1.516,\\\"24\\\":2.441,\\\"25\\\":-1.359,\\\"26\\\":-3.016,\\\"27\\\":3.82,\\\"28\\\":0.035,\\\"29\\\":1.996,\\\"30\\\":0.043,\\\"31\\\":1.703},\\\"y\\\":{\\\"0\\\":-1.602,\\\"1\\\":2.863,\\\"2\\\":3.316,\\\"3\\\":0.988,\\\"4\\\":0.285,\\\"5\\\":0.266,\\\"6\\\":-0.785,\\\"7\\\":-1.184,\\\"8\\\":-1.641,\\\"9\\\":3.785,\\\"10\\\":0.613,\\\"11\\\":-0.227,\\\"12\\\":1.223,\\\"13\\\":1.035,\\\"14\\\":1.668,\\\"15\\\":-0.594,\\\"16\\\":-2.344,\\\"17\\\":3.664,\\\"18\\\":-0.535,\\\"19\\\":-0.125,\\\"20\\\":-0.285,\\\"21\\\":-0.168,\\\"22\\\":-0.156,\\\"23\\\":-3.645,\\\"24\\\":3.098,\\\"25\\\":-0.648,\\\"26\\\":-0.582,\\\"27\\\":-2.238,\\\"28\\\":0.246,\\\"29\\\":-0.469,\\\"30\\\":-3.895,\\\"31\\\":0.73},\\\"z\\\":{\\\"0\\\":-0.168,\\\"1\\\":-1.711,\\\"2\\\":-0.426,\\\"3\\\":0.41,\\\"4\\\":1.477,\\\"5\\\":-2.531,\\\"6\\\":-2.219,\\\"7\\\":0.543,\\\"8\\\":0.359,\\\"9\\\":-0.324,\\\"10\\\":-0.609,\\\"11\\\":1.375,\\\"12\\\":0.023,\\\"13\\\":-1.988,\\\"14\\\":0.039,\\\"15\\\":0.832,\\\"16\\\":1.184,\\\"17\\\":1.172,\\\"18\\\":1.156,\\\"19\\\":-0.68,\\\"20\\\":0.738,\\\"21\\\":0.676,\\\"22\\\":-1.676,\\\"23\\\":-0.613,\\\"24\\\":3.312,\\\"25\\\":1.207,\\\"26\\\":-2.953,\\\"27\\\":-2.219,\\\"28\\\":2.402,\\\"29\\\":1.453,\\\"30\\\":0.488,\\\"31\\\":1.844}}\",\"info\":\"5 samples (495 remaining).\"}\n"
     ]
    }
   ],
   "source": [
    "# Your api key\n",
    "api_key = \"1767f88c-6e71-4d1d-81e6-f6324c83b1e3\"\n",
    "\n",
    "# ESGF server url (Switch to prod for real evaluation)\n",
    "server_url = 'https://esgf-server-staging.herokuapp.com'\n",
    "\n",
    "# Service name (see https://esgf-server-staging.herokuapp.com/docs)\n",
    "service_name = 'get_inference_data'\n",
    "\n",
    "# Service parameters.\n",
    "params = f\"?api_key={api_key}\"\n",
    "\n",
    "# Request header.\n",
    "headers = {\n",
    "       'Accept': 'application/json',\n",
    "       'Authorization' : f\"Bearer {api_key}\"\n",
    "}\n",
    "\n",
    "# Server response. You receive a sample ID (id) that you must send back when you submit your prediction for it !\n",
    "# Note you cannot send a prediction twice for a same sample id.\n",
    "response = requests.get(f\"{server_url}/{service_name}{params}\", headers=headers)\n",
    "\n",
    "# Logs.\n",
    "print(response.text)\n",
    "\n",
    "# Assert valid answer (see https://developer.mozilla.org/fr/docs/Web/HTTP/Status/200)\n",
    "assert response.status_code == 200"
   ]
  },
  {
   "cell_type": "code",
   "execution_count": 4,
   "id": "deec50a7",
   "metadata": {},
   "outputs": [
    {
     "name": "stdout",
     "output_type": "stream",
     "text": [
      "Sample ID='63agFJFWlXSrS5lQ' has shape (32, 5)\n"
     ]
    }
   ],
   "source": [
    "# Server answer as json. Dictionary with keys 'id' and 'x'\n",
    "json_answer = response.json()\n",
    "\n",
    "# Example id\n",
    "example_id = json_answer['id']\n",
    "\n",
    "# Parse str answer as json object\n",
    "json_answer = json.loads(json_answer['x'])\n",
    "\n",
    "# Frame answer\n",
    "pd_sample = pd.DataFrame(json_answer)\n",
    "\n",
    "# Logs. You should have (32,5).\n",
    "print(\"Sample ID='{}' has shape {}\".format(example_id, pd_sample.shape))"
   ]
  },
  {
   "cell_type": "code",
   "execution_count": 5,
   "id": "2d8a1692",
   "metadata": {},
   "outputs": [
    {
     "data": {
      "text/html": [
       "<div>\n",
       "<style scoped>\n",
       "    .dataframe tbody tr th:only-of-type {\n",
       "        vertical-align: middle;\n",
       "    }\n",
       "\n",
       "    .dataframe tbody tr th {\n",
       "        vertical-align: top;\n",
       "    }\n",
       "\n",
       "    .dataframe thead th {\n",
       "        text-align: right;\n",
       "    }\n",
       "</style>\n",
       "<table border=\"1\" class=\"dataframe\">\n",
       "  <thead>\n",
       "    <tr style=\"text-align: right;\">\n",
       "      <th></th>\n",
       "      <th>wconfid</th>\n",
       "      <th>pctid</th>\n",
       "      <th>x</th>\n",
       "      <th>y</th>\n",
       "      <th>z</th>\n",
       "    </tr>\n",
       "  </thead>\n",
       "  <tbody>\n",
       "    <tr>\n",
       "      <th>0</th>\n",
       "      <td>1</td>\n",
       "      <td>90</td>\n",
       "      <td>-3.387</td>\n",
       "      <td>-1.602</td>\n",
       "      <td>-0.168</td>\n",
       "    </tr>\n",
       "    <tr>\n",
       "      <th>1</th>\n",
       "      <td>1</td>\n",
       "      <td>90</td>\n",
       "      <td>-0.453</td>\n",
       "      <td>2.863</td>\n",
       "      <td>-1.711</td>\n",
       "    </tr>\n",
       "    <tr>\n",
       "      <th>2</th>\n",
       "      <td>1</td>\n",
       "      <td>90</td>\n",
       "      <td>0.121</td>\n",
       "      <td>3.316</td>\n",
       "      <td>-0.426</td>\n",
       "    </tr>\n",
       "    <tr>\n",
       "      <th>3</th>\n",
       "      <td>1</td>\n",
       "      <td>90</td>\n",
       "      <td>2.387</td>\n",
       "      <td>0.988</td>\n",
       "      <td>0.410</td>\n",
       "    </tr>\n",
       "    <tr>\n",
       "      <th>4</th>\n",
       "      <td>1</td>\n",
       "      <td>90</td>\n",
       "      <td>0.367</td>\n",
       "      <td>0.285</td>\n",
       "      <td>1.477</td>\n",
       "    </tr>\n",
       "  </tbody>\n",
       "</table>\n",
       "</div>"
      ],
      "text/plain": [
       "   wconfid  pctid      x      y      z\n",
       "0        1     90 -3.387 -1.602 -0.168\n",
       "1        1     90 -0.453  2.863 -1.711\n",
       "2        1     90  0.121  3.316 -0.426\n",
       "3        1     90  2.387  0.988  0.410\n",
       "4        1     90  0.367  0.285  1.477"
      ]
     },
     "execution_count": 5,
     "metadata": {},
     "output_type": "execute_result"
    }
   ],
   "source": [
    "pd_sample.head()"
   ]
  },
  {
   "cell_type": "markdown",
   "id": "3d7af195",
   "metadata": {},
   "source": [
    "## get train data"
   ]
  },
  {
   "cell_type": "code",
   "execution_count": 6,
   "id": "899623f5",
   "metadata": {},
   "outputs": [],
   "source": [
    "df = pd.read_csv('TRAIN.csv')"
   ]
  },
  {
   "cell_type": "code",
   "execution_count": 8,
   "id": "a2205c95",
   "metadata": {
    "collapsed": true
   },
   "outputs": [
    {
     "data": {
      "text/html": [
       "<div>\n",
       "<style scoped>\n",
       "    .dataframe tbody tr th:only-of-type {\n",
       "        vertical-align: middle;\n",
       "    }\n",
       "\n",
       "    .dataframe tbody tr th {\n",
       "        vertical-align: top;\n",
       "    }\n",
       "\n",
       "    .dataframe thead th {\n",
       "        text-align: right;\n",
       "    }\n",
       "</style>\n",
       "<table border=\"1\" class=\"dataframe\">\n",
       "  <thead>\n",
       "    <tr style=\"text-align: right;\">\n",
       "      <th></th>\n",
       "      <th>wconfid</th>\n",
       "      <th>pctid</th>\n",
       "      <th>x</th>\n",
       "      <th>y</th>\n",
       "      <th>z</th>\n",
       "    </tr>\n",
       "  </thead>\n",
       "  <tbody>\n",
       "    <tr>\n",
       "      <th>0</th>\n",
       "      <td>1</td>\n",
       "      <td>20</td>\n",
       "      <td>1.004</td>\n",
       "      <td>0.090</td>\n",
       "      <td>-0.125</td>\n",
       "    </tr>\n",
       "    <tr>\n",
       "      <th>1</th>\n",
       "      <td>1</td>\n",
       "      <td>20</td>\n",
       "      <td>1.004</td>\n",
       "      <td>-0.043</td>\n",
       "      <td>-0.125</td>\n",
       "    </tr>\n",
       "    <tr>\n",
       "      <th>2</th>\n",
       "      <td>1</td>\n",
       "      <td>20</td>\n",
       "      <td>0.969</td>\n",
       "      <td>0.090</td>\n",
       "      <td>-0.121</td>\n",
       "    </tr>\n",
       "    <tr>\n",
       "      <th>3</th>\n",
       "      <td>1</td>\n",
       "      <td>20</td>\n",
       "      <td>0.973</td>\n",
       "      <td>-0.012</td>\n",
       "      <td>-0.137</td>\n",
       "    </tr>\n",
       "    <tr>\n",
       "      <th>4</th>\n",
       "      <td>1</td>\n",
       "      <td>20</td>\n",
       "      <td>1.000</td>\n",
       "      <td>-0.016</td>\n",
       "      <td>-0.121</td>\n",
       "    </tr>\n",
       "    <tr>\n",
       "      <th>...</th>\n",
       "      <td>...</td>\n",
       "      <td>...</td>\n",
       "      <td>...</td>\n",
       "      <td>...</td>\n",
       "      <td>...</td>\n",
       "    </tr>\n",
       "    <tr>\n",
       "      <th>127495</th>\n",
       "      <td>3</td>\n",
       "      <td>100</td>\n",
       "      <td>0.977</td>\n",
       "      <td>0.145</td>\n",
       "      <td>-0.258</td>\n",
       "    </tr>\n",
       "    <tr>\n",
       "      <th>127496</th>\n",
       "      <td>3</td>\n",
       "      <td>100</td>\n",
       "      <td>0.734</td>\n",
       "      <td>-0.027</td>\n",
       "      <td>0.160</td>\n",
       "    </tr>\n",
       "    <tr>\n",
       "      <th>127497</th>\n",
       "      <td>3</td>\n",
       "      <td>100</td>\n",
       "      <td>1.047</td>\n",
       "      <td>-0.059</td>\n",
       "      <td>-0.289</td>\n",
       "    </tr>\n",
       "    <tr>\n",
       "      <th>127498</th>\n",
       "      <td>3</td>\n",
       "      <td>100</td>\n",
       "      <td>1.023</td>\n",
       "      <td>0.172</td>\n",
       "      <td>-0.145</td>\n",
       "    </tr>\n",
       "    <tr>\n",
       "      <th>127499</th>\n",
       "      <td>3</td>\n",
       "      <td>100</td>\n",
       "      <td>1.195</td>\n",
       "      <td>-0.152</td>\n",
       "      <td>-0.121</td>\n",
       "    </tr>\n",
       "  </tbody>\n",
       "</table>\n",
       "<p>127500 rows × 5 columns</p>\n",
       "</div>"
      ],
      "text/plain": [
       "        wconfid  pctid      x      y      z\n",
       "0             1     20  1.004  0.090 -0.125\n",
       "1             1     20  1.004 -0.043 -0.125\n",
       "2             1     20  0.969  0.090 -0.121\n",
       "3             1     20  0.973 -0.012 -0.137\n",
       "4             1     20  1.000 -0.016 -0.121\n",
       "...         ...    ...    ...    ...    ...\n",
       "127495        3    100  0.977  0.145 -0.258\n",
       "127496        3    100  0.734 -0.027  0.160\n",
       "127497        3    100  1.047 -0.059 -0.289\n",
       "127498        3    100  1.023  0.172 -0.145\n",
       "127499        3    100  1.195 -0.152 -0.121\n",
       "\n",
       "[127500 rows x 5 columns]"
      ]
     },
     "execution_count": 8,
     "metadata": {},
     "output_type": "execute_result"
    }
   ],
   "source": [
    "df"
   ]
  },
  {
   "cell_type": "code",
   "execution_count": 25,
   "id": "19af1675",
   "metadata": {},
   "outputs": [],
   "source": [
    "X = df.iloc[:,:1]"
   ]
  },
  {
   "cell_type": "code",
   "execution_count": 35,
   "id": "e263311d",
   "metadata": {},
   "outputs": [],
   "source": [
    "Y = df1 = df.iloc[:,-3:]"
   ]
  },
  {
   "cell_type": "markdown",
   "id": "65b21deb",
   "metadata": {},
   "source": [
    "### Split dataset"
   ]
  },
  {
   "cell_type": "code",
   "execution_count": 42,
   "id": "4ab7fee9",
   "metadata": {},
   "outputs": [],
   "source": [
    "sc = MinMaxScaler(feature_range=(0,1))\n",
    "X = sc.fit_transform(X)\n",
    "Y = sc.fit_transform(Y)"
   ]
  },
  {
   "cell_type": "code",
   "execution_count": 43,
   "id": "997f21aa",
   "metadata": {},
   "outputs": [],
   "source": [
    "x_train, x_test, y_train, y_test = train_test_split(X, Y, test_size=0.2) "
   ]
  },
  {
   "cell_type": "code",
   "execution_count": 45,
   "id": "ea3800ea",
   "metadata": {},
   "outputs": [
    {
     "data": {
      "text/plain": [
       "array([[1.],\n",
       "       [0.],\n",
       "       [1.],\n",
       "       ...,\n",
       "       [1.],\n",
       "       [1.],\n",
       "       [0.]])"
      ]
     },
     "execution_count": 45,
     "metadata": {},
     "output_type": "execute_result"
    }
   ],
   "source": [
    "x_train"
   ]
  },
  {
   "cell_type": "markdown",
   "id": "04e2e130",
   "metadata": {},
   "source": [
    "## Model"
   ]
  },
  {
   "cell_type": "code",
   "execution_count": 47,
   "id": "7407eb31",
   "metadata": {},
   "outputs": [],
   "source": [
    "model = LinearRegression()"
   ]
  },
  {
   "cell_type": "code",
   "execution_count": 48,
   "id": "3a18af95",
   "metadata": {},
   "outputs": [
    {
     "data": {
      "text/plain": [
       "LinearRegression()"
      ]
     },
     "execution_count": 48,
     "metadata": {},
     "output_type": "execute_result"
    }
   ],
   "source": [
    "model.fit(x_train, y_train)"
   ]
  },
  {
   "cell_type": "markdown",
   "id": "0650dd99",
   "metadata": {},
   "source": [
    "---"
   ]
  },
  {
   "cell_type": "markdown",
   "id": "4a2ed807",
   "metadata": {},
   "source": [
    "### Predict"
   ]
  },
  {
   "cell_type": "code",
   "execution_count": 49,
   "id": "9125fb76",
   "metadata": {},
   "outputs": [],
   "source": [
    "Y_pred = model.predict(x_test)"
   ]
  },
  {
   "cell_type": "code",
   "execution_count": 50,
   "id": "8f03b245",
   "metadata": {
    "collapsed": true
   },
   "outputs": [
    {
     "data": {
      "text/plain": [
       "array([[0.56237866, 0.50043052, 0.48093627],\n",
       "       [0.56237866, 0.50043052, 0.48093627],\n",
       "       [0.56194549, 0.50078056, 0.48106174],\n",
       "       ...,\n",
       "       [0.56237866, 0.50043052, 0.48093627],\n",
       "       [0.56281183, 0.50008048, 0.4808108 ],\n",
       "       [0.56194549, 0.50078056, 0.48106174]])"
      ]
     },
     "execution_count": 50,
     "metadata": {},
     "output_type": "execute_result"
    }
   ],
   "source": [
    "Y_pred"
   ]
  },
  {
   "cell_type": "code",
   "execution_count": 51,
   "id": "a5f75a8c",
   "metadata": {},
   "outputs": [
    {
     "data": {
      "text/plain": [
       "array([[0.49131033, 0.75993998, 0.6339831 ],\n",
       "       [0.56045261, 0.50475119, 0.45160211],\n",
       "       [0.56532883, 0.50037509, 0.48172007],\n",
       "       ...,\n",
       "       [0.56407852, 0.48549637, 0.48431356],\n",
       "       [0.55726432, 0.49206052, 0.46205973],\n",
       "       [0.56289072, 0.49618655, 0.48330963]])"
      ]
     },
     "execution_count": 51,
     "metadata": {},
     "output_type": "execute_result"
    }
   ],
   "source": [
    "y_test"
   ]
  },
  {
   "cell_type": "markdown",
   "id": "d27728df",
   "metadata": {},
   "source": [
    "<H3 style=\"color: blue\"> With API</H3>"
   ]
  },
  {
   "cell_type": "code",
   "execution_count": 53,
   "id": "49fa4bc0",
   "metadata": {},
   "outputs": [
    {
     "data": {
      "text/plain": [
       "'63agFJFWlXSrS5lQ'"
      ]
     },
     "execution_count": 53,
     "metadata": {},
     "output_type": "execute_result"
    }
   ],
   "source": [
    "example_id"
   ]
  },
  {
   "cell_type": "code",
   "execution_count": 58,
   "id": "303faef0",
   "metadata": {},
   "outputs": [
    {
     "ename": "SyntaxError",
     "evalue": "invalid syntax (<ipython-input-58-8878f19f56c3>, line 2)",
     "output_type": "error",
     "traceback": [
      "\u001b[1;36m  File \u001b[1;32m\"<ipython-input-58-8878f19f56c3>\"\u001b[1;36m, line \u001b[1;32m2\u001b[0m\n\u001b[1;33m    https:/esgf-server-staging.herokuapp.com/predict?api_key=api_key&example_id=example_id&prediction=1.0854,1.4223,100\u001b[0m\n\u001b[1;37m          ^\u001b[0m\n\u001b[1;31mSyntaxError\u001b[0m\u001b[1;31m:\u001b[0m invalid syntax\n"
     ]
    }
   ],
   "source": [
    "# Example URL to submit your prediction for a given example id\n",
    "https://esgf-server-staging.herokuapp.com/predict?api_key=api_key&example_id=example_id&prediction=1.0854,1.4223,100\n",
    "\n",
    "# Your receive an observation from timestep 0 to 31, you make a prediction for the x,y,z values at time 32 !"
   ]
  },
  {
   "cell_type": "code",
   "execution_count": null,
   "id": "4d587637",
   "metadata": {},
   "outputs": [],
   "source": []
  }
 ],
 "metadata": {
  "kernelspec": {
   "display_name": "Python 3",
   "language": "python",
   "name": "python3"
  },
  "language_info": {
   "codemirror_mode": {
    "name": "ipython",
    "version": 3
   },
   "file_extension": ".py",
   "mimetype": "text/x-python",
   "name": "python",
   "nbconvert_exporter": "python",
   "pygments_lexer": "ipython3",
   "version": "3.8.8"
  }
 },
 "nbformat": 4,
 "nbformat_minor": 5
}
