{
 "cells": [
  {
   "cell_type": "code",
   "execution_count": null,
   "id": "33c1e7d3",
   "metadata": {},
   "outputs": [],
   "source": [
    "\n",
    "query = \"\"\"\n",
    "SELECT Country, avg(Quantity) as mean\n",
    "FROM data\n",
    "group by Country\n",
    "order by mean desc\n",
    "\"\"\"\n",
    "df_view = sqldf.run(query)\n",
    "df_view.head()\n"
   ]
  },
  {
   "cell_type": "code",
   "execution_count": 24,
   "id": "0723d1ff",
   "metadata": {},
   "outputs": [],
   "source": [
    "test=df_view[df_view.notna()]"
   ]
  },
  {
   "cell_type": "code",
   "execution_count": 25,
   "id": "42592899",
   "metadata": {},
   "outputs": [],
   "source": [
    "x = [df_view.Country]\n",
    "y = [df_view.mean]"
   ]
  },
  {
   "cell_type": "code",
   "execution_count": 26,
   "id": "021e0ed6",
   "metadata": {},
   "outputs": [],
   "source": [
    "disp = test.head(10)"
   ]
  },
  {
   "cell_type": "code",
   "execution_count": 27,
   "id": "c90acccc",
   "metadata": {
    "scrolled": true
   },
   "outputs": [
    {
     "data": {
      "text/plain": [
       "<AxesSubplot:xlabel='Country'>"
      ]
     },
     "execution_count": 27,
     "metadata": {},
     "output_type": "execute_result"
    },
    {
     "data": {
      "image/png": "[encoded data removed]",
      "text/plain": [
       "<Figure size 432x288 with 1 Axes>"
      ]
     },
     "metadata": {
      "needs_background": "light"
     },
     "output_type": "display_data"
    }
   ],
   "source": [
    "disp.plot(kind='bar',x='Country', y='mean')"
   ]
  },
  {
   "cell_type": "code",
   "execution_count": 237,
   "id": "3db12772",
   "metadata": {},
   "outputs": [
    {
     "data": {
      "text/plain": [
       "3202942.48"
      ]
     },
     "execution_count": 237,
     "metadata": {},
     "output_type": "execute_result"
    }
   ],
   "source": [
    "3.8 * data_model[(data_model['year']==2011) & (data_model['month']==12)].cart_amount.sum()"
   ]
  },
  {
   "cell_type": "code",
   "execution_count": 234,
   "id": "e51568e7",
   "metadata": {},
   "outputs": [
    {
     "data": {
      "text/plain": [
       "548064.7100000001"
      ]
     },
     "execution_count": 234,
     "metadata": {},
     "output_type": "execute_result"
    }
   ],
   "source": [
    "data_model[(data_model['year']==2011) & (data_model['month']==2)].cart_amount.sum()"
   ]
  },
  {
   "cell_type": "code",
   "execution_count": 235,
   "id": "7cbc1969",
   "metadata": {
    "scrolled": true
   },
   "outputs": [
    {
     "data": {
      "text/plain": [
       "896181.85"
      ]
     },
     "execution_count": 235,
     "metadata": {},
     "output_type": "execute_result"
    }
   ],
   "source": [
    "data_model[(data_model['year']==2010) & (data_model['month']==12)].cart_amount.sum()"
   ]
  },
  {
   "cell_type": "code",
   "execution_count": null,
   "id": "dc601081",
   "metadata": {},
   "outputs": [],
   "source": [
    "plt.figure()\n",
    "\n",
    "\n",
    "#Australia\n",
    "plt.subplot(221)\n",
    "plt.plot(evol_Australia['month'], evol_Australia['median'])\n",
    "plt.title('median evolution of Australia')\n",
    "plt.grid(True)\n",
    "\n",
    "plt.subplot(222)\n",
    "plt.plot(evol_Australia['month'], evol_Australia['average'])\n",
    "plt.title('average evolution of Australia')\n",
    "plt.grid(True)\n",
    "\n",
    "#EIRE\n",
    "plt.subplot(223)\n",
    "plt.plot(evol_EIRE['month'], evol_EIRE['median'])\n",
    "plt.title('median evolution of EIRE')\n",
    "plt.grid(True)\n",
    "\n",
    "plt.subplot(224)\n",
    "plt.plot(evol_EIRE['month'], evol_EIRE['median'])\n",
    "plt.title('average evolution of EIRE')\n",
    "plt.grid(True)\n",
    "\n",
    "#France\n",
    "#plt.subplot(225)\n",
    "#plt.plot(evol_France['month'], evol_France['median'])\n",
    "#plt.title('median evolution of France')\n",
    "#plt.grid(True)\n",
    "\n",
    "#plt.subplot(226)\n",
    "#plt.plot(evol_France['month'], evol_France['median'])\n",
    "#plt.title('average evolution of France')\n",
    "#plt.grid(True)\n",
    "\n",
    "\n",
    "#PLot\n",
    "plt.subplots_adjust(top=1, bottom=0.02, left=1, right=2, hspace=0.25,\n",
    "                    wspace=0.35)\n",
    "plt.show()\n"
   ]
  }
 ],
 "metadata": {
  "kernelspec": {
   "display_name": "Python 3 (ipykernel)",
   "language": "python",
   "name": "python3"
  },
  "language_info": {
   "codemirror_mode": {
    "name": "ipython",
    "version": 3
   },
   "file_extension": ".py",
   "mimetype": "text/x-python",
   "name": "python",
   "nbconvert_exporter": "python",
   "pygments_lexer": "ipython3",
   "version": "3.9.5"
  }
 },
 "nbformat": 4,
 "nbformat_minor": 5
}
